{
 "cells": [
  {
   "cell_type": "markdown",
   "id": "6244f984",
   "metadata": {
    "tags": []
   },
   "source": [
    "PA2 Notebook 1: Fetch Data\n",
    "===\n",
    "\n",
    "\n",
    "This is the first notebook for DRWI Pollution Assessment Stage 2 (PA2) analysis.\n",
    "It fetches and prepares all the input data and modeling necessary for the Stage 2 Assessment.\n",
    "\n",
    "The general data fectching pipeline is to:\n",
    "- Run Model My Watershed (MMW) Multi-Year Model (GWLF-E)\n",
    "  -  for every HUC12 in DRWI.\n",
    "- Proccess MMW HUC12 results through [WikiSRAT microservice](https://github.com/TheAcademyofNaturalSciences/WikiSRATMicroService) API.\n",
    "  - WikiSRAT downscales HUC12 loads to NHD+v2 catchments and route pollution through the NHD+v2 stream reach network. \n",
    "  - WikiSRAT runs group MMW HUC12 results by HUC8 to properly route loads through the stream network.\n",
    "  - Stream network routing includes attenuation due to physical and biological processes within surface waters. \n",
    "  - WikiSRAT gets run multiple times to simulate:\n",
    "    - Baseline results, with no restoration or protection practices.\n",
    "    - Restoration results, which include 3 run groups\n",
    "    - Protection results\n",
    "- Read, organize, and save combined results for PA2 analysis calculations (Notebook 2)."
   ]
  },
  {
   "attachments": {},
   "cell_type": "markdown",
   "id": "c1d094d8",
   "metadata": {},
   "source": [
    "# Installation and Setup\n",
    "\n",
    "Carefully follow our **[Installation Instructions](README.md#get-started)**, especially including:\n",
    "- Creating a virtual environment for this repository (step 3)"
   ]
  },
  {
   "cell_type": "markdown",
   "id": "b30b2a24",
   "metadata": {},
   "source": [
    "## Import Python Dependencies"
   ]
  },
  {
   "cell_type": "code",
   "execution_count": 1,
   "id": "45a593b9",
   "metadata": {},
   "outputs": [],
   "source": [
    "from pathlib import Path\n",
    "\n",
    "import numpy as np\n",
    "import pandas as pd\n",
    "import geopandas as gpd"
   ]
  },
  {
   "cell_type": "code",
   "execution_count": 2,
   "id": "c4808fb8",
   "metadata": {},
   "outputs": [
    {
     "data": {
      "application/javascript": "(function(root) {\n  function now() {\n    return new Date();\n  }\n\n  var force = true;\n  var py_version = '3.2.1'.replace('rc', '-rc.').replace('.dev', '-dev.');\n  var reloading = false;\n  var Bokeh = root.Bokeh;\n\n  if (typeof (root._bokeh_timeout) === \"undefined\" || force) {\n    root._bokeh_timeout = Date.now() + 5000;\n    root._bokeh_failed_load = false;\n  }\n\n  function run_callbacks() {\n    try {\n      root._bokeh_onload_callbacks.forEach(function(callback) {\n        if (callback != null)\n          callback();\n      });\n    } finally {\n      delete root._bokeh_onload_callbacks;\n    }\n    console.debug(\"Bokeh: all callbacks have finished\");\n  }\n\n  function load_libs(css_urls, js_urls, js_modules, js_exports, callback) {\n    if (css_urls == null) css_urls = [];\n    if (js_urls == null) js_urls = [];\n    if (js_modules == null) js_modules = [];\n    if (js_exports == null) js_exports = {};\n\n    root._bokeh_onload_callbacks.push(callback);\n\n    if (root._bokeh_is_loading > 0) {\n      console.debug(\"Bokeh: BokehJS is being loaded, scheduling callback at\", now());\n      return null;\n    }\n    if (js_urls.length === 0 && js_modules.length === 0 && Object.keys(js_exports).length === 0) {\n      run_callbacks();\n      return null;\n    }\n    if (!reloading) {\n      console.debug(\"Bokeh: BokehJS not loaded, scheduling load and callback at\", now());\n    }\n\n    function on_load() {\n      root._bokeh_is_loading--;\n      if (root._bokeh_is_loading === 0) {\n        console.debug(\"Bokeh: all BokehJS libraries/stylesheets loaded\");\n        run_callbacks()\n      }\n    }\n    window._bokeh_on_load = on_load\n\n    function on_error() {\n      console.error(\"failed to load \" + url);\n    }\n\n    var skip = [];\n    if (window.requirejs) {\n      window.requirejs.config({'packages': {}, 'paths': {'jspanel': 'https://cdn.jsdelivr.net/npm/jspanel4@4.12.0/dist/jspanel', 'jspanel-modal': 'https://cdn.jsdelivr.net/npm/jspanel4@4.12.0/dist/extensions/modal/jspanel.modal', 'jspanel-tooltip': 'https://cdn.jsdelivr.net/npm/jspanel4@4.12.0/dist/extensions/tooltip/jspanel.tooltip', 'jspanel-hint': 'https://cdn.jsdelivr.net/npm/jspanel4@4.12.0/dist/extensions/hint/jspanel.hint', 'jspanel-layout': 'https://cdn.jsdelivr.net/npm/jspanel4@4.12.0/dist/extensions/layout/jspanel.layout', 'jspanel-contextmenu': 'https://cdn.jsdelivr.net/npm/jspanel4@4.12.0/dist/extensions/contextmenu/jspanel.contextmenu', 'jspanel-dock': 'https://cdn.jsdelivr.net/npm/jspanel4@4.12.0/dist/extensions/dock/jspanel.dock', 'gridstack': 'https://cdn.jsdelivr.net/npm/gridstack@7.2.3/dist/gridstack-all', 'notyf': 'https://cdn.jsdelivr.net/npm/notyf@3/notyf.min'}, 'shim': {'jspanel': {'exports': 'jsPanel'}, 'gridstack': {'exports': 'GridStack'}}});\n      require([\"jspanel\"], function(jsPanel) {\n\twindow.jsPanel = jsPanel\n\ton_load()\n      })\n      require([\"jspanel-modal\"], function() {\n\ton_load()\n      })\n      require([\"jspanel-tooltip\"], function() {\n\ton_load()\n      })\n      require([\"jspanel-hint\"], function() {\n\ton_load()\n      })\n      require([\"jspanel-layout\"], function() {\n\ton_load()\n      })\n      require([\"jspanel-contextmenu\"], function() {\n\ton_load()\n      })\n      require([\"jspanel-dock\"], function() {\n\ton_load()\n      })\n      require([\"gridstack\"], function(GridStack) {\n\twindow.GridStack = GridStack\n\ton_load()\n      })\n      require([\"notyf\"], function() {\n\ton_load()\n      })\n      root._bokeh_is_loading = css_urls.length + 9;\n    } else {\n      root._bokeh_is_loading = css_urls.length + js_urls.length + js_modules.length + Object.keys(js_exports).length;\n    }\n\n    var existing_stylesheets = []\n    var links = document.getElementsByTagName('link')\n    for (var i = 0; i < links.length; i++) {\n      var link = links[i]\n      if (link.href != null) {\n\texisting_stylesheets.push(link.href)\n      }\n    }\n    for (var i = 0; i < css_urls.length; i++) {\n      var url = css_urls[i];\n      if (existing_stylesheets.indexOf(url) !== -1) {\n\ton_load()\n\tcontinue;\n      }\n      const element = document.createElement(\"link\");\n      element.onload = on_load;\n      element.onerror = on_error;\n      element.rel = \"stylesheet\";\n      element.type = \"text/css\";\n      element.href = url;\n      console.debug(\"Bokeh: injecting link tag for BokehJS stylesheet: \", url);\n      document.body.appendChild(element);\n    }    if (((window['jsPanel'] !== undefined) && (!(window['jsPanel'] instanceof HTMLElement))) || window.requirejs) {\n      var urls = ['https://cdn.holoviz.org/panel/1.3.4/dist/bundled/floatpanel/jspanel4@4.12.0/dist/jspanel.js', 'https://cdn.holoviz.org/panel/1.3.4/dist/bundled/floatpanel/jspanel4@4.12.0/dist/extensions/modal/jspanel.modal.js', 'https://cdn.holoviz.org/panel/1.3.4/dist/bundled/floatpanel/jspanel4@4.12.0/dist/extensions/tooltip/jspanel.tooltip.js', 'https://cdn.holoviz.org/panel/1.3.4/dist/bundled/floatpanel/jspanel4@4.12.0/dist/extensions/hint/jspanel.hint.js', 'https://cdn.holoviz.org/panel/1.3.4/dist/bundled/floatpanel/jspanel4@4.12.0/dist/extensions/layout/jspanel.layout.js', 'https://cdn.holoviz.org/panel/1.3.4/dist/bundled/floatpanel/jspanel4@4.12.0/dist/extensions/contextmenu/jspanel.contextmenu.js', 'https://cdn.holoviz.org/panel/1.3.4/dist/bundled/floatpanel/jspanel4@4.12.0/dist/extensions/dock/jspanel.dock.js'];\n      for (var i = 0; i < urls.length; i++) {\n        skip.push(urls[i])\n      }\n    }    if (((window['GridStack'] !== undefined) && (!(window['GridStack'] instanceof HTMLElement))) || window.requirejs) {\n      var urls = ['https://cdn.holoviz.org/panel/1.3.4/dist/bundled/gridstack/gridstack@7.2.3/dist/gridstack-all.js'];\n      for (var i = 0; i < urls.length; i++) {\n        skip.push(urls[i])\n      }\n    }    if (((window['Notyf'] !== undefined) && (!(window['Notyf'] instanceof HTMLElement))) || window.requirejs) {\n      var urls = ['https://cdn.holoviz.org/panel/1.3.4/dist/bundled/notificationarea/notyf@3/notyf.min.js'];\n      for (var i = 0; i < urls.length; i++) {\n        skip.push(urls[i])\n      }\n    }    var existing_scripts = []\n    var scripts = document.getElementsByTagName('script')\n    for (var i = 0; i < scripts.length; i++) {\n      var script = scripts[i]\n      if (script.src != null) {\n\texisting_scripts.push(script.src)\n      }\n    }\n    for (var i = 0; i < js_urls.length; i++) {\n      var url = js_urls[i];\n      if (skip.indexOf(url) !== -1 || existing_scripts.indexOf(url) !== -1) {\n\tif (!window.requirejs) {\n\t  on_load();\n\t}\n\tcontinue;\n      }\n      var element = document.createElement('script');\n      element.onload = on_load;\n      element.onerror = on_error;\n      element.async = false;\n      element.src = url;\n      console.debug(\"Bokeh: injecting script tag for BokehJS library: \", url);\n      document.head.appendChild(element);\n    }\n    for (var i = 0; i < js_modules.length; i++) {\n      var url = js_modules[i];\n      if (skip.indexOf(url) !== -1 || existing_scripts.indexOf(url) !== -1) {\n\tif (!window.requirejs) {\n\t  on_load();\n\t}\n\tcontinue;\n      }\n      var element = document.createElement('script');\n      element.onload = on_load;\n      element.onerror = on_error;\n      element.async = false;\n      element.src = url;\n      element.type = \"module\";\n      console.debug(\"Bokeh: injecting script tag for BokehJS library: \", url);\n      document.head.appendChild(element);\n    }\n    for (const name in js_exports) {\n      var url = js_exports[name];\n      if (skip.indexOf(url) >= 0 || root[name] != null) {\n\tif (!window.requirejs) {\n\t  on_load();\n\t}\n\tcontinue;\n      }\n      var element = document.createElement('script');\n      element.onerror = on_error;\n      element.async = false;\n      element.type = \"module\";\n      console.debug(\"Bokeh: injecting script tag for BokehJS library: \", url);\n      element.textContent = `\n      import ${name} from \"${url}\"\n      window.${name} = ${name}\n      window._bokeh_on_load()\n      `\n      document.head.appendChild(element);\n    }\n    if (!js_urls.length && !js_modules.length) {\n      on_load()\n    }\n  };\n\n  function inject_raw_css(css) {\n    const element = document.createElement(\"style\");\n    element.appendChild(document.createTextNode(css));\n    document.body.appendChild(element);\n  }\n\n  var js_urls = [\"https://cdn.bokeh.org/bokeh/release/bokeh-3.2.1.min.js\", \"https://cdn.bokeh.org/bokeh/release/bokeh-gl-3.2.1.min.js\", \"https://cdn.bokeh.org/bokeh/release/bokeh-widgets-3.2.1.min.js\", \"https://cdn.bokeh.org/bokeh/release/bokeh-tables-3.2.1.min.js\", \"https://cdn.holoviz.org/panel/1.3.4/dist/panel.min.js\", \"https://cdn.jsdelivr.net/npm/@holoviz/geoviews@1.11.0/dist/geoviews.min.js\"];\n  var js_modules = [];\n  var js_exports = {};\n  var css_urls = [];\n  var inline_js = [    function(Bokeh) {\n      Bokeh.set_log_level(\"info\");\n    },\nfunction(Bokeh) {} // ensure no trailing comma for IE\n  ];\n\n  function run_inline_js() {\n    if ((root.Bokeh !== undefined) || (force === true)) {\n      for (var i = 0; i < inline_js.length; i++) {\n\ttry {\n          inline_js[i].call(root, root.Bokeh);\n\t} catch(e) {\n\t  if (!reloading) {\n\t    throw e;\n\t  }\n\t}\n      }\n      // Cache old bokeh versions\n      if (Bokeh != undefined && !reloading) {\n\tvar NewBokeh = root.Bokeh;\n\tif (Bokeh.versions === undefined) {\n\t  Bokeh.versions = new Map();\n\t}\n\tif (NewBokeh.version !== Bokeh.version) {\n\t  Bokeh.versions.set(NewBokeh.version, NewBokeh)\n\t}\n\troot.Bokeh = Bokeh;\n      }} else if (Date.now() < root._bokeh_timeout) {\n      setTimeout(run_inline_js, 100);\n    } else if (!root._bokeh_failed_load) {\n      console.log(\"Bokeh: BokehJS failed to load within specified timeout.\");\n      root._bokeh_failed_load = true;\n    }\n    root._bokeh_is_initializing = false\n  }\n\n  function load_or_wait() {\n    // Implement a backoff loop that tries to ensure we do not load multiple\n    // versions of Bokeh and its dependencies at the same time.\n    // In recent versions we use the root._bokeh_is_initializing flag\n    // to determine whether there is an ongoing attempt to initialize\n    // bokeh, however for backward compatibility we also try to ensure\n    // that we do not start loading a newer (Panel>=1.0 and Bokeh>3) version\n    // before older versions are fully initialized.\n    if (root._bokeh_is_initializing && Date.now() > root._bokeh_timeout) {\n      root._bokeh_is_initializing = false;\n      root._bokeh_onload_callbacks = undefined;\n      console.log(\"Bokeh: BokehJS was loaded multiple times but one version failed to initialize.\");\n      load_or_wait();\n    } else if (root._bokeh_is_initializing || (typeof root._bokeh_is_initializing === \"undefined\" && root._bokeh_onload_callbacks !== undefined)) {\n      setTimeout(load_or_wait, 100);\n    } else {\n      root._bokeh_is_initializing = true\n      root._bokeh_onload_callbacks = []\n      var bokeh_loaded = Bokeh != null && (Bokeh.version === py_version || (Bokeh.versions !== undefined && Bokeh.versions.has(py_version)));\n      if (!reloading && !bokeh_loaded) {\n\troot.Bokeh = undefined;\n      }\n      load_libs(css_urls, js_urls, js_modules, js_exports, function() {\n\tconsole.debug(\"Bokeh: BokehJS plotting callback run at\", now());\n\trun_inline_js();\n      });\n    }\n  }\n  // Give older versions of the autoload script a head-start to ensure\n  // they initialize before we start loading newer version.\n  setTimeout(load_or_wait, 100)\n}(window));",
      "application/vnd.holoviews_load.v0+json": ""
     },
     "metadata": {},
     "output_type": "display_data"
    },
    {
     "data": {
      "application/javascript": "\nif ((window.PyViz === undefined) || (window.PyViz instanceof HTMLElement)) {\n  window.PyViz = {comms: {}, comm_status:{}, kernels:{}, receivers: {}, plot_index: []}\n}\n\n\n    function JupyterCommManager() {\n    }\n\n    JupyterCommManager.prototype.register_target = function(plot_id, comm_id, msg_handler) {\n      if (window.comm_manager || ((window.Jupyter !== undefined) && (Jupyter.notebook.kernel != null))) {\n        var comm_manager = window.comm_manager || Jupyter.notebook.kernel.comm_manager;\n        comm_manager.register_target(comm_id, function(comm) {\n          comm.on_msg(msg_handler);\n        });\n      } else if ((plot_id in window.PyViz.kernels) && (window.PyViz.kernels[plot_id])) {\n        window.PyViz.kernels[plot_id].registerCommTarget(comm_id, function(comm) {\n          comm.onMsg = msg_handler;\n        });\n      } else if (typeof google != 'undefined' && google.colab.kernel != null) {\n        google.colab.kernel.comms.registerTarget(comm_id, (comm) => {\n          var messages = comm.messages[Symbol.asyncIterator]();\n          function processIteratorResult(result) {\n            var message = result.value;\n            console.log(message)\n            var content = {data: message.data, comm_id};\n            var buffers = []\n            for (var buffer of message.buffers || []) {\n              buffers.push(new DataView(buffer))\n            }\n            var metadata = message.metadata || {};\n            var msg = {content, buffers, metadata}\n            msg_handler(msg);\n            return messages.next().then(processIteratorResult);\n          }\n          return messages.next().then(processIteratorResult);\n        })\n      }\n    }\n\n    JupyterCommManager.prototype.get_client_comm = function(plot_id, comm_id, msg_handler) {\n      if (comm_id in window.PyViz.comms) {\n        return window.PyViz.comms[comm_id];\n      } else if (window.comm_manager || ((window.Jupyter !== undefined) && (Jupyter.notebook.kernel != null))) {\n        var comm_manager = window.comm_manager || Jupyter.notebook.kernel.comm_manager;\n        var comm = comm_manager.new_comm(comm_id, {}, {}, {}, comm_id);\n        if (msg_handler) {\n          comm.on_msg(msg_handler);\n        }\n      } else if ((plot_id in window.PyViz.kernels) && (window.PyViz.kernels[plot_id])) {\n        var comm = window.PyViz.kernels[plot_id].connectToComm(comm_id);\n        comm.open();\n        if (msg_handler) {\n          comm.onMsg = msg_handler;\n        }\n      } else if (typeof google != 'undefined' && google.colab.kernel != null) {\n        var comm_promise = google.colab.kernel.comms.open(comm_id)\n        comm_promise.then((comm) => {\n          window.PyViz.comms[comm_id] = comm;\n          if (msg_handler) {\n            var messages = comm.messages[Symbol.asyncIterator]();\n            function processIteratorResult(result) {\n              var message = result.value;\n              var content = {data: message.data};\n              var metadata = message.metadata || {comm_id};\n              var msg = {content, metadata}\n              msg_handler(msg);\n              return messages.next().then(processIteratorResult);\n            }\n            return messages.next().then(processIteratorResult);\n          }\n        }) \n        var sendClosure = (data, metadata, buffers, disposeOnDone) => {\n          return comm_promise.then((comm) => {\n            comm.send(data, metadata, buffers, disposeOnDone);\n          });\n        };\n        var comm = {\n          send: sendClosure\n        };\n      }\n      window.PyViz.comms[comm_id] = comm;\n      return comm;\n    }\n    window.PyViz.comm_manager = new JupyterCommManager();\n    \n\n\nvar JS_MIME_TYPE = 'application/javascript';\nvar HTML_MIME_TYPE = 'text/html';\nvar EXEC_MIME_TYPE = 'application/vnd.holoviews_exec.v0+json';\nvar CLASS_NAME = 'output';\n\n/**\n * Render data to the DOM node\n */\nfunction render(props, node) {\n  var div = document.createElement(\"div\");\n  var script = document.createElement(\"script\");\n  node.appendChild(div);\n  node.appendChild(script);\n}\n\n/**\n * Handle when a new output is added\n */\nfunction handle_add_output(event, handle) {\n  var output_area = handle.output_area;\n  var output = handle.output;\n  if ((output.data == undefined) || (!output.data.hasOwnProperty(EXEC_MIME_TYPE))) {\n    return\n  }\n  var id = output.metadata[EXEC_MIME_TYPE][\"id\"];\n  var toinsert = output_area.element.find(\".\" + CLASS_NAME.split(' ')[0]);\n  if (id !== undefined) {\n    var nchildren = toinsert.length;\n    var html_node = toinsert[nchildren-1].children[0];\n    html_node.innerHTML = output.data[HTML_MIME_TYPE];\n    var scripts = [];\n    var nodelist = html_node.querySelectorAll(\"script\");\n    for (var i in nodelist) {\n      if (nodelist.hasOwnProperty(i)) {\n        scripts.push(nodelist[i])\n      }\n    }\n\n    scripts.forEach( function (oldScript) {\n      var newScript = document.createElement(\"script\");\n      var attrs = [];\n      var nodemap = oldScript.attributes;\n      for (var j in nodemap) {\n        if (nodemap.hasOwnProperty(j)) {\n          attrs.push(nodemap[j])\n        }\n      }\n      attrs.forEach(function(attr) { newScript.setAttribute(attr.name, attr.value) });\n      newScript.appendChild(document.createTextNode(oldScript.innerHTML));\n      oldScript.parentNode.replaceChild(newScript, oldScript);\n    });\n    if (JS_MIME_TYPE in output.data) {\n      toinsert[nchildren-1].children[1].textContent = output.data[JS_MIME_TYPE];\n    }\n    output_area._hv_plot_id = id;\n    if ((window.Bokeh !== undefined) && (id in Bokeh.index)) {\n      window.PyViz.plot_index[id] = Bokeh.index[id];\n    } else {\n      window.PyViz.plot_index[id] = null;\n    }\n  } else if (output.metadata[EXEC_MIME_TYPE][\"server_id\"] !== undefined) {\n    var bk_div = document.createElement(\"div\");\n    bk_div.innerHTML = output.data[HTML_MIME_TYPE];\n    var script_attrs = bk_div.children[0].attributes;\n    for (var i = 0; i < script_attrs.length; i++) {\n      toinsert[toinsert.length - 1].childNodes[1].setAttribute(script_attrs[i].name, script_attrs[i].value);\n    }\n    // store reference to server id on output_area\n    output_area._bokeh_server_id = output.metadata[EXEC_MIME_TYPE][\"server_id\"];\n  }\n}\n\n/**\n * Handle when an output is cleared or removed\n */\nfunction handle_clear_output(event, handle) {\n  var id = handle.cell.output_area._hv_plot_id;\n  var server_id = handle.cell.output_area._bokeh_server_id;\n  if (((id === undefined) || !(id in PyViz.plot_index)) && (server_id !== undefined)) { return; }\n  var comm = window.PyViz.comm_manager.get_client_comm(\"hv-extension-comm\", \"hv-extension-comm\", function () {});\n  if (server_id !== null) {\n    comm.send({event_type: 'server_delete', 'id': server_id});\n    return;\n  } else if (comm !== null) {\n    comm.send({event_type: 'delete', 'id': id});\n  }\n  delete PyViz.plot_index[id];\n  if ((window.Bokeh !== undefined) & (id in window.Bokeh.index)) {\n    var doc = window.Bokeh.index[id].model.document\n    doc.clear();\n    const i = window.Bokeh.documents.indexOf(doc);\n    if (i > -1) {\n      window.Bokeh.documents.splice(i, 1);\n    }\n  }\n}\n\n/**\n * Handle kernel restart event\n */\nfunction handle_kernel_cleanup(event, handle) {\n  delete PyViz.comms[\"hv-extension-comm\"];\n  window.PyViz.plot_index = {}\n}\n\n/**\n * Handle update_display_data messages\n */\nfunction handle_update_output(event, handle) {\n  handle_clear_output(event, {cell: {output_area: handle.output_area}})\n  handle_add_output(event, handle)\n}\n\nfunction register_renderer(events, OutputArea) {\n  function append_mime(data, metadata, element) {\n    // create a DOM node to render to\n    var toinsert = this.create_output_subarea(\n    metadata,\n    CLASS_NAME,\n    EXEC_MIME_TYPE\n    );\n    this.keyboard_manager.register_events(toinsert);\n    // Render to node\n    var props = {data: data, metadata: metadata[EXEC_MIME_TYPE]};\n    render(props, toinsert[0]);\n    element.append(toinsert);\n    return toinsert\n  }\n\n  events.on('output_added.OutputArea', handle_add_output);\n  events.on('output_updated.OutputArea', handle_update_output);\n  events.on('clear_output.CodeCell', handle_clear_output);\n  events.on('delete.Cell', handle_clear_output);\n  events.on('kernel_ready.Kernel', handle_kernel_cleanup);\n\n  OutputArea.prototype.register_mime_type(EXEC_MIME_TYPE, append_mime, {\n    safe: true,\n    index: 0\n  });\n}\n\nif (window.Jupyter !== undefined) {\n  try {\n    var events = require('base/js/events');\n    var OutputArea = require('notebook/js/outputarea').OutputArea;\n    if (OutputArea.prototype.mime_types().indexOf(EXEC_MIME_TYPE) == -1) {\n      register_renderer(events, OutputArea);\n    }\n  } catch(err) {\n  }\n}\n",
      "application/vnd.holoviews_load.v0+json": ""
     },
     "metadata": {},
     "output_type": "display_data"
    },
    {
     "data": {
      "text/html": [
       "<style>*[data-root-id],\n",
       "*[data-root-id] > * {\n",
       "  box-sizing: border-box;\n",
       "  font-family: var(--jp-ui-font-family);\n",
       "  font-size: var(--jp-ui-font-size1);\n",
       "  color: var(--vscode-editor-foreground, var(--jp-ui-font-color1));\n",
       "}\n",
       "\n",
       "/* Override VSCode background color */\n",
       ".cell-output-ipywidget-background:has(\n",
       "    > .cell-output-ipywidget-background > .lm-Widget > *[data-root-id]\n",
       "  ),\n",
       ".cell-output-ipywidget-background:has(> .lm-Widget > *[data-root-id]) {\n",
       "  background-color: transparent !important;\n",
       "}\n",
       "</style>"
      ]
     },
     "metadata": {},
     "output_type": "display_data"
    },
    {
     "data": {
      "application/vnd.holoviews_exec.v0+json": "",
      "text/html": [
       "<div id='p1005'>\n",
       "  <div id=\"d9922edb-fae2-45e6-9dd1-dc36ebdcbaf2\" data-root-id=\"p1005\" style=\"display: contents;\"></div>\n",
       "</div>\n",
       "<script type=\"application/javascript\">(function(root) {\n",
       "  var docs_json = {\"cc6a8178-7132-4d0c-9019-f5e64d8e0142\":{\"version\":\"3.2.1\",\"title\":\"Bokeh Application\",\"roots\":[{\"type\":\"object\",\"name\":\"panel.models.browser.BrowserInfo\",\"id\":\"p1005\"},{\"type\":\"object\",\"name\":\"panel.models.comm_manager.CommManager\",\"id\":\"p1006\",\"attributes\":{\"plot_id\":\"p1005\",\"comm_id\":\"0259238708634d68aa1ebc67ac38197c\",\"client_comm_id\":\"20b1cf0e69324343a91b00b57bbb8379\"}}],\"defs\":[{\"type\":\"model\",\"name\":\"ReactiveHTML1\"},{\"type\":\"model\",\"name\":\"FlexBox1\",\"properties\":[{\"name\":\"align_content\",\"kind\":\"Any\",\"default\":\"flex-start\"},{\"name\":\"align_items\",\"kind\":\"Any\",\"default\":\"flex-start\"},{\"name\":\"flex_direction\",\"kind\":\"Any\",\"default\":\"row\"},{\"name\":\"flex_wrap\",\"kind\":\"Any\",\"default\":\"wrap\"},{\"name\":\"justify_content\",\"kind\":\"Any\",\"default\":\"flex-start\"}]},{\"type\":\"model\",\"name\":\"FloatPanel1\",\"properties\":[{\"name\":\"config\",\"kind\":\"Any\",\"default\":{\"type\":\"map\"}},{\"name\":\"contained\",\"kind\":\"Any\",\"default\":true},{\"name\":\"position\",\"kind\":\"Any\",\"default\":\"right-top\"},{\"name\":\"offsetx\",\"kind\":\"Any\",\"default\":null},{\"name\":\"offsety\",\"kind\":\"Any\",\"default\":null},{\"name\":\"theme\",\"kind\":\"Any\",\"default\":\"primary\"},{\"name\":\"status\",\"kind\":\"Any\",\"default\":\"normalized\"}]},{\"type\":\"model\",\"name\":\"GridStack1\",\"properties\":[{\"name\":\"mode\",\"kind\":\"Any\",\"default\":\"warn\"},{\"name\":\"ncols\",\"kind\":\"Any\",\"default\":null},{\"name\":\"nrows\",\"kind\":\"Any\",\"default\":null},{\"name\":\"allow_resize\",\"kind\":\"Any\",\"default\":true},{\"name\":\"allow_drag\",\"kind\":\"Any\",\"default\":true},{\"name\":\"state\",\"kind\":\"Any\",\"default\":[]}]},{\"type\":\"model\",\"name\":\"drag1\",\"properties\":[{\"name\":\"slider_width\",\"kind\":\"Any\",\"default\":5},{\"name\":\"slider_color\",\"kind\":\"Any\",\"default\":\"black\"},{\"name\":\"value\",\"kind\":\"Any\",\"default\":50}]},{\"type\":\"model\",\"name\":\"click1\",\"properties\":[{\"name\":\"terminal_output\",\"kind\":\"Any\",\"default\":\"\"},{\"name\":\"debug_name\",\"kind\":\"Any\",\"default\":\"\"},{\"name\":\"clears\",\"kind\":\"Any\",\"default\":0}]},{\"type\":\"model\",\"name\":\"toggle_value1\",\"properties\":[{\"name\":\"active_icons\",\"kind\":\"Any\",\"default\":{\"type\":\"map\"}},{\"name\":\"options\",\"kind\":\"Any\",\"default\":{\"type\":\"map\",\"entries\":[[\"favorite\",\"heart\"]]}},{\"name\":\"value\",\"kind\":\"Any\",\"default\":[]},{\"name\":\"_reactions\",\"kind\":\"Any\",\"default\":[]},{\"name\":\"_base_url\",\"kind\":\"Any\",\"default\":\"https://tabler-icons.io/static/tabler-icons/icons/\"}]},{\"type\":\"model\",\"name\":\"copy_to_clipboard1\",\"properties\":[{\"name\":\"value\",\"kind\":\"Any\",\"default\":null},{\"name\":\"fill\",\"kind\":\"Any\",\"default\":\"none\"}]},{\"type\":\"model\",\"name\":\"FastWrapper1\",\"properties\":[{\"name\":\"object\",\"kind\":\"Any\",\"default\":null},{\"name\":\"style\",\"kind\":\"Any\",\"default\":null}]},{\"type\":\"model\",\"name\":\"NotificationAreaBase1\",\"properties\":[{\"name\":\"js_events\",\"kind\":\"Any\",\"default\":{\"type\":\"map\"}},{\"name\":\"position\",\"kind\":\"Any\",\"default\":\"bottom-right\"},{\"name\":\"_clear\",\"kind\":\"Any\",\"default\":0}]},{\"type\":\"model\",\"name\":\"NotificationArea1\",\"properties\":[{\"name\":\"js_events\",\"kind\":\"Any\",\"default\":{\"type\":\"map\"}},{\"name\":\"notifications\",\"kind\":\"Any\",\"default\":[]},{\"name\":\"position\",\"kind\":\"Any\",\"default\":\"bottom-right\"},{\"name\":\"_clear\",\"kind\":\"Any\",\"default\":0},{\"name\":\"types\",\"kind\":\"Any\",\"default\":[{\"type\":\"map\",\"entries\":[[\"type\",\"warning\"],[\"background\",\"#ffc107\"],[\"icon\",{\"type\":\"map\",\"entries\":[[\"className\",\"fas fa-exclamation-triangle\"],[\"tagName\",\"i\"],[\"color\",\"white\"]]}]]},{\"type\":\"map\",\"entries\":[[\"type\",\"info\"],[\"background\",\"#007bff\"],[\"icon\",{\"type\":\"map\",\"entries\":[[\"className\",\"fas fa-info-circle\"],[\"tagName\",\"i\"],[\"color\",\"white\"]]}]]}]}]},{\"type\":\"model\",\"name\":\"Notification\",\"properties\":[{\"name\":\"background\",\"kind\":\"Any\",\"default\":null},{\"name\":\"duration\",\"kind\":\"Any\",\"default\":3000},{\"name\":\"icon\",\"kind\":\"Any\",\"default\":null},{\"name\":\"message\",\"kind\":\"Any\",\"default\":\"\"},{\"name\":\"notification_type\",\"kind\":\"Any\",\"default\":null},{\"name\":\"_destroyed\",\"kind\":\"Any\",\"default\":false}]},{\"type\":\"model\",\"name\":\"TemplateActions1\",\"properties\":[{\"name\":\"open_modal\",\"kind\":\"Any\",\"default\":0},{\"name\":\"close_modal\",\"kind\":\"Any\",\"default\":0}]},{\"type\":\"model\",\"name\":\"BootstrapTemplateActions1\",\"properties\":[{\"name\":\"open_modal\",\"kind\":\"Any\",\"default\":0},{\"name\":\"close_modal\",\"kind\":\"Any\",\"default\":0}]},{\"type\":\"model\",\"name\":\"MaterialTemplateActions1\",\"properties\":[{\"name\":\"open_modal\",\"kind\":\"Any\",\"default\":0},{\"name\":\"close_modal\",\"kind\":\"Any\",\"default\":0}]}]}};\n",
       "  var render_items = [{\"docid\":\"cc6a8178-7132-4d0c-9019-f5e64d8e0142\",\"roots\":{\"p1005\":\"d9922edb-fae2-45e6-9dd1-dc36ebdcbaf2\"},\"root_ids\":[\"p1005\"]}];\n",
       "  var docs = Object.values(docs_json)\n",
       "  if (!docs) {\n",
       "    return\n",
       "  }\n",
       "  const py_version = docs[0].version.replace('rc', '-rc.').replace('.dev', '-dev.')\n",
       "  function embed_document(root) {\n",
       "    var Bokeh = get_bokeh(root)\n",
       "    Bokeh.embed.embed_items_notebook(docs_json, render_items);\n",
       "    for (const render_item of render_items) {\n",
       "      for (const root_id of render_item.root_ids) {\n",
       "\tconst id_el = document.getElementById(root_id)\n",
       "\tif (id_el.children.length && (id_el.children[0].className === 'bk-root')) {\n",
       "\t  const root_el = id_el.children[0]\n",
       "\t  root_el.id = root_el.id + '-rendered'\n",
       "\t}\n",
       "      }\n",
       "    }\n",
       "  }\n",
       "  function get_bokeh(root) {\n",
       "    if (root.Bokeh === undefined) {\n",
       "      return null\n",
       "    } else if (root.Bokeh.version !== py_version) {\n",
       "      if (root.Bokeh.versions === undefined || !root.Bokeh.versions.has(py_version)) {\n",
       "\treturn null\n",
       "      }\n",
       "      return root.Bokeh.versions.get(py_version);\n",
       "    } else if (root.Bokeh.version === py_version) {\n",
       "      return root.Bokeh\n",
       "    }\n",
       "    return null\n",
       "  }\n",
       "  function is_loaded(root) {\n",
       "    var Bokeh = get_bokeh(root)\n",
       "    return (Bokeh != null && Bokeh.Panel !== undefined)\n",
       "  }\n",
       "  if (is_loaded(root)) {\n",
       "    embed_document(root);\n",
       "  } else {\n",
       "    var attempts = 0;\n",
       "    var timer = setInterval(function(root) {\n",
       "      if (is_loaded(root)) {\n",
       "        clearInterval(timer);\n",
       "        embed_document(root);\n",
       "      } else if (document.readyState == \"complete\") {\n",
       "        attempts++;\n",
       "        if (attempts > 200) {\n",
       "          clearInterval(timer);\n",
       "\t  var Bokeh = get_bokeh(root)\n",
       "\t  if (Bokeh == null || Bokeh.Panel == null) {\n",
       "            console.warn(\"Panel: ERROR: Unable to run Panel code because Bokeh or Panel library is missing\");\n",
       "\t  } else {\n",
       "\t    console.warn(\"Panel: WARNING: Attempting to render but not all required libraries could be resolved.\")\n",
       "\t    embed_document(root)\n",
       "\t  }\n",
       "        }\n",
       "      }\n",
       "    }, 25, root)\n",
       "  }\n",
       "})(window);</script>"
      ]
     },
     "metadata": {
      "application/vnd.holoviews_exec.v0+json": {
       "id": "p1005"
      }
     },
     "output_type": "display_data"
    },
    {
     "data": {
      "text/html": [
       "\n",
       "<div class=\"logo-block\">\n",
       "<img src='data:image/png;base64,iVBORw0KGgoAAAANSUhEUgAAAEAAAABACAYAAACqaXHeAAAABHNCSVQICAgIfAhkiAAAAAlwSFlz\n",
       "AAAB+wAAAfsBxc2miwAAABl0RVh0U29mdHdhcmUAd3d3Lmlua3NjYXBlLm9yZ5vuPBoAAA6zSURB\n",
       "VHic7ZtpeFRVmsf/5966taWqUlUJ2UioBBJiIBAwCZtog9IOgjqACsogKtqirT2ttt069nQ/zDzt\n",
       "tI4+CrJIREFaFgWhBXpUNhHZQoKBkIUASchWla1S+3ar7r1nPkDaCAnZKoQP/D7mnPOe9/xy76n3\n",
       "nFSAW9ziFoPFNED2LLK5wcyBDObkb8ZkxuaoSYlI6ZcOKq1eWFdedqNzGHQBk9RMEwFAASkk0Xw3\n",
       "ETacDNi2vtvc7L0ROdw0AjoSotQVkKSvHQz/wRO1lScGModBFbDMaNRN1A4tUBCS3lk7BWhQkgpD\n",
       "lG4852/+7DWr1R3uHAZVQDsbh6ZPN7CyxUrCzJMRouusj0ipRwD2uKm0Zn5d2dFwzX1TCGhnmdGo\n",
       "G62Nna+isiUqhkzuKrkQaJlPEv5mFl2fvGg2t/VnzkEV8F5ioioOEWkLG86fvbpthynjdhXYZziQ\n",
       "x1hC9J2NFyi8vCTt91Fh04KGip0AaG9zuCk2wQCVyoNU3Hjezee9bq92duzzTmxsRJoy+jEZZZYo\n",
       "GTKJ6SJngdJqAfRzpze0+jHreUtPc7gpBLQnIYK6BYp/uGhw9YK688eu7v95ysgshcg9qSLMo3JC\n",
       "4jqLKQFBgdKDPoQ+Pltb8dUyQLpeDjeVgI6EgLIQFT5tEl3rn2losHVsexbZ3EyT9wE1uGdkIPcy\n",
       "BGxn8QUq1QrA5nqW5i2tLqvrrM9NK6AdkVIvL9E9bZL/oyfMVd/jqvc8LylzRBKDJSzIExwhQzuL\n",
       "QYGQj4rHfFTc8mUdu3E7yoLtbTe9gI4EqVgVkug2i5+uXGo919ixbRog+3fTbQ8qJe4ZOYNfMoTI\n",
       "OoshUNosgO60AisX15aeI2PSIp5KiFLI9ubb1vV3Qb2ltwLakUCDAkWX7/nHKRmmGIl9VgYsUhJm\n",
       "2NXjKYADtM1ygne9QQDIXlk49FBstMKx66D1v4+XuQr7vqTe0VcBHQlRWiOCbmmSYe2SqtL6q5rJ\n",
       "zsTb7lKx3FKOYC4DoqyS/B5bvLPxvD9Qtf6saxYLQGJErmDOdOMr/zo96km1nElr8bmPOBwI9COv\n",
       "HnFPRIwmkSOv9kcAS4heRsidOkpeWBgZM+UBrTFAXNYL5Vf2ii9c1trNzpYdaoVil3WIc+wdk+gQ\n",
       "noie3ecCcxt9ITcLAPWt/laGEO/9U6PmzZkenTtsSMQ8uYywJVW+grCstAvCIaAdArAsIWkRDDs/\n",
       "KzLm2YcjY1Lv0UdW73HabE9n6V66cxSzfEmuJssTpKGVp+0vHq73FwL46eOjpMpbRAnNmJFrGJNu\n",
       "Ukf9Yrz+3rghiumCKNXXWPhLYcjxGsIpoCMsIRoFITkW8AuyM8jC1+/QLx4bozCEJIq38+1rtpR6\n",
       "V/yzb8eBlRb3fo5l783N0CWolAzJHaVNzkrTzlEp2bQ2q3TC5gn6wpnoQAmwSiGh2GitnTmVMc5O\n",
       "UyfKWUKCIsU7+fZDKwqdT6DDpvkzAX4/+AMFjk0tDp5GRXLpQ2MUmhgDp5gxQT8+Y7hyPsMi8uxF\n",
       "71H0oebujHALECjFKaW9Lm68n18wXp2kVzIcABytD5iXFzg+WVXkegpAsOOYziqo0OkK76GyquC3\n",
       "ltZAzMhhqlSNmmWTE5T6e3IN05ITFLM4GdN0vtZ3ob8Jh1NAKXFbm5PtLU/eqTSlGjkNAJjdgn/N\n",
       "aedXa0tdi7+t9G0FIF49rtMSEgAs1kDLkTPO7ebm4IUWeyh1bKomXqlgMG6kJmHcSM0clYLJ8XtR\n",
       "1GTnbV3F6I5wCGikAb402npp1h1s7LQUZZSMIfALFOuL3UUrfnS8+rez7v9qcold5tilgHbO1fjK\n",
       "9ubb17u9oshxzMiUBKXWqJNxd+fqb0tLVs4lILFnK71H0Ind7uiPgACVcFJlrb0tV6DzxqqTIhUM\n",
       "CwDf1/rrVhTa33/3pGPxJYdQ2l2cbgVcQSosdx8uqnDtbGjh9SlDVSMNWhlnilfqZk42Th2ZpLpf\n",
       "xrHec5e815zrr0dfBZSwzkZfqsv+1FS1KUknUwPARVvItfKUY+cn57yP7qv07UE3p8B2uhUwLk09\n",
       "e0SCOrK+hbdYHYLjRIl71wWzv9jpEoeOHhGRrJAzyEyNiJuUqX0g2sBN5kGK6y2Blp5M3lsB9Qh4\n",
       "y2Ja6x6+i0ucmKgwMATwhSjdUu49tKrQ/pvN5d53ml2CGwCmJipmKjgmyuaXzNeL2a0AkQ01Th5j\n",
       "2DktO3Jyk8f9vcOBQHV94OK+fPumJmvQHxJoWkaKWq9Vs+yUsbq0zGT1I4RgeH2b5wef7+c7bl8F\n",
       "eKgoHVVZa8ZPEORzR6sT1BzDUAD/d9F78e2Tzv99v8D+fLVTqAKAsbGamKey1Mt9Ann4eH3gTXTz\n",
       "idWtAJ8PQWOk7NzSeQn/OTHDuEikVF1R4z8BQCy+6D1aWRfY0tTGG2OM8rRoPaeIj5ZHzJxszElN\n",
       "VM8K8JS5WOfv8mzRnQAKoEhmt8gyPM4lU9SmBK1MCQBnW4KONT86v1hZ1PbwSXPw4JWussVjtH9Y\n",
       "NCoiL9UoH/6PSu8jFrfY2t36erQHXLIEakMi1SydmzB31h3GGXFDFNPaK8Rme9B79Ixrd0WN+1ij\n",
       "NRQ/doRmuFLBkHSTOm5GruG+pFjFdAmorG4IXH1Qua6ASniclfFtDYt+oUjKipPrCQB7QBQ2lrgP\n",
       "fFzm+9XWUtcqJ3/5vDLDpJ79XHZk3u8nGZ42qlj1+ydtbxysCezrydp6ugmipNJ7WBPB5tydY0jP\n",
       "HaVNzs3QzeE4ZpTbI+ZbnSFPbVOw9vsfnVvqWnirPyCNGD08IlqtYkh2hjZ5dErEQzoNm+6ykyOt\n",
       "Lt5/PQEuSRRKo22VkydK+vvS1XEKlhCJAnsqvcVvH7f/ZU2R67eXbMEGAMiIV5oWZWiWvz5Fv2xG\n",
       "sjqNJQRvn3Rs2lji/lNP19VjAQDgD7FHhujZB9OGqYxRkZxixgRDVlqS6uEOFaJUVu0rPFzctrnF\n",
       "JqijImVp8dEKVWyUXDk92zAuMZ6bFwpBU1HrOw6AdhQgUooChb0+ItMbWJitSo5Ws3IAOGEOtL53\n",
       "0vHZih9sC4vtofZ7Qu6523V/fmGcds1TY3V36pUsBwAbSlxnVh2xLfAD/IAIMDf7XYIkNmXfpp2l\n",
       "18rkAJAy9HKFaIr/qULkeQQKy9zf1JgDB2uaeFNGijo5QsUyacNUUTOnGO42xSnv4oOwpDi1zYkc\n",
       "efUc3I5Gk6PhyTuVKaOGyLUAYPGIoY9Pu/atL/L92+4q9wbflRJ2Trpm/jPjdBtfnqB/dIThcl8A\n",
       "KG7hbRuKnb8qsQsVvVlTrwQAQMUlf3kwJI24Z4JhPMtcfng5GcH49GsrxJpGvvHIaeem2ma+KSjQ\n",
       "lIwUdYyCY8j4dE1KzijNnIP2llF2wcXNnsoapw9XxsgYAl6k+KzUXbi2yP3KR2ecf6z3BFsBICdW\n",
       "nvnIaG3eHybqX7vbpEqUMT+9OL4Qpe8VON7dXuFd39v19FoAABRVePbGGuXTszO0P7tu6lghUonE\n",
       "llRdrhArLvmKdh9u29jcFiRRkfLUxBiFNiqSU9icoZQHo5mYBI1MBgBH6wMNb+U7Pnw337H4gi1Y\n",
       "ciWs+uks3Z9fztUvfzxTm9Ne8XXkvQLHNytOOZeiD4e0PgkAIAYCYknKUNUDSXEKzdWNpnil7r4p\n",
       "xqkjTarZMtk/K8TQ6Qve78qqvXurGwIJqcOUKfUWHsm8KGvxSP68YudXq4pcj39X49uOK2X142O0\n",
       "Tz5/u/7TVybqH0rSya6ZBwD21/gubbrgWdDgEOx9WUhfBaC2ibcEBYm7a7x+ukrBMNcEZggyR0TE\n",
       "T8zUPjikQ4VosQZbTpS4vqizBKvqmvjsqnpfzaZyx9JPiz1/bfGKdgD45XB1zoIMzYbfTdS/NClB\n",
       "Gct0USiY3YL/g0LHy/uq/Ef6uo5+n0R/vyhp17Klpge763f8rMu6YU/zrn2nml+2WtH+Z+5IAAFc\n",
       "2bUTdTDOSNa9+cQY7YLsOIXhevEkCvzph7a8laecz/Un/z4/Ae04XeL3UQb57IwU9ZDr9UuKVajv\n",
       "nxp1+1UVIo/LjztZkKH59fO3G/JemqCfmaCRqbqbd90ZZ8FfjtkfAyD0J/9+C2h1hDwsSxvGjNDc\n",
       "b4zk5NfrSwiQblLHzZhg+Jf4aPlUwpDqkQqa9nimbt1/TDH8OitGMaQnj+RJS6B1fbF7SY1TqO5v\n",
       "/v0WAADl1f7zokgS7s7VT2DZ7pegUjBM7mjtiDZbcN4j0YrHH0rXpCtY0qPX0cVL0rv5jv/ZXend\n",
       "0u/EESYBAFBU4T4Qa5TflZOhTe7pmKpaP8kCVUVw1+yhXfJWvn1P3hnXi33JsTN6PnP3hHZ8Z3/h\n",
       "aLHzmkNPuPj7Bc/F/Q38CwjTpSwQXgE4Vmwry9tpfq/ZFgqFMy4AVDtCvi8rvMvOmv0N4YwbVgEA\n",
       "sPM72/KVnzfspmH7HQGCRLG2yL1+z8XwvPcdCbsAANh+xPzstgMtxeGKt+6MK3/tacfvwhWvIwMi\n",
       "oKEBtm0H7W+UVfkc/Y1V0BhoPlDr/w1w/eu1vjIgAgDg22OtX6/eYfnEz/focrZTHAFR+PSs56/7\n",
       "q32nwpjazxgwAQCwcU/T62t3WL7r6/jVRa6/byp1rei+Z98ZUAEAhEPHPc8fKnTU9nbgtnOe8h0l\n",
       "9hcGIqmODLQAHCy2Xti6v/XNRivf43f4fFvIteu854+VHnR7q9tfBlwAAGz+pnndB9vM26UebAe8\n",
       "SLHujPOTPVW+rwY+sxskAAC2HrA8t2Vvc7ffP1r9o+vwR2dcr92InIAbKKC1FZ5tB1tf+/G8p8sv\n",
       "N/9Q5zd/XR34LYCwV5JdccMEAMDBk45DH243r/X4xGvqxFa/GNpS7n6rwOwNWwHVE26oAADYurf1\n",
       "zx/utOzt+DMKYM0p17YtZZ5VNzqfsB2HewG1WXE8PoZ7gOclbTIvynZf9JV+fqZtfgs/8F/Nu5rB\n",
       "EIBmJ+8QRMmpU7EzGRsf2FzuePqYRbzh/zE26EwdrT10f6r6o8HOYzCJB9Dpff8tbnGLG8L/A/WE\n",
       "roTBs2RqAAAAAElFTkSuQmCC'\n",
       "     style='height:25px; border-radius:12px; display: inline-block; float: left; vertical-align: middle'></img>\n",
       "\n",
       "\n",
       "  <img src='data:image/png;base64,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'\n",
       "       style='height:15px; border-radius:12px; display: inline-block; float: left'></img>\n",
       "  \n",
       "\n",
       "\n",
       "\n",
       "\n",
       "</div>\n"
      ]
     },
     "metadata": {},
     "output_type": "display_data"
    },
    {
     "data": {
      "application/javascript": "(function(root) {\n  function now() {\n    return new Date();\n  }\n\n  var force = true;\n  var py_version = '3.2.1'.replace('rc', '-rc.').replace('.dev', '-dev.');\n  var reloading = true;\n  var Bokeh = root.Bokeh;\n\n  if (typeof (root._bokeh_timeout) === \"undefined\" || force) {\n    root._bokeh_timeout = Date.now() + 5000;\n    root._bokeh_failed_load = false;\n  }\n\n  function run_callbacks() {\n    try {\n      root._bokeh_onload_callbacks.forEach(function(callback) {\n        if (callback != null)\n          callback();\n      });\n    } finally {\n      delete root._bokeh_onload_callbacks;\n    }\n    console.debug(\"Bokeh: all callbacks have finished\");\n  }\n\n  function load_libs(css_urls, js_urls, js_modules, js_exports, callback) {\n    if (css_urls == null) css_urls = [];\n    if (js_urls == null) js_urls = [];\n    if (js_modules == null) js_modules = [];\n    if (js_exports == null) js_exports = {};\n\n    root._bokeh_onload_callbacks.push(callback);\n\n    if (root._bokeh_is_loading > 0) {\n      console.debug(\"Bokeh: BokehJS is being loaded, scheduling callback at\", now());\n      return null;\n    }\n    if (js_urls.length === 0 && js_modules.length === 0 && Object.keys(js_exports).length === 0) {\n      run_callbacks();\n      return null;\n    }\n    if (!reloading) {\n      console.debug(\"Bokeh: BokehJS not loaded, scheduling load and callback at\", now());\n    }\n\n    function on_load() {\n      root._bokeh_is_loading--;\n      if (root._bokeh_is_loading === 0) {\n        console.debug(\"Bokeh: all BokehJS libraries/stylesheets loaded\");\n        run_callbacks()\n      }\n    }\n    window._bokeh_on_load = on_load\n\n    function on_error() {\n      console.error(\"failed to load \" + url);\n    }\n\n    var skip = [];\n    if (window.requirejs) {\n      window.requirejs.config({'packages': {}, 'paths': {'jspanel': 'https://cdn.jsdelivr.net/npm/jspanel4@4.12.0/dist/jspanel', 'jspanel-modal': 'https://cdn.jsdelivr.net/npm/jspanel4@4.12.0/dist/extensions/modal/jspanel.modal', 'jspanel-tooltip': 'https://cdn.jsdelivr.net/npm/jspanel4@4.12.0/dist/extensions/tooltip/jspanel.tooltip', 'jspanel-hint': 'https://cdn.jsdelivr.net/npm/jspanel4@4.12.0/dist/extensions/hint/jspanel.hint', 'jspanel-layout': 'https://cdn.jsdelivr.net/npm/jspanel4@4.12.0/dist/extensions/layout/jspanel.layout', 'jspanel-contextmenu': 'https://cdn.jsdelivr.net/npm/jspanel4@4.12.0/dist/extensions/contextmenu/jspanel.contextmenu', 'jspanel-dock': 'https://cdn.jsdelivr.net/npm/jspanel4@4.12.0/dist/extensions/dock/jspanel.dock', 'gridstack': 'https://cdn.jsdelivr.net/npm/gridstack@7.2.3/dist/gridstack-all', 'notyf': 'https://cdn.jsdelivr.net/npm/notyf@3/notyf.min'}, 'shim': {'jspanel': {'exports': 'jsPanel'}, 'gridstack': {'exports': 'GridStack'}}});\n      require([\"jspanel\"], function(jsPanel) {\n\twindow.jsPanel = jsPanel\n\ton_load()\n      })\n      require([\"jspanel-modal\"], function() {\n\ton_load()\n      })\n      require([\"jspanel-tooltip\"], function() {\n\ton_load()\n      })\n      require([\"jspanel-hint\"], function() {\n\ton_load()\n      })\n      require([\"jspanel-layout\"], function() {\n\ton_load()\n      })\n      require([\"jspanel-contextmenu\"], function() {\n\ton_load()\n      })\n      require([\"jspanel-dock\"], function() {\n\ton_load()\n      })\n      require([\"gridstack\"], function(GridStack) {\n\twindow.GridStack = GridStack\n\ton_load()\n      })\n      require([\"notyf\"], function() {\n\ton_load()\n      })\n      root._bokeh_is_loading = css_urls.length + 9;\n    } else {\n      root._bokeh_is_loading = css_urls.length + js_urls.length + js_modules.length + Object.keys(js_exports).length;\n    }\n\n    var existing_stylesheets = []\n    var links = document.getElementsByTagName('link')\n    for (var i = 0; i < links.length; i++) {\n      var link = links[i]\n      if (link.href != null) {\n\texisting_stylesheets.push(link.href)\n      }\n    }\n    for (var i = 0; i < css_urls.length; i++) {\n      var url = css_urls[i];\n      if (existing_stylesheets.indexOf(url) !== -1) {\n\ton_load()\n\tcontinue;\n      }\n      const element = document.createElement(\"link\");\n      element.onload = on_load;\n      element.onerror = on_error;\n      element.rel = \"stylesheet\";\n      element.type = \"text/css\";\n      element.href = url;\n      console.debug(\"Bokeh: injecting link tag for BokehJS stylesheet: \", url);\n      document.body.appendChild(element);\n    }    if (((window['jsPanel'] !== undefined) && (!(window['jsPanel'] instanceof HTMLElement))) || window.requirejs) {\n      var urls = ['https://cdn.holoviz.org/panel/1.3.4/dist/bundled/floatpanel/jspanel4@4.12.0/dist/jspanel.js', 'https://cdn.holoviz.org/panel/1.3.4/dist/bundled/floatpanel/jspanel4@4.12.0/dist/extensions/modal/jspanel.modal.js', 'https://cdn.holoviz.org/panel/1.3.4/dist/bundled/floatpanel/jspanel4@4.12.0/dist/extensions/tooltip/jspanel.tooltip.js', 'https://cdn.holoviz.org/panel/1.3.4/dist/bundled/floatpanel/jspanel4@4.12.0/dist/extensions/hint/jspanel.hint.js', 'https://cdn.holoviz.org/panel/1.3.4/dist/bundled/floatpanel/jspanel4@4.12.0/dist/extensions/layout/jspanel.layout.js', 'https://cdn.holoviz.org/panel/1.3.4/dist/bundled/floatpanel/jspanel4@4.12.0/dist/extensions/contextmenu/jspanel.contextmenu.js', 'https://cdn.holoviz.org/panel/1.3.4/dist/bundled/floatpanel/jspanel4@4.12.0/dist/extensions/dock/jspanel.dock.js'];\n      for (var i = 0; i < urls.length; i++) {\n        skip.push(urls[i])\n      }\n    }    if (((window['GridStack'] !== undefined) && (!(window['GridStack'] instanceof HTMLElement))) || window.requirejs) {\n      var urls = ['https://cdn.holoviz.org/panel/1.3.4/dist/bundled/gridstack/gridstack@7.2.3/dist/gridstack-all.js'];\n      for (var i = 0; i < urls.length; i++) {\n        skip.push(urls[i])\n      }\n    }    if (((window['Notyf'] !== undefined) && (!(window['Notyf'] instanceof HTMLElement))) || window.requirejs) {\n      var urls = ['https://cdn.holoviz.org/panel/1.3.4/dist/bundled/notificationarea/notyf@3/notyf.min.js'];\n      for (var i = 0; i < urls.length; i++) {\n        skip.push(urls[i])\n      }\n    }    var existing_scripts = []\n    var scripts = document.getElementsByTagName('script')\n    for (var i = 0; i < scripts.length; i++) {\n      var script = scripts[i]\n      if (script.src != null) {\n\texisting_scripts.push(script.src)\n      }\n    }\n    for (var i = 0; i < js_urls.length; i++) {\n      var url = js_urls[i];\n      if (skip.indexOf(url) !== -1 || existing_scripts.indexOf(url) !== -1) {\n\tif (!window.requirejs) {\n\t  on_load();\n\t}\n\tcontinue;\n      }\n      var element = document.createElement('script');\n      element.onload = on_load;\n      element.onerror = on_error;\n      element.async = false;\n      element.src = url;\n      console.debug(\"Bokeh: injecting script tag for BokehJS library: \", url);\n      document.head.appendChild(element);\n    }\n    for (var i = 0; i < js_modules.length; i++) {\n      var url = js_modules[i];\n      if (skip.indexOf(url) !== -1 || existing_scripts.indexOf(url) !== -1) {\n\tif (!window.requirejs) {\n\t  on_load();\n\t}\n\tcontinue;\n      }\n      var element = document.createElement('script');\n      element.onload = on_load;\n      element.onerror = on_error;\n      element.async = false;\n      element.src = url;\n      element.type = \"module\";\n      console.debug(\"Bokeh: injecting script tag for BokehJS library: \", url);\n      document.head.appendChild(element);\n    }\n    for (const name in js_exports) {\n      var url = js_exports[name];\n      if (skip.indexOf(url) >= 0 || root[name] != null) {\n\tif (!window.requirejs) {\n\t  on_load();\n\t}\n\tcontinue;\n      }\n      var element = document.createElement('script');\n      element.onerror = on_error;\n      element.async = false;\n      element.type = \"module\";\n      console.debug(\"Bokeh: injecting script tag for BokehJS library: \", url);\n      element.textContent = `\n      import ${name} from \"${url}\"\n      window.${name} = ${name}\n      window._bokeh_on_load()\n      `\n      document.head.appendChild(element);\n    }\n    if (!js_urls.length && !js_modules.length) {\n      on_load()\n    }\n  };\n\n  function inject_raw_css(css) {\n    const element = document.createElement(\"style\");\n    element.appendChild(document.createTextNode(css));\n    document.body.appendChild(element);\n  }\n\n  var js_urls = [\"https://cdn.jsdelivr.net/npm/@holoviz/geoviews@1.11.0/dist/geoviews.min.js\"];\n  var js_modules = [];\n  var js_exports = {};\n  var css_urls = [];\n  var inline_js = [    function(Bokeh) {\n      Bokeh.set_log_level(\"info\");\n    },\nfunction(Bokeh) {} // ensure no trailing comma for IE\n  ];\n\n  function run_inline_js() {\n    if ((root.Bokeh !== undefined) || (force === true)) {\n      for (var i = 0; i < inline_js.length; i++) {\n\ttry {\n          inline_js[i].call(root, root.Bokeh);\n\t} catch(e) {\n\t  if (!reloading) {\n\t    throw e;\n\t  }\n\t}\n      }\n      // Cache old bokeh versions\n      if (Bokeh != undefined && !reloading) {\n\tvar NewBokeh = root.Bokeh;\n\tif (Bokeh.versions === undefined) {\n\t  Bokeh.versions = new Map();\n\t}\n\tif (NewBokeh.version !== Bokeh.version) {\n\t  Bokeh.versions.set(NewBokeh.version, NewBokeh)\n\t}\n\troot.Bokeh = Bokeh;\n      }} else if (Date.now() < root._bokeh_timeout) {\n      setTimeout(run_inline_js, 100);\n    } else if (!root._bokeh_failed_load) {\n      console.log(\"Bokeh: BokehJS failed to load within specified timeout.\");\n      root._bokeh_failed_load = true;\n    }\n    root._bokeh_is_initializing = false\n  }\n\n  function load_or_wait() {\n    // Implement a backoff loop that tries to ensure we do not load multiple\n    // versions of Bokeh and its dependencies at the same time.\n    // In recent versions we use the root._bokeh_is_initializing flag\n    // to determine whether there is an ongoing attempt to initialize\n    // bokeh, however for backward compatibility we also try to ensure\n    // that we do not start loading a newer (Panel>=1.0 and Bokeh>3) version\n    // before older versions are fully initialized.\n    if (root._bokeh_is_initializing && Date.now() > root._bokeh_timeout) {\n      root._bokeh_is_initializing = false;\n      root._bokeh_onload_callbacks = undefined;\n      console.log(\"Bokeh: BokehJS was loaded multiple times but one version failed to initialize.\");\n      load_or_wait();\n    } else if (root._bokeh_is_initializing || (typeof root._bokeh_is_initializing === \"undefined\" && root._bokeh_onload_callbacks !== undefined)) {\n      setTimeout(load_or_wait, 100);\n    } else {\n      root._bokeh_is_initializing = true\n      root._bokeh_onload_callbacks = []\n      var bokeh_loaded = Bokeh != null && (Bokeh.version === py_version || (Bokeh.versions !== undefined && Bokeh.versions.has(py_version)));\n      if (!reloading && !bokeh_loaded) {\n\troot.Bokeh = undefined;\n      }\n      load_libs(css_urls, js_urls, js_modules, js_exports, function() {\n\tconsole.debug(\"Bokeh: BokehJS plotting callback run at\", now());\n\trun_inline_js();\n      });\n    }\n  }\n  // Give older versions of the autoload script a head-start to ensure\n  // they initialize before we start loading newer version.\n  setTimeout(load_or_wait, 100)\n}(window));",
      "application/vnd.holoviews_load.v0+json": ""
     },
     "metadata": {},
     "output_type": "display_data"
    },
    {
     "data": {
      "application/javascript": "\nif ((window.PyViz === undefined) || (window.PyViz instanceof HTMLElement)) {\n  window.PyViz = {comms: {}, comm_status:{}, kernels:{}, receivers: {}, plot_index: []}\n}\n\n\n    function JupyterCommManager() {\n    }\n\n    JupyterCommManager.prototype.register_target = function(plot_id, comm_id, msg_handler) {\n      if (window.comm_manager || ((window.Jupyter !== undefined) && (Jupyter.notebook.kernel != null))) {\n        var comm_manager = window.comm_manager || Jupyter.notebook.kernel.comm_manager;\n        comm_manager.register_target(comm_id, function(comm) {\n          comm.on_msg(msg_handler);\n        });\n      } else if ((plot_id in window.PyViz.kernels) && (window.PyViz.kernels[plot_id])) {\n        window.PyViz.kernels[plot_id].registerCommTarget(comm_id, function(comm) {\n          comm.onMsg = msg_handler;\n        });\n      } else if (typeof google != 'undefined' && google.colab.kernel != null) {\n        google.colab.kernel.comms.registerTarget(comm_id, (comm) => {\n          var messages = comm.messages[Symbol.asyncIterator]();\n          function processIteratorResult(result) {\n            var message = result.value;\n            console.log(message)\n            var content = {data: message.data, comm_id};\n            var buffers = []\n            for (var buffer of message.buffers || []) {\n              buffers.push(new DataView(buffer))\n            }\n            var metadata = message.metadata || {};\n            var msg = {content, buffers, metadata}\n            msg_handler(msg);\n            return messages.next().then(processIteratorResult);\n          }\n          return messages.next().then(processIteratorResult);\n        })\n      }\n    }\n\n    JupyterCommManager.prototype.get_client_comm = function(plot_id, comm_id, msg_handler) {\n      if (comm_id in window.PyViz.comms) {\n        return window.PyViz.comms[comm_id];\n      } else if (window.comm_manager || ((window.Jupyter !== undefined) && (Jupyter.notebook.kernel != null))) {\n        var comm_manager = window.comm_manager || Jupyter.notebook.kernel.comm_manager;\n        var comm = comm_manager.new_comm(comm_id, {}, {}, {}, comm_id);\n        if (msg_handler) {\n          comm.on_msg(msg_handler);\n        }\n      } else if ((plot_id in window.PyViz.kernels) && (window.PyViz.kernels[plot_id])) {\n        var comm = window.PyViz.kernels[plot_id].connectToComm(comm_id);\n        comm.open();\n        if (msg_handler) {\n          comm.onMsg = msg_handler;\n        }\n      } else if (typeof google != 'undefined' && google.colab.kernel != null) {\n        var comm_promise = google.colab.kernel.comms.open(comm_id)\n        comm_promise.then((comm) => {\n          window.PyViz.comms[comm_id] = comm;\n          if (msg_handler) {\n            var messages = comm.messages[Symbol.asyncIterator]();\n            function processIteratorResult(result) {\n              var message = result.value;\n              var content = {data: message.data};\n              var metadata = message.metadata || {comm_id};\n              var msg = {content, metadata}\n              msg_handler(msg);\n              return messages.next().then(processIteratorResult);\n            }\n            return messages.next().then(processIteratorResult);\n          }\n        }) \n        var sendClosure = (data, metadata, buffers, disposeOnDone) => {\n          return comm_promise.then((comm) => {\n            comm.send(data, metadata, buffers, disposeOnDone);\n          });\n        };\n        var comm = {\n          send: sendClosure\n        };\n      }\n      window.PyViz.comms[comm_id] = comm;\n      return comm;\n    }\n    window.PyViz.comm_manager = new JupyterCommManager();\n    \n\n\nvar JS_MIME_TYPE = 'application/javascript';\nvar HTML_MIME_TYPE = 'text/html';\nvar EXEC_MIME_TYPE = 'application/vnd.holoviews_exec.v0+json';\nvar CLASS_NAME = 'output';\n\n/**\n * Render data to the DOM node\n */\nfunction render(props, node) {\n  var div = document.createElement(\"div\");\n  var script = document.createElement(\"script\");\n  node.appendChild(div);\n  node.appendChild(script);\n}\n\n/**\n * Handle when a new output is added\n */\nfunction handle_add_output(event, handle) {\n  var output_area = handle.output_area;\n  var output = handle.output;\n  if ((output.data == undefined) || (!output.data.hasOwnProperty(EXEC_MIME_TYPE))) {\n    return\n  }\n  var id = output.metadata[EXEC_MIME_TYPE][\"id\"];\n  var toinsert = output_area.element.find(\".\" + CLASS_NAME.split(' ')[0]);\n  if (id !== undefined) {\n    var nchildren = toinsert.length;\n    var html_node = toinsert[nchildren-1].children[0];\n    html_node.innerHTML = output.data[HTML_MIME_TYPE];\n    var scripts = [];\n    var nodelist = html_node.querySelectorAll(\"script\");\n    for (var i in nodelist) {\n      if (nodelist.hasOwnProperty(i)) {\n        scripts.push(nodelist[i])\n      }\n    }\n\n    scripts.forEach( function (oldScript) {\n      var newScript = document.createElement(\"script\");\n      var attrs = [];\n      var nodemap = oldScript.attributes;\n      for (var j in nodemap) {\n        if (nodemap.hasOwnProperty(j)) {\n          attrs.push(nodemap[j])\n        }\n      }\n      attrs.forEach(function(attr) { newScript.setAttribute(attr.name, attr.value) });\n      newScript.appendChild(document.createTextNode(oldScript.innerHTML));\n      oldScript.parentNode.replaceChild(newScript, oldScript);\n    });\n    if (JS_MIME_TYPE in output.data) {\n      toinsert[nchildren-1].children[1].textContent = output.data[JS_MIME_TYPE];\n    }\n    output_area._hv_plot_id = id;\n    if ((window.Bokeh !== undefined) && (id in Bokeh.index)) {\n      window.PyViz.plot_index[id] = Bokeh.index[id];\n    } else {\n      window.PyViz.plot_index[id] = null;\n    }\n  } else if (output.metadata[EXEC_MIME_TYPE][\"server_id\"] !== undefined) {\n    var bk_div = document.createElement(\"div\");\n    bk_div.innerHTML = output.data[HTML_MIME_TYPE];\n    var script_attrs = bk_div.children[0].attributes;\n    for (var i = 0; i < script_attrs.length; i++) {\n      toinsert[toinsert.length - 1].childNodes[1].setAttribute(script_attrs[i].name, script_attrs[i].value);\n    }\n    // store reference to server id on output_area\n    output_area._bokeh_server_id = output.metadata[EXEC_MIME_TYPE][\"server_id\"];\n  }\n}\n\n/**\n * Handle when an output is cleared or removed\n */\nfunction handle_clear_output(event, handle) {\n  var id = handle.cell.output_area._hv_plot_id;\n  var server_id = handle.cell.output_area._bokeh_server_id;\n  if (((id === undefined) || !(id in PyViz.plot_index)) && (server_id !== undefined)) { return; }\n  var comm = window.PyViz.comm_manager.get_client_comm(\"hv-extension-comm\", \"hv-extension-comm\", function () {});\n  if (server_id !== null) {\n    comm.send({event_type: 'server_delete', 'id': server_id});\n    return;\n  } else if (comm !== null) {\n    comm.send({event_type: 'delete', 'id': id});\n  }\n  delete PyViz.plot_index[id];\n  if ((window.Bokeh !== undefined) & (id in window.Bokeh.index)) {\n    var doc = window.Bokeh.index[id].model.document\n    doc.clear();\n    const i = window.Bokeh.documents.indexOf(doc);\n    if (i > -1) {\n      window.Bokeh.documents.splice(i, 1);\n    }\n  }\n}\n\n/**\n * Handle kernel restart event\n */\nfunction handle_kernel_cleanup(event, handle) {\n  delete PyViz.comms[\"hv-extension-comm\"];\n  window.PyViz.plot_index = {}\n}\n\n/**\n * Handle update_display_data messages\n */\nfunction handle_update_output(event, handle) {\n  handle_clear_output(event, {cell: {output_area: handle.output_area}})\n  handle_add_output(event, handle)\n}\n\nfunction register_renderer(events, OutputArea) {\n  function append_mime(data, metadata, element) {\n    // create a DOM node to render to\n    var toinsert = this.create_output_subarea(\n    metadata,\n    CLASS_NAME,\n    EXEC_MIME_TYPE\n    );\n    this.keyboard_manager.register_events(toinsert);\n    // Render to node\n    var props = {data: data, metadata: metadata[EXEC_MIME_TYPE]};\n    render(props, toinsert[0]);\n    element.append(toinsert);\n    return toinsert\n  }\n\n  events.on('output_added.OutputArea', handle_add_output);\n  events.on('output_updated.OutputArea', handle_update_output);\n  events.on('clear_output.CodeCell', handle_clear_output);\n  events.on('delete.Cell', handle_clear_output);\n  events.on('kernel_ready.Kernel', handle_kernel_cleanup);\n\n  OutputArea.prototype.register_mime_type(EXEC_MIME_TYPE, append_mime, {\n    safe: true,\n    index: 0\n  });\n}\n\nif (window.Jupyter !== undefined) {\n  try {\n    var events = require('base/js/events');\n    var OutputArea = require('notebook/js/outputarea').OutputArea;\n    if (OutputArea.prototype.mime_types().indexOf(EXEC_MIME_TYPE) == -1) {\n      register_renderer(events, OutputArea);\n    }\n  } catch(err) {\n  }\n}\n",
      "application/vnd.holoviews_load.v0+json": ""
     },
     "metadata": {},
     "output_type": "display_data"
    },
    {
     "data": {
      "text/html": [
       "<style>*[data-root-id],\n",
       "*[data-root-id] > * {\n",
       "  box-sizing: border-box;\n",
       "  font-family: var(--jp-ui-font-family);\n",
       "  font-size: var(--jp-ui-font-size1);\n",
       "  color: var(--vscode-editor-foreground, var(--jp-ui-font-color1));\n",
       "}\n",
       "\n",
       "/* Override VSCode background color */\n",
       ".cell-output-ipywidget-background:has(\n",
       "    > .cell-output-ipywidget-background > .lm-Widget > *[data-root-id]\n",
       "  ),\n",
       ".cell-output-ipywidget-background:has(> .lm-Widget > *[data-root-id]) {\n",
       "  background-color: transparent !important;\n",
       "}\n",
       "</style>"
      ]
     },
     "metadata": {},
     "output_type": "display_data"
    }
   ],
   "source": [
    "# Custom functions for Pollution Assessment\n",
    "import pollution_assessment as pa"
   ]
  },
  {
   "cell_type": "markdown",
   "id": "d9a60b1c",
   "metadata": {},
   "source": [
    "### If you get `ModuleNotFoundError`:\n",
    "\n",
    "If you get this error:\n",
    "```python\n",
    "ModuleNotFoundError: No module named 'pollution_assessment'\n",
    "```\n",
    "Then:\n",
    "1. Run the following terminal command with your local absolute path to this repo.\n",
    "    - NOTE: Here we use Jupyter `!` magic command to run from the terminal via this notebook. \n",
    "2. Restart the kernel.\n",
    "3. Rerun the import statements above.\n",
    "\n",
    "See [Step 4 in the Installation Instructions](#4-add-your-repos-path-to-miniconda-site-packages)."
   ]
  },
  {
   "cell_type": "code",
   "execution_count": 3,
   "id": "d894cfe9",
   "metadata": {},
   "outputs": [
    {
     "name": "stdout",
     "output_type": "stream",
     "text": [
      "path exists, skipping /Users/aaufdenkampe/Documents/Python/pollution-assessment/src\n",
      "completed operation for: /Users/aaufdenkampe/Documents/Python/pollution-assessment/src\n"
     ]
    }
   ],
   "source": [
    "!conda develop /Users/aaufdenkampe/Documents/Python/pollution-assessment/src"
   ]
  },
  {
   "cell_type": "code",
   "execution_count": 4,
   "id": "1d37a44a",
   "metadata": {},
   "outputs": [
    {
     "data": {
      "text/plain": [
       "['__builtins__',\n",
       " '__cached__',\n",
       " '__doc__',\n",
       " '__file__',\n",
       " '__loader__',\n",
       " '__name__',\n",
       " '__package__',\n",
       " '__path__',\n",
       " '__spec__',\n",
       " '__version__',\n",
       " 'calc',\n",
       " 'dynamic_plot',\n",
       " 'make_map',\n",
       " 'plot',\n",
       " 'plot_protected_land',\n",
       " 'summary_stats',\n",
       " 'v2_plots']"
      ]
     },
     "execution_count": 4,
     "metadata": {},
     "output_type": "execute_result"
    }
   ],
   "source": [
    "# Confirm that sub-modules are imported\n",
    "dir(pa)"
   ]
  },
  {
   "cell_type": "code",
   "execution_count": 5,
   "id": "5e62afda",
   "metadata": {},
   "outputs": [
    {
     "data": {
      "text/plain": [
       "['CalcMinMax',\n",
       " 'Extent_Map',\n",
       " 'FormatAxes',\n",
       " 'LatLonExtent',\n",
       " 'LatLonExtent_FA',\n",
       " 'LogNorm',\n",
       " 'MidPointLogNorm',\n",
       " 'Path',\n",
       " 'PlotMaps',\n",
       " 'PlotMaps_FA_single_pane',\n",
       " 'PlotZoom',\n",
       " 'Polygon',\n",
       " 'ScaleBar',\n",
       " '__builtins__',\n",
       " '__cached__',\n",
       " '__doc__',\n",
       " '__file__',\n",
       " '__loader__',\n",
       " '__name__',\n",
       " '__package__',\n",
       " '__spec__',\n",
       " 'add_basemap',\n",
       " 'add_colorbar',\n",
       " 'calc',\n",
       " 'cc',\n",
       " 'color_normalization_bounds',\n",
       " 'ctx',\n",
       " 'gpd',\n",
       " 'hv',\n",
       " 'matplotlib',\n",
       " 'np',\n",
       " 'pd',\n",
       " 'plot_FA_boundaries',\n",
       " 'plot_protec_nat',\n",
       " 'plot_remaining_work',\n",
       " 'plot_remaining_work_dif',\n",
       " 'plt',\n",
       " 'remove_negatives',\n",
       " 'set_transparent',\n",
       " 'sine_combs',\n",
       " 'swatch',\n",
       " 'swatches']"
      ]
     },
     "execution_count": 5,
     "metadata": {},
     "output_type": "execute_result"
    }
   ],
   "source": [
    "# Confirm functions within a module\n",
    "dir(pa.plot)"
   ]
  },
  {
   "cell_type": "markdown",
   "id": "d139bc57",
   "metadata": {},
   "source": [
    "## Set Paths to Input and Output Files with `pathlib`\n",
    "\n",
    "Use the [pathlib](https://docs.python.org/3/library/pathlib.html) library (built-in to Python 3) to manage paths indpendentely of OS or environment.\n",
    "\n",
    "This blog post describes `pathlib`'s benefits relative to using the `os` library or manual approaches.\n",
    "- https://medium.com/@ageitgey/python-3-quick-tip-the-easy-way-to-deal-with-file-paths-on-windows-mac-and-linux-11a072b58d5f"
   ]
  },
  {
   "cell_type": "code",
   "execution_count": 6,
   "id": "19ea02c8",
   "metadata": {},
   "outputs": [
    {
     "data": {
      "text/plain": [
       "PosixPath('/Users/aaufdenkampe/Documents/Python/pollution-assessment/stage2')"
      ]
     },
     "execution_count": 6,
     "metadata": {},
     "output_type": "execute_result"
    }
   ],
   "source": [
    "# Find your current working directory, which should be folder for this notebook.\n",
    "Path.cwd()"
   ]
  },
  {
   "cell_type": "code",
   "execution_count": 7,
   "id": "27f8fd7c",
   "metadata": {},
   "outputs": [
    {
     "data": {
      "text/plain": [
       "PosixPath('/Users/aaufdenkampe/Documents/Python/pollution-assessment')"
      ]
     },
     "execution_count": 7,
     "metadata": {},
     "output_type": "execute_result"
    }
   ],
   "source": [
    "# Set your project directory to your local folder for your clone of this repository\n",
    "project_path = Path.cwd().parent\n",
    "project_path"
   ]
  },
  {
   "cell_type": "code",
   "execution_count": 8,
   "id": "25b4b3da",
   "metadata": {},
   "outputs": [],
   "source": [
    "# Assign a path for PA21 data INPUT folders. \n",
    "# For folders, end with a slash character, `/`.\n",
    "pa1_data_path = project_path / 'stage1/data/'"
   ]
  },
  {
   "cell_type": "code",
   "execution_count": 9,
   "id": "4f3da955",
   "metadata": {},
   "outputs": [],
   "source": [
    "# Assign relative paths for PA2 data INPUT folders. \n",
    "pa2_mmw_folder  = Path('stage2/DRB_GWLFE/mmw_results/')\n",
    "pa2_wikisrat_folder = Path('stage2/wikiSRAT/')\n",
    "\n",
    "# Uncommment to test WikiSRAT files from Oct 27 \n",
    "# (committed on Sept 26) https://github.com/WikiWatershed/pollution-assessment/commit/d79d7d1d68a9f3a96238c1d6cbedd7ba045a4597\n",
    "# pa2_wikisrat_folder = Path('stage2/wikiSRAT_oct27/')"
   ]
  },
  {
   "cell_type": "code",
   "execution_count": 10,
   "id": "5c77ceec",
   "metadata": {},
   "outputs": [],
   "source": [
    "# Assign a path for the geographies folder.\n",
    "geography_path = project_path / 'geography/'"
   ]
  },
  {
   "cell_type": "code",
   "execution_count": 11,
   "id": "ab8ec3bc-359a-4fd3-88ac-1d6d452c4d67",
   "metadata": {},
   "outputs": [],
   "source": [
    "# Assign a path for the data OUTPUT folder.\n",
    "data_output_path = project_path / 'stage2/data_output/'"
   ]
  },
  {
   "cell_type": "markdown",
   "id": "2bf87dcd",
   "metadata": {},
   "source": [
    "# PA2 Names & Units"
   ]
  },
  {
   "cell_type": "markdown",
   "id": "34e9b9c2-f187-4364-b6ef-da5f5ff4de28",
   "metadata": {},
   "source": [
    "## PA2 File Naming Conventions\n",
    "NOTE: For Stage 2 we changed naming slightly from Stage 1, to better facilitate building various options.\n",
    "\n",
    "Level 1 names, scale:\n",
    "* `reach` indicates reach-level data, which includes all upstream contributions\n",
    "* `catch` indicates catchment-level data, for the local catchment only\n",
    "\n",
    "Level 2 names, model:\n",
    "* `_base` indicates model baseline outputs (no conservation)\n",
    "* `_rest` indicates model with restoration reductions\n",
    "* `_prot` indicates model with protection projects, avoided loads\n",
    "\n",
    "**Clusters** are geographic priority areas, which include parts of pristine headwaters and working forests of the upper watershed, farmlands, suburbs, and industrial and urban centers downstream, and the coastal plain where the river and emerging groundwater empties into either the Delaware Bay or the Atlantic Coast.\n",
    "\n",
    "There are 8 included in the DRB:\n",
    "- Poconos-Kittaninny, \n",
    "- Upper Lehigh,  \n",
    "- New Jersey Highlands, \n",
    "- Middle Schuylkill, \n",
    "- Schuylkill Highlands, \n",
    "- Upstream Suburban Philadelphia, \n",
    "- Brandywine-Christina, \n",
    "- Kirkwood-Cohansey Aquifer. \n",
    "\n",
    "**Focus areas** are smaller geographic units within clusters. "
   ]
  },
  {
   "cell_type": "markdown",
   "id": "1097498e",
   "metadata": {},
   "source": [
    "# Create GeoDataframes for COMID Catchment & Reach Geometries\n",
    "Read Stage 1 dataframes to get the COMIDs & geometries for NHD+v2 catchments and reaches, as a foundation for all Stage 2 work\n",
    "\n",
    "- Background: stage1/WikiSRAT_AnalysisViz.ipynb\n",
    "- Parquet to GeoDataFrame: https://geopandas.readthedocs.io/en/latest/docs/reference/api/geopandas.read_parquet.html"
   ]
  },
  {
   "cell_type": "markdown",
   "id": "18fdbc23",
   "metadata": {},
   "source": [
    "## Read Stage 1 GeoDataFrames w/ COMID geometries"
   ]
  },
  {
   "cell_type": "code",
   "execution_count": 12,
   "id": "e5f13b75",
   "metadata": {},
   "outputs": [
    {
     "name": "stdout",
     "output_type": "stream",
     "text": [
      "CPU times: user 495 ms, sys: 136 ms, total: 631 ms\n",
      "Wall time: 598 ms\n"
     ]
    }
   ],
   "source": [
    "%%time\n",
    "# read data from parquet files\n",
    "catch_gdf = gpd.read_parquet(pa1_data_path /'base_df_catch.parquet')\n",
    "reach_gdf = gpd.read_parquet(pa1_data_path /'base_df_reach.parquet')"
   ]
  },
  {
   "cell_type": "code",
   "execution_count": 13,
   "id": "d921eb2d",
   "metadata": {},
   "outputs": [
    {
     "name": "stdout",
     "output_type": "stream",
     "text": [
      "<class 'geopandas.geodataframe.GeoDataFrame'>\n",
      "Index: 19496 entries, 1748535 to 932040370\n",
      "Data columns (total 19 columns):\n",
      " #   Column              Non-Null Count  Dtype   \n",
      "---  ------              --------------  -----   \n",
      " 0   tp_load             19496 non-null  float64 \n",
      " 1   tn_load             19496 non-null  float64 \n",
      " 2   tss_load            19496 non-null  float64 \n",
      " 3   catchment_hectares  19496 non-null  float64 \n",
      " 4   watershed_hectares  19496 non-null  float64 \n",
      " 5   tp_loadrate_ws      19496 non-null  float64 \n",
      " 6   tn_loadrate_ws      19496 non-null  float64 \n",
      " 7   tss_loadrate_ws     19496 non-null  float64 \n",
      " 8   maflowv             19496 non-null  float64 \n",
      " 9   geom_catchment      19496 non-null  geometry\n",
      " 10  cluster             17358 non-null  category\n",
      " 11  sub_focusarea       186 non-null    Int64   \n",
      " 12  nord                18870 non-null  Int64   \n",
      " 13  nordstop            18844 non-null  Int64   \n",
      " 14  huc12               19496 non-null  category\n",
      " 15  streamorder         19496 non-null  int64   \n",
      " 16  headwater           19496 non-null  int64   \n",
      " 17  phase               4082 non-null   category\n",
      " 18  fa_name             4082 non-null   category\n",
      "dtypes: Int64(3), category(4), float64(9), geometry(1), int64(2)\n",
      "memory usage: 2.6 MB\n"
     ]
    }
   ],
   "source": [
    "catch_gdf.info()"
   ]
  },
  {
   "cell_type": "code",
   "execution_count": 14,
   "id": "389622c8",
   "metadata": {},
   "outputs": [
    {
     "name": "stdout",
     "output_type": "stream",
     "text": [
      "<class 'geopandas.geodataframe.GeoDataFrame'>\n",
      "Index: 19496 entries, 1748535 to 932040370\n",
      "Data columns (total 16 columns):\n",
      " #   Column              Non-Null Count  Dtype   \n",
      "---  ------              --------------  -----   \n",
      " 0   tp_conc             16823 non-null  float64 \n",
      " 1   tn_conc             16823 non-null  float64 \n",
      " 2   tss_conc            16823 non-null  float64 \n",
      " 3   catchment_hectares  19496 non-null  float64 \n",
      " 4   watershed_hectares  19496 non-null  float64 \n",
      " 5   maflowv             19496 non-null  float64 \n",
      " 6   geom                19494 non-null  geometry\n",
      " 7   cluster             17358 non-null  category\n",
      " 8   sub_focusarea       186 non-null    Int64   \n",
      " 9   nord                18870 non-null  Int64   \n",
      " 10  nordstop            18844 non-null  Int64   \n",
      " 11  huc12               19496 non-null  category\n",
      " 12  streamorder         19496 non-null  int64   \n",
      " 13  headwater           19496 non-null  int64   \n",
      " 14  phase               4082 non-null   category\n",
      " 15  fa_name             4082 non-null   category\n",
      "dtypes: Int64(3), category(4), float64(6), geometry(1), int64(2)\n",
      "memory usage: 2.1 MB\n"
     ]
    }
   ],
   "source": [
    "reach_gdf.info()"
   ]
  },
  {
   "cell_type": "markdown",
   "id": "25a5684b",
   "metadata": {},
   "source": [
    "## Remove Stage 1 results"
   ]
  },
  {
   "cell_type": "code",
   "execution_count": 15,
   "id": "5b9fc2ae",
   "metadata": {},
   "outputs": [],
   "source": [
    "pa1_catch_vars = ['tp_load', 'tn_load', 'tss_load',\n",
    "    'tp_loadrate_ws', 'tn_loadrate_ws', 'tss_loadrate_ws',\n",
    "]\n",
    "catch_gdf.drop(pa1_catch_vars, axis='columns', inplace=True)"
   ]
  },
  {
   "cell_type": "code",
   "execution_count": 16,
   "id": "8b0a0d76",
   "metadata": {},
   "outputs": [],
   "source": [
    "pa1_reach_vars = ['tp_conc', 'tn_conc', 'tss_conc',]\n",
    "reach_gdf.drop(pa1_reach_vars, axis='columns', inplace=True)"
   ]
  },
  {
   "cell_type": "markdown",
   "id": "b1b63a2a",
   "metadata": {},
   "source": [
    "## Rename Geometry\n",
    "Apparently, in GeoViews, the geometry column **must** be named 'geometry', otherwise get an error. Sarah found that solve in [this discussion](https://github.com/holoviz/geoviews/issues/506). \n",
    "\n",
    "GeoPandas >=0.12 appears to require a special `gdf.rename_geometry()` function, rather than the generic rename column function."
   ]
  },
  {
   "cell_type": "code",
   "execution_count": 17,
   "id": "64dc078b",
   "metadata": {},
   "outputs": [
    {
     "data": {
      "text/plain": [
       "'geom'"
      ]
     },
     "execution_count": 17,
     "metadata": {},
     "output_type": "execute_result"
    }
   ],
   "source": [
    "reach_gdf.geometry.name"
   ]
  },
  {
   "cell_type": "code",
   "execution_count": 18,
   "id": "c5afaa59",
   "metadata": {},
   "outputs": [
    {
     "data": {
      "text/plain": [
       "'geom_catchment'"
      ]
     },
     "execution_count": 18,
     "metadata": {},
     "output_type": "execute_result"
    }
   ],
   "source": [
    "catch_gdf.geometry.name"
   ]
  },
  {
   "cell_type": "code",
   "execution_count": 19,
   "id": "cdda19d5",
   "metadata": {},
   "outputs": [],
   "source": [
    "reach_gdf.rename_geometry(\"geometry\", inplace=True)\n",
    "catch_gdf.rename_geometry(\"geometry\", inplace=True)"
   ]
  },
  {
   "cell_type": "code",
   "execution_count": 20,
   "id": "2be5e376",
   "metadata": {},
   "outputs": [
    {
     "data": {
      "text/plain": [
       "'geometry'"
      ]
     },
     "execution_count": 20,
     "metadata": {},
     "output_type": "execute_result"
    }
   ],
   "source": [
    "reach_gdf.geometry.name"
   ]
  },
  {
   "cell_type": "code",
   "execution_count": 21,
   "id": "bf7fdbcd",
   "metadata": {},
   "outputs": [
    {
     "data": {
      "text/plain": [
       "'geometry'"
      ]
     },
     "execution_count": 21,
     "metadata": {},
     "output_type": "execute_result"
    }
   ],
   "source": [
    "catch_gdf.geometry.name"
   ]
  },
  {
   "cell_type": "markdown",
   "id": "5a763a9f",
   "metadata": {},
   "source": [
    "## Add HUC8 and DRB tags to each COMID"
   ]
  },
  {
   "cell_type": "code",
   "execution_count": 22,
   "id": "45b80d78",
   "metadata": {},
   "outputs": [
    {
     "name": "stdout",
     "output_type": "stream",
     "text": [
      "<class 'pandas.core.frame.DataFrame'>\n",
      "Index: 21837 entries, 6261932 to 8409259\n",
      "Data columns (total 2 columns):\n",
      " #   Column  Non-Null Count  Dtype   \n",
      "---  ------  --------------  -----   \n",
      " 0   in_drb  21837 non-null  object  \n",
      " 1   huc08   21837 non-null  category\n",
      "dtypes: category(1), object(1)\n",
      "memory usage: 363.2+ KB\n"
     ]
    }
   ],
   "source": [
    "# Read HUC08 tags from list of COMIDs in HUC04='0204'\n",
    "temp_df = pd.read_csv(pa1_data_path /'comids0204_in_drb.csv',\n",
    "                      index_col='comid',\n",
    "                      dtype={ #'in_drb': 'category',  # keep as string object, to convert to boolean\n",
    "                             'huc08': 'category',\n",
    "                            }\n",
    "                     )\n",
    "temp_df.info()"
   ]
  },
  {
   "cell_type": "code",
   "execution_count": 23,
   "id": "1721d6ab",
   "metadata": {},
   "outputs": [],
   "source": [
    "# Convert 'in_drb' to boolean\n",
    "temp_df.in_drb = temp_df.in_drb.copy().map({\n",
    "    't': True,\n",
    "    'f': False,\n",
    "}).astype('boolean')"
   ]
  },
  {
   "cell_type": "code",
   "execution_count": 24,
   "id": "a0bc6670",
   "metadata": {},
   "outputs": [
    {
     "name": "stdout",
     "output_type": "stream",
     "text": [
      "<class 'pandas.core.frame.DataFrame'>\n",
      "Index: 21837 entries, 6261932 to 8409259\n",
      "Data columns (total 2 columns):\n",
      " #   Column  Non-Null Count  Dtype   \n",
      "---  ------  --------------  -----   \n",
      " 0   in_drb  21837 non-null  boolean \n",
      " 1   huc08   21837 non-null  category\n",
      "dtypes: boolean(1), category(1)\n",
      "memory usage: 235.3 KB\n"
     ]
    }
   ],
   "source": [
    "temp_df.info()"
   ]
  },
  {
   "cell_type": "code",
   "execution_count": 25,
   "id": "7b98ffbf",
   "metadata": {},
   "outputs": [],
   "source": [
    "# Add columns to df\n",
    "vars = ['in_drb','huc08']\n",
    "\n",
    "reach_gdf[vars] = temp_df[vars]\n",
    "catch_gdf[vars] = temp_df[vars]"
   ]
  },
  {
   "cell_type": "markdown",
   "id": "cc9dc8ca",
   "metadata": {},
   "source": [
    "### Confirm counts"
   ]
  },
  {
   "cell_type": "code",
   "execution_count": 26,
   "id": "cbb1338d",
   "metadata": {},
   "outputs": [
    {
     "data": {
      "text/plain": [
       "in_drb\n",
       "True     16033\n",
       "False     5804\n",
       "Name: count, dtype: Int64"
      ]
     },
     "execution_count": 26,
     "metadata": {},
     "output_type": "execute_result"
    }
   ],
   "source": [
    "temp_df.in_drb.value_counts()"
   ]
  },
  {
   "cell_type": "code",
   "execution_count": 27,
   "id": "4f62b6bd",
   "metadata": {},
   "outputs": [
    {
     "data": {
      "text/plain": [
       "in_drb\n",
       "True     16033\n",
       "False     3463\n",
       "Name: count, dtype: Int64"
      ]
     },
     "execution_count": 27,
     "metadata": {},
     "output_type": "execute_result"
    }
   ],
   "source": [
    "# Confirm that no DRB stream reaches are dropped\n",
    "reach_gdf.in_drb.value_counts()"
   ]
  },
  {
   "cell_type": "code",
   "execution_count": 28,
   "id": "de0ec376",
   "metadata": {},
   "outputs": [
    {
     "data": {
      "text/plain": [
       "['02040301', '02040302', '02040303', '02040304', '02040101', ..., '02040203', '02040204', '02040205', '02040206', '02040207']\n",
       "Length: 17\n",
       "Categories (17, object): ['02040101', '02040102', '02040103', '02040104', ..., '02040301', '02040302', '02040303', '02040304']"
      ]
     },
     "execution_count": 28,
     "metadata": {},
     "output_type": "execute_result"
    }
   ],
   "source": [
    "temp_df.huc08.unique()"
   ]
  },
  {
   "cell_type": "code",
   "execution_count": 29,
   "id": "bac7c024",
   "metadata": {},
   "outputs": [
    {
     "data": {
      "text/plain": [
       "['02040102', '02040105', '02040101', '02040104', '02040103', ..., '02040207', '02040303', '02040302', '02040301', '02040206']\n",
       "Length: 16\n",
       "Categories (17, object): ['02040101', '02040102', '02040103', '02040104', ..., '02040301', '02040302', '02040303', '02040304']"
      ]
     },
     "execution_count": 29,
     "metadata": {},
     "output_type": "execute_result"
    }
   ],
   "source": [
    "reach_gdf.huc08.unique()"
   ]
  },
  {
   "cell_type": "markdown",
   "id": "abead2ef",
   "metadata": {},
   "source": [
    "## Add HUC10 tags to each COMID"
   ]
  },
  {
   "cell_type": "code",
   "execution_count": 30,
   "id": "58e92985",
   "metadata": {},
   "outputs": [],
   "source": [
    "# Convert huc12 to string, strip right 2 characters, and convert back to categorical\n",
    "reach_gdf['huc10'] = reach_gdf.huc12.astype('str').str[:-2].astype(pd.CategoricalDtype())\n",
    "catch_gdf['huc10'] = catch_gdf.huc12.astype('str').str[:-2].astype(pd.CategoricalDtype())"
   ]
  },
  {
   "cell_type": "code",
   "execution_count": 31,
   "id": "7eb2e97d",
   "metadata": {},
   "outputs": [
    {
     "data": {
      "text/plain": [
       "comid\n",
       "1748535      0204010203\n",
       "1748537      0204010203\n",
       "1748539      0204010203\n",
       "1748541      0204010203\n",
       "1748543      0204010203\n",
       "                ...    \n",
       "932040366    0204020601\n",
       "932040367    0204020601\n",
       "932040368    0204020601\n",
       "932040369    0204020400\n",
       "932040370    0204020601\n",
       "Name: huc10, Length: 19496, dtype: category\n",
       "Categories (96, object): ['0204010101', '0204010102', '0204010103', '0204010104', ..., '0204030202', '0204030203', '0204030204', '0204030301']"
      ]
     },
     "execution_count": 31,
     "metadata": {},
     "output_type": "execute_result"
    }
   ],
   "source": [
    "reach_gdf['huc10']"
   ]
  },
  {
   "cell_type": "markdown",
   "id": "bef2337e",
   "metadata": {},
   "source": [
    "# Read Geography Geometry files"
   ]
  },
  {
   "cell_type": "markdown",
   "id": "d915004a",
   "metadata": {},
   "source": [
    "## DRWI Clusters & Focus Areas"
   ]
  },
  {
   "cell_type": "code",
   "execution_count": 32,
   "id": "0211d96f",
   "metadata": {},
   "outputs": [],
   "source": [
    "# Read DRWI geometries from PA1\n",
    "cluster_gdf = gpd.read_parquet(pa1_data_path / 'cluster_df.parquet')\n",
    "\n",
    "focusarea_gdf = gpd.read_parquet(pa1_data_path /'fa_phase2_df.parquet')\n",
    "focusarea_gdf.cluster = focusarea_gdf.cluster.replace('Kirkwood Cohansey Aquifer', 'Kirkwood - Cohansey Aquifer') # update name for consistency with other files \n",
    "focusarea_gdf.set_index('name', inplace=True)"
   ]
  },
  {
   "cell_type": "markdown",
   "id": "b0b2b27f",
   "metadata": {},
   "source": [
    "## HUC12s in DRWI"
   ]
  },
  {
   "cell_type": "markdown",
   "id": "03305071",
   "metadata": {},
   "source": [
    "### HUC12 Part 1: Build base\n",
    "This workflow has been moslty moved to `geography/huc12_reach_analysis.ipynb`, which produces `huc12s_in_and_outflows_gdf.parquet`."
   ]
  },
  {
   "cell_type": "code",
   "execution_count": 33,
   "metadata": {},
   "outputs": [
    {
     "name": "stdout",
     "output_type": "stream",
     "text": [
      "<class 'geopandas.geodataframe.GeoDataFrame'>\n",
      "CategoricalIndex: 538 entries, 020401010101 to 020403040502\n",
      "Data columns (total 10 columns):\n",
      " #   Column         Non-Null Count  Dtype   \n",
      "---  ------         --------------  -----   \n",
      " 0   huc12_name     538 non-null    category\n",
      " 1   geometry       538 non-null    geometry\n",
      " 2   centroid_xy    538 non-null    object  \n",
      " 3   comid          523 non-null    Int64   \n",
      " 4   nord           523 non-null    Int64   \n",
      " 5   to_huc12       523 non-null    category\n",
      " 6   outlet_comid   523 non-null    Int64   \n",
      " 7   from_huc12s    249 non-null    object  \n",
      " 8   inlet_comids   249 non-null    object  \n",
      " 9   outlet_comids  538 non-null    object  \n",
      "dtypes: Int64(3), category(2), geometry(1), object(4)\n",
      "memory usage: 89.2+ KB\n"
     ]
    },
    {
     "data": {
      "text/html": [
       "<div>\n",
       "<style scoped>\n",
       "    .dataframe tbody tr th:only-of-type {\n",
       "        vertical-align: middle;\n",
       "    }\n",
       "\n",
       "    .dataframe tbody tr th {\n",
       "        vertical-align: top;\n",
       "    }\n",
       "\n",
       "    .dataframe thead th {\n",
       "        text-align: right;\n",
       "    }\n",
       "</style>\n",
       "<table border=\"1\" class=\"dataframe\">\n",
       "  <thead>\n",
       "    <tr style=\"text-align: right;\">\n",
       "      <th></th>\n",
       "      <th>huc12_name</th>\n",
       "      <th>geometry</th>\n",
       "      <th>centroid_xy</th>\n",
       "      <th>comid</th>\n",
       "      <th>nord</th>\n",
       "      <th>to_huc12</th>\n",
       "      <th>outlet_comid</th>\n",
       "      <th>from_huc12s</th>\n",
       "      <th>inlet_comids</th>\n",
       "      <th>outlet_comids</th>\n",
       "    </tr>\n",
       "    <tr>\n",
       "      <th>huc12</th>\n",
       "      <th></th>\n",
       "      <th></th>\n",
       "      <th></th>\n",
       "      <th></th>\n",
       "      <th></th>\n",
       "      <th></th>\n",
       "      <th></th>\n",
       "      <th></th>\n",
       "      <th></th>\n",
       "      <th></th>\n",
       "    </tr>\n",
       "  </thead>\n",
       "  <tbody>\n",
       "    <tr>\n",
       "      <th>020401010101</th>\n",
       "      <td>Town Brook-Headwaters West Brach Delaware River</td>\n",
       "      <td>POLYGON ((-74.59363 42.42361, -74.59395 42.423...</td>\n",
       "      <td>[-74.62155936289159, 42.387091234041016]</td>\n",
       "      <td>2612792</td>\n",
       "      <td>74293</td>\n",
       "      <td>020401010102</td>\n",
       "      <td>2612792</td>\n",
       "      <td>None</td>\n",
       "      <td>None</td>\n",
       "      <td>[2612792]</td>\n",
       "    </tr>\n",
       "    <tr>\n",
       "      <th>020401010102</th>\n",
       "      <td>Betty Brook-Headwaters West Brach Delaware River</td>\n",
       "      <td>POLYGON ((-74.69614 42.42722, -74.69579 42.427...</td>\n",
       "      <td>[-74.71393635968639, 42.38194565669812]</td>\n",
       "      <td>2612800</td>\n",
       "      <td>74290</td>\n",
       "      <td>020401010103</td>\n",
       "      <td>2612800</td>\n",
       "      <td>[020401010101]</td>\n",
       "      <td>[2612792]</td>\n",
       "      <td>[2612800, 2612922]</td>\n",
       "    </tr>\n",
       "    <tr>\n",
       "      <th>020401010103</th>\n",
       "      <td>Rose Brook-Headwaters West Brach Delaware River</td>\n",
       "      <td>POLYGON ((-74.77568 42.37921, -74.77530 42.379...</td>\n",
       "      <td>[-74.71097819143394, 42.330665690562654]</td>\n",
       "      <td>2612808</td>\n",
       "      <td>74288</td>\n",
       "      <td>020401010104</td>\n",
       "      <td>2612808</td>\n",
       "      <td>[020401010102]</td>\n",
       "      <td>[2612800]</td>\n",
       "      <td>[2612808]</td>\n",
       "    </tr>\n",
       "    <tr>\n",
       "      <th>020401010104</th>\n",
       "      <td>Elk Creek-Headwaters West Brach Delaware River</td>\n",
       "      <td>POLYGON ((-74.80026 42.40748, -74.79917 42.407...</td>\n",
       "      <td>[-74.82334627464569, 42.34506256688788]</td>\n",
       "      <td>2612820</td>\n",
       "      <td>74282</td>\n",
       "      <td>020401010106</td>\n",
       "      <td>2612820</td>\n",
       "      <td>[020401010103]</td>\n",
       "      <td>[2612808]</td>\n",
       "      <td>[2612820]</td>\n",
       "    </tr>\n",
       "    <tr>\n",
       "      <th>020401010105</th>\n",
       "      <td>Upper Little Delaware River</td>\n",
       "      <td>POLYGON ((-74.73673 42.31516, -74.73631 42.315...</td>\n",
       "      <td>[-74.78436638151948, 42.27096486797448]</td>\n",
       "      <td>2612842</td>\n",
       "      <td>74311</td>\n",
       "      <td>020401010106</td>\n",
       "      <td>2612842</td>\n",
       "      <td>None</td>\n",
       "      <td>None</td>\n",
       "      <td>[2612842]</td>\n",
       "    </tr>\n",
       "  </tbody>\n",
       "</table>\n",
       "</div>"
      ],
      "text/plain": [
       "                                                    huc12_name  \\\n",
       "huc12                                                            \n",
       "020401010101   Town Brook-Headwaters West Brach Delaware River   \n",
       "020401010102  Betty Brook-Headwaters West Brach Delaware River   \n",
       "020401010103   Rose Brook-Headwaters West Brach Delaware River   \n",
       "020401010104    Elk Creek-Headwaters West Brach Delaware River   \n",
       "020401010105                       Upper Little Delaware River   \n",
       "\n",
       "                                                       geometry  \\\n",
       "huc12                                                             \n",
       "020401010101  POLYGON ((-74.59363 42.42361, -74.59395 42.423...   \n",
       "020401010102  POLYGON ((-74.69614 42.42722, -74.69579 42.427...   \n",
       "020401010103  POLYGON ((-74.77568 42.37921, -74.77530 42.379...   \n",
       "020401010104  POLYGON ((-74.80026 42.40748, -74.79917 42.407...   \n",
       "020401010105  POLYGON ((-74.73673 42.31516, -74.73631 42.315...   \n",
       "\n",
       "                                           centroid_xy    comid   nord  \\\n",
       "huc12                                                                    \n",
       "020401010101  [-74.62155936289159, 42.387091234041016]  2612792  74293   \n",
       "020401010102   [-74.71393635968639, 42.38194565669812]  2612800  74290   \n",
       "020401010103  [-74.71097819143394, 42.330665690562654]  2612808  74288   \n",
       "020401010104   [-74.82334627464569, 42.34506256688788]  2612820  74282   \n",
       "020401010105   [-74.78436638151948, 42.27096486797448]  2612842  74311   \n",
       "\n",
       "                  to_huc12  outlet_comid     from_huc12s inlet_comids  \\\n",
       "huc12                                                                   \n",
       "020401010101  020401010102       2612792            None         None   \n",
       "020401010102  020401010103       2612800  [020401010101]    [2612792]   \n",
       "020401010103  020401010104       2612808  [020401010102]    [2612800]   \n",
       "020401010104  020401010106       2612820  [020401010103]    [2612808]   \n",
       "020401010105  020401010106       2612842            None         None   \n",
       "\n",
       "                   outlet_comids  \n",
       "huc12                             \n",
       "020401010101           [2612792]  \n",
       "020401010102  [2612800, 2612922]  \n",
       "020401010103           [2612808]  \n",
       "020401010104           [2612820]  \n",
       "020401010105           [2612842]  "
      ]
     },
     "execution_count": 33,
     "metadata": {},
     "output_type": "execute_result"
    }
   ],
   "source": [
    "huc12_outlets_gdf = gpd.read_parquet(\n",
    "        geography_path / 'huc12s_in_and_outflows_gdf.parquet',\n",
    ") \n",
    "huc12_outlets_gdf.huc12_name = huc12_outlets_gdf.huc12_name.astype(pd.CategoricalDtype())\n",
    "huc12_outlets_gdf.info()\n",
    "huc12_outlets_gdf.head(5)"
   ]
  },
  {
   "cell_type": "code",
   "execution_count": 34,
   "id": "26ceb626",
   "metadata": {},
   "outputs": [
    {
     "name": "stdout",
     "output_type": "stream",
     "text": [
      "<class 'geopandas.geodataframe.GeoDataFrame'>\n",
      "CategoricalIndex: 484 entries, 020401010101 to 020403030101\n",
      "Data columns (total 10 columns):\n",
      " #   Column         Non-Null Count  Dtype   \n",
      "---  ------         --------------  -----   \n",
      " 0   huc12_name     484 non-null    category\n",
      " 1   geometry       484 non-null    geometry\n",
      " 2   centroid_xy    484 non-null    object  \n",
      " 3   comid          481 non-null    Int64   \n",
      " 4   nord           481 non-null    Int64   \n",
      " 5   to_huc12       481 non-null    category\n",
      " 6   outlet_comid   481 non-null    Int64   \n",
      " 7   from_huc12s    231 non-null    object  \n",
      " 8   inlet_comids   231 non-null    object  \n",
      " 9   outlet_comids  484 non-null    object  \n",
      "dtypes: Int64(3), category(2), geometry(1), object(4)\n",
      "memory usage: 85.3+ KB\n"
     ]
    }
   ],
   "source": [
    "# Create HUC12 GDF filtered for DRWI only\n",
    "huc12_outlets_drwi_gdf = huc12_outlets_gdf.loc[reach_gdf.huc12.unique()]\n",
    "huc12_outlets_drwi_gdf.sort_index(inplace=True)\n",
    "huc12_outlets_drwi_gdf.info()"
   ]
  },
  {
   "cell_type": "code",
   "execution_count": 35,
   "id": "065bc8ea",
   "metadata": {},
   "outputs": [
    {
     "data": {
      "text/html": [
       "<div>\n",
       "<style scoped>\n",
       "    .dataframe tbody tr th:only-of-type {\n",
       "        vertical-align: middle;\n",
       "    }\n",
       "\n",
       "    .dataframe tbody tr th {\n",
       "        vertical-align: top;\n",
       "    }\n",
       "\n",
       "    .dataframe thead th {\n",
       "        text-align: right;\n",
       "    }\n",
       "</style>\n",
       "<table border=\"1\" class=\"dataframe\">\n",
       "  <thead>\n",
       "    <tr style=\"text-align: right;\">\n",
       "      <th></th>\n",
       "      <th>huc12_name</th>\n",
       "      <th>geometry</th>\n",
       "      <th>centroid_xy</th>\n",
       "      <th>comid</th>\n",
       "      <th>nord</th>\n",
       "      <th>to_huc12</th>\n",
       "      <th>outlet_comid</th>\n",
       "      <th>from_huc12s</th>\n",
       "      <th>inlet_comids</th>\n",
       "      <th>outlet_comids</th>\n",
       "    </tr>\n",
       "    <tr>\n",
       "      <th>huc12</th>\n",
       "      <th></th>\n",
       "      <th></th>\n",
       "      <th></th>\n",
       "      <th></th>\n",
       "      <th></th>\n",
       "      <th></th>\n",
       "      <th></th>\n",
       "      <th></th>\n",
       "      <th></th>\n",
       "      <th></th>\n",
       "    </tr>\n",
       "  </thead>\n",
       "  <tbody>\n",
       "    <tr>\n",
       "      <th>020402070605</th>\n",
       "      <td>Breakwater Harbor-Delaware Bay</td>\n",
       "      <td>POLYGON ((-75.09484 38.80573, -75.09482 38.805...</td>\n",
       "      <td>[-75.1767156817287, 38.8273442407868]</td>\n",
       "      <td>&lt;NA&gt;</td>\n",
       "      <td>&lt;NA&gt;</td>\n",
       "      <td>NaN</td>\n",
       "      <td>&lt;NA&gt;</td>\n",
       "      <td>None</td>\n",
       "      <td>None</td>\n",
       "      <td>[]</td>\n",
       "    </tr>\n",
       "    <tr>\n",
       "      <th>020403020408</th>\n",
       "      <td>Great Egg Harbor Bay-Great Egg Harbor Inlet</td>\n",
       "      <td>POLYGON ((-74.51911 39.39804, -74.51880 39.397...</td>\n",
       "      <td>[-74.55593928800339, 39.327626573083464]</td>\n",
       "      <td>&lt;NA&gt;</td>\n",
       "      <td>&lt;NA&gt;</td>\n",
       "      <td>NaN</td>\n",
       "      <td>&lt;NA&gt;</td>\n",
       "      <td>None</td>\n",
       "      <td>None</td>\n",
       "      <td>[]</td>\n",
       "    </tr>\n",
       "    <tr>\n",
       "      <th>020403030101</th>\n",
       "      <td>Wolfe Glade-Rehoboth Canal</td>\n",
       "      <td>POLYGON ((-75.08011 38.74036, -75.08026 38.739...</td>\n",
       "      <td>[-75.114143485874, 38.75904341704546]</td>\n",
       "      <td>&lt;NA&gt;</td>\n",
       "      <td>&lt;NA&gt;</td>\n",
       "      <td>NaN</td>\n",
       "      <td>&lt;NA&gt;</td>\n",
       "      <td>None</td>\n",
       "      <td>None</td>\n",
       "      <td>[]</td>\n",
       "    </tr>\n",
       "  </tbody>\n",
       "</table>\n",
       "</div>"
      ],
      "text/plain": [
       "                                               huc12_name  \\\n",
       "huc12                                                       \n",
       "020402070605               Breakwater Harbor-Delaware Bay   \n",
       "020403020408  Great Egg Harbor Bay-Great Egg Harbor Inlet   \n",
       "020403030101                   Wolfe Glade-Rehoboth Canal   \n",
       "\n",
       "                                                       geometry  \\\n",
       "huc12                                                             \n",
       "020402070605  POLYGON ((-75.09484 38.80573, -75.09482 38.805...   \n",
       "020403020408  POLYGON ((-74.51911 39.39804, -74.51880 39.397...   \n",
       "020403030101  POLYGON ((-75.08011 38.74036, -75.08026 38.739...   \n",
       "\n",
       "                                           centroid_xy  comid  nord to_huc12  \\\n",
       "huc12                                                                          \n",
       "020402070605     [-75.1767156817287, 38.8273442407868]   <NA>  <NA>      NaN   \n",
       "020403020408  [-74.55593928800339, 39.327626573083464]   <NA>  <NA>      NaN   \n",
       "020403030101     [-75.114143485874, 38.75904341704546]   <NA>  <NA>      NaN   \n",
       "\n",
       "              outlet_comid from_huc12s inlet_comids outlet_comids  \n",
       "huc12                                                              \n",
       "020402070605          <NA>        None         None            []  \n",
       "020403020408          <NA>        None         None            []  \n",
       "020403030101          <NA>        None         None            []  "
      ]
     },
     "execution_count": 35,
     "metadata": {},
     "output_type": "execute_result"
    }
   ],
   "source": [
    "# Explore null COMIDs\n",
    "gdf = huc12_outlets_drwi_gdf[huc12_outlets_drwi_gdf.outlet_comid.isnull()]\n",
    "gdf"
   ]
  },
  {
   "cell_type": "code",
   "execution_count": 36,
   "id": "aa34e38c",
   "metadata": {},
   "outputs": [
    {
     "data": {
      "text/html": [
       "<div>\n",
       "<style scoped>\n",
       "    .dataframe tbody tr th:only-of-type {\n",
       "        vertical-align: middle;\n",
       "    }\n",
       "\n",
       "    .dataframe tbody tr th {\n",
       "        vertical-align: top;\n",
       "    }\n",
       "\n",
       "    .dataframe thead th {\n",
       "        text-align: right;\n",
       "    }\n",
       "</style>\n",
       "<table border=\"1\" class=\"dataframe\">\n",
       "  <thead>\n",
       "    <tr style=\"text-align: right;\">\n",
       "      <th></th>\n",
       "      <th>catchment_hectares</th>\n",
       "      <th>watershed_hectares</th>\n",
       "      <th>maflowv</th>\n",
       "      <th>geometry</th>\n",
       "      <th>cluster</th>\n",
       "      <th>sub_focusarea</th>\n",
       "      <th>nord</th>\n",
       "      <th>nordstop</th>\n",
       "      <th>huc12</th>\n",
       "      <th>streamorder</th>\n",
       "      <th>headwater</th>\n",
       "      <th>phase</th>\n",
       "      <th>fa_name</th>\n",
       "      <th>in_drb</th>\n",
       "      <th>huc08</th>\n",
       "      <th>huc10</th>\n",
       "    </tr>\n",
       "    <tr>\n",
       "      <th>comid</th>\n",
       "      <th></th>\n",
       "      <th></th>\n",
       "      <th></th>\n",
       "      <th></th>\n",
       "      <th></th>\n",
       "      <th></th>\n",
       "      <th></th>\n",
       "      <th></th>\n",
       "      <th></th>\n",
       "      <th></th>\n",
       "      <th></th>\n",
       "      <th></th>\n",
       "      <th></th>\n",
       "      <th></th>\n",
       "      <th></th>\n",
       "      <th></th>\n",
       "    </tr>\n",
       "  </thead>\n",
       "  <tbody>\n",
       "    <tr>\n",
       "      <th>8409233</th>\n",
       "      <td>104.9463</td>\n",
       "      <td>105.03</td>\n",
       "      <td>0.439</td>\n",
       "      <td>MULTILINESTRING Z ((491007.244 4292985.904 0.0...</td>\n",
       "      <td>NaN</td>\n",
       "      <td>&lt;NA&gt;</td>\n",
       "      <td>&lt;NA&gt;</td>\n",
       "      <td>&lt;NA&gt;</td>\n",
       "      <td>020402070605</td>\n",
       "      <td>0</td>\n",
       "      <td>0</td>\n",
       "      <td>NaN</td>\n",
       "      <td>NaN</td>\n",
       "      <td>True</td>\n",
       "      <td>02040207</td>\n",
       "      <td>0204020706</td>\n",
       "    </tr>\n",
       "    <tr>\n",
       "      <th>8409515</th>\n",
       "      <td>120.1440</td>\n",
       "      <td>120.24</td>\n",
       "      <td>0.504</td>\n",
       "      <td>MULTILINESTRING Z ((492334.335 4293850.256 0.0...</td>\n",
       "      <td>NaN</td>\n",
       "      <td>&lt;NA&gt;</td>\n",
       "      <td>&lt;NA&gt;</td>\n",
       "      <td>&lt;NA&gt;</td>\n",
       "      <td>020402070605</td>\n",
       "      <td>0</td>\n",
       "      <td>0</td>\n",
       "      <td>NaN</td>\n",
       "      <td>NaN</td>\n",
       "      <td>True</td>\n",
       "      <td>02040207</td>\n",
       "      <td>0204020706</td>\n",
       "    </tr>\n",
       "    <tr>\n",
       "      <th>9437217</th>\n",
       "      <td>0.4497</td>\n",
       "      <td>0.45</td>\n",
       "      <td>0.001</td>\n",
       "      <td>MULTILINESTRING Z ((532184.744 4345020.691 0.0...</td>\n",
       "      <td>NaN</td>\n",
       "      <td>&lt;NA&gt;</td>\n",
       "      <td>&lt;NA&gt;</td>\n",
       "      <td>&lt;NA&gt;</td>\n",
       "      <td>020403020408</td>\n",
       "      <td>0</td>\n",
       "      <td>0</td>\n",
       "      <td>NaN</td>\n",
       "      <td>NaN</td>\n",
       "      <td>False</td>\n",
       "      <td>02040302</td>\n",
       "      <td>0204030204</td>\n",
       "    </tr>\n",
       "    <tr>\n",
       "      <th>26814149</th>\n",
       "      <td>0.7194</td>\n",
       "      <td>0.72</td>\n",
       "      <td>0.002</td>\n",
       "      <td>MULTILINESTRING Z ((532250.220 4344988.940 0.0...</td>\n",
       "      <td>NaN</td>\n",
       "      <td>&lt;NA&gt;</td>\n",
       "      <td>&lt;NA&gt;</td>\n",
       "      <td>&lt;NA&gt;</td>\n",
       "      <td>020403020408</td>\n",
       "      <td>0</td>\n",
       "      <td>0</td>\n",
       "      <td>NaN</td>\n",
       "      <td>NaN</td>\n",
       "      <td>False</td>\n",
       "      <td>02040302</td>\n",
       "      <td>0204030204</td>\n",
       "    </tr>\n",
       "    <tr>\n",
       "      <th>9436867</th>\n",
       "      <td>2.7878</td>\n",
       "      <td>2.79</td>\n",
       "      <td>0.011</td>\n",
       "      <td>MULTILINESTRING Z ((531869.300 4351093.754 0.0...</td>\n",
       "      <td>NaN</td>\n",
       "      <td>&lt;NA&gt;</td>\n",
       "      <td>&lt;NA&gt;</td>\n",
       "      <td>&lt;NA&gt;</td>\n",
       "      <td>020403020408</td>\n",
       "      <td>0</td>\n",
       "      <td>0</td>\n",
       "      <td>NaN</td>\n",
       "      <td>NaN</td>\n",
       "      <td>False</td>\n",
       "      <td>02040302</td>\n",
       "      <td>0204030204</td>\n",
       "    </tr>\n",
       "  </tbody>\n",
       "</table>\n",
       "</div>"
      ],
      "text/plain": [
       "          catchment_hectares  watershed_hectares  maflowv  \\\n",
       "comid                                                       \n",
       "8409233             104.9463              105.03    0.439   \n",
       "8409515             120.1440              120.24    0.504   \n",
       "9437217               0.4497                0.45    0.001   \n",
       "26814149              0.7194                0.72    0.002   \n",
       "9436867               2.7878                2.79    0.011   \n",
       "\n",
       "                                                   geometry cluster  \\\n",
       "comid                                                                 \n",
       "8409233   MULTILINESTRING Z ((491007.244 4292985.904 0.0...     NaN   \n",
       "8409515   MULTILINESTRING Z ((492334.335 4293850.256 0.0...     NaN   \n",
       "9437217   MULTILINESTRING Z ((532184.744 4345020.691 0.0...     NaN   \n",
       "26814149  MULTILINESTRING Z ((532250.220 4344988.940 0.0...     NaN   \n",
       "9436867   MULTILINESTRING Z ((531869.300 4351093.754 0.0...     NaN   \n",
       "\n",
       "          sub_focusarea  nord  nordstop         huc12  streamorder  headwater  \\\n",
       "comid                                                                           \n",
       "8409233            <NA>  <NA>      <NA>  020402070605            0          0   \n",
       "8409515            <NA>  <NA>      <NA>  020402070605            0          0   \n",
       "9437217            <NA>  <NA>      <NA>  020403020408            0          0   \n",
       "26814149           <NA>  <NA>      <NA>  020403020408            0          0   \n",
       "9436867            <NA>  <NA>      <NA>  020403020408            0          0   \n",
       "\n",
       "         phase fa_name  in_drb     huc08       huc10  \n",
       "comid                                                 \n",
       "8409233    NaN     NaN    True  02040207  0204020706  \n",
       "8409515    NaN     NaN    True  02040207  0204020706  \n",
       "9437217    NaN     NaN   False  02040302  0204030204  \n",
       "26814149   NaN     NaN   False  02040302  0204030204  \n",
       "9436867    NaN     NaN   False  02040302  0204030204  "
      ]
     },
     "execution_count": 36,
     "metadata": {},
     "output_type": "execute_result"
    }
   ],
   "source": [
    "# Select COMIDs based on larger `watershed_hectares`?\n",
    "# DECISION: NO\n",
    "reach_gdf.loc[reach_gdf.huc12.isin(gdf.index)].sort_values(['huc12','watershed_hectares']).head()"
   ]
  },
  {
   "cell_type": "code",
   "execution_count": 37,
   "id": "dfac0bcd",
   "metadata": {},
   "outputs": [
    {
     "name": "stdout",
     "output_type": "stream",
     "text": [
      "<class 'geopandas.geodataframe.GeoDataFrame'>\n",
      "CategoricalIndex: 481 entries, 020401010101 to 020403020407\n",
      "Data columns (total 10 columns):\n",
      " #   Column         Non-Null Count  Dtype   \n",
      "---  ------         --------------  -----   \n",
      " 0   huc12_name     481 non-null    category\n",
      " 1   geometry       481 non-null    geometry\n",
      " 2   centroid_xy    481 non-null    object  \n",
      " 3   comid          481 non-null    Int64   \n",
      " 4   nord           481 non-null    Int64   \n",
      " 5   to_huc12       481 non-null    category\n",
      " 6   outlet_comid   481 non-null    Int64   \n",
      " 7   from_huc12s    231 non-null    object  \n",
      " 8   inlet_comids   231 non-null    object  \n",
      " 9   outlet_comids  481 non-null    object  \n",
      "dtypes: Int64(3), category(2), geometry(1), object(4)\n",
      "memory usage: 85.1+ KB\n"
     ]
    }
   ],
   "source": [
    "# Drop HUC12's with missing COMID\n",
    "huc12_outlets_drwi_gdf.dropna(subset=['comid'], inplace=True)\n",
    "\n",
    "# Recast from 'int64' to nullable pd.Int64Dtype(), if necessary\n",
    "# huc12_outlets_drwi_gdf.outlet_comid = huc12_outlets_drwi_gdf.outlet_comid.astype(np.int64)\n",
    "\n",
    "huc12_outlets_drwi_gdf.info()"
   ]
  },
  {
   "cell_type": "code",
   "execution_count": 38,
   "metadata": {},
   "outputs": [],
   "source": [
    "# Add HUC10 & HUC08\n",
    "# Convert huc12 to string, strip right 2 characters, and convert back to categorical\n",
    "huc12_outlets_drwi_gdf['huc10'] = huc12_outlets_drwi_gdf.index.astype('str').str[:-2].astype(pd.CategoricalDtype())\n",
    "huc12_outlets_drwi_gdf['huc08'] = huc12_outlets_drwi_gdf.index.astype('str').str[:-4].astype(pd.CategoricalDtype())"
   ]
  },
  {
   "cell_type": "code",
   "execution_count": 39,
   "metadata": {},
   "outputs": [
    {
     "name": "stdout",
     "output_type": "stream",
     "text": [
      "<class 'geopandas.geodataframe.GeoDataFrame'>\n",
      "CategoricalIndex: 481 entries, 020401010101 to 020403020407\n",
      "Data columns (total 12 columns):\n",
      " #   Column         Non-Null Count  Dtype   \n",
      "---  ------         --------------  -----   \n",
      " 0   huc12_name     481 non-null    category\n",
      " 1   geometry       481 non-null    geometry\n",
      " 2   centroid_xy    481 non-null    object  \n",
      " 3   comid          481 non-null    Int64   \n",
      " 4   nord           481 non-null    Int64   \n",
      " 5   to_huc12       481 non-null    category\n",
      " 6   outlet_comid   481 non-null    Int64   \n",
      " 7   from_huc12s    231 non-null    object  \n",
      " 8   inlet_comids   231 non-null    object  \n",
      " 9   outlet_comids  481 non-null    object  \n",
      " 10  huc10          481 non-null    category\n",
      " 11  huc08          481 non-null    category\n",
      "dtypes: Int64(3), category(4), geometry(1), object(4)\n",
      "memory usage: 89.5+ KB\n"
     ]
    },
    {
     "data": {
      "text/html": [
       "<div>\n",
       "<style scoped>\n",
       "    .dataframe tbody tr th:only-of-type {\n",
       "        vertical-align: middle;\n",
       "    }\n",
       "\n",
       "    .dataframe tbody tr th {\n",
       "        vertical-align: top;\n",
       "    }\n",
       "\n",
       "    .dataframe thead th {\n",
       "        text-align: right;\n",
       "    }\n",
       "</style>\n",
       "<table border=\"1\" class=\"dataframe\">\n",
       "  <thead>\n",
       "    <tr style=\"text-align: right;\">\n",
       "      <th></th>\n",
       "      <th>huc12_name</th>\n",
       "      <th>geometry</th>\n",
       "      <th>centroid_xy</th>\n",
       "      <th>comid</th>\n",
       "      <th>nord</th>\n",
       "      <th>to_huc12</th>\n",
       "      <th>outlet_comid</th>\n",
       "      <th>from_huc12s</th>\n",
       "      <th>inlet_comids</th>\n",
       "      <th>outlet_comids</th>\n",
       "      <th>huc10</th>\n",
       "      <th>huc08</th>\n",
       "    </tr>\n",
       "    <tr>\n",
       "      <th>huc12</th>\n",
       "      <th></th>\n",
       "      <th></th>\n",
       "      <th></th>\n",
       "      <th></th>\n",
       "      <th></th>\n",
       "      <th></th>\n",
       "      <th></th>\n",
       "      <th></th>\n",
       "      <th></th>\n",
       "      <th></th>\n",
       "      <th></th>\n",
       "      <th></th>\n",
       "    </tr>\n",
       "  </thead>\n",
       "  <tbody>\n",
       "    <tr>\n",
       "      <th>020401010101</th>\n",
       "      <td>Town Brook-Headwaters West Brach Delaware River</td>\n",
       "      <td>POLYGON ((-74.59363 42.42361, -74.59395 42.423...</td>\n",
       "      <td>[-74.62155936289159, 42.387091234041016]</td>\n",
       "      <td>2612792</td>\n",
       "      <td>74293</td>\n",
       "      <td>020401010102</td>\n",
       "      <td>2612792</td>\n",
       "      <td>None</td>\n",
       "      <td>None</td>\n",
       "      <td>[2612792]</td>\n",
       "      <td>0204010101</td>\n",
       "      <td>02040101</td>\n",
       "    </tr>\n",
       "    <tr>\n",
       "      <th>020401010102</th>\n",
       "      <td>Betty Brook-Headwaters West Brach Delaware River</td>\n",
       "      <td>POLYGON ((-74.69614 42.42722, -74.69579 42.427...</td>\n",
       "      <td>[-74.71393635968639, 42.38194565669812]</td>\n",
       "      <td>2612800</td>\n",
       "      <td>74290</td>\n",
       "      <td>020401010103</td>\n",
       "      <td>2612800</td>\n",
       "      <td>[020401010101]</td>\n",
       "      <td>[2612792]</td>\n",
       "      <td>[2612800, 2612922]</td>\n",
       "      <td>0204010101</td>\n",
       "      <td>02040101</td>\n",
       "    </tr>\n",
       "    <tr>\n",
       "      <th>020401010103</th>\n",
       "      <td>Rose Brook-Headwaters West Brach Delaware River</td>\n",
       "      <td>POLYGON ((-74.77568 42.37921, -74.77530 42.379...</td>\n",
       "      <td>[-74.71097819143394, 42.330665690562654]</td>\n",
       "      <td>2612808</td>\n",
       "      <td>74288</td>\n",
       "      <td>020401010104</td>\n",
       "      <td>2612808</td>\n",
       "      <td>[020401010102]</td>\n",
       "      <td>[2612800]</td>\n",
       "      <td>[2612808]</td>\n",
       "      <td>0204010101</td>\n",
       "      <td>02040101</td>\n",
       "    </tr>\n",
       "    <tr>\n",
       "      <th>020401010104</th>\n",
       "      <td>Elk Creek-Headwaters West Brach Delaware River</td>\n",
       "      <td>POLYGON ((-74.80026 42.40748, -74.79917 42.407...</td>\n",
       "      <td>[-74.82334627464569, 42.34506256688788]</td>\n",
       "      <td>2612820</td>\n",
       "      <td>74282</td>\n",
       "      <td>020401010106</td>\n",
       "      <td>2612820</td>\n",
       "      <td>[020401010103]</td>\n",
       "      <td>[2612808]</td>\n",
       "      <td>[2612820]</td>\n",
       "      <td>0204010101</td>\n",
       "      <td>02040101</td>\n",
       "    </tr>\n",
       "    <tr>\n",
       "      <th>020401010105</th>\n",
       "      <td>Upper Little Delaware River</td>\n",
       "      <td>POLYGON ((-74.73673 42.31516, -74.73631 42.315...</td>\n",
       "      <td>[-74.78436638151948, 42.27096486797448]</td>\n",
       "      <td>2612842</td>\n",
       "      <td>74311</td>\n",
       "      <td>020401010106</td>\n",
       "      <td>2612842</td>\n",
       "      <td>None</td>\n",
       "      <td>None</td>\n",
       "      <td>[2612842]</td>\n",
       "      <td>0204010101</td>\n",
       "      <td>02040101</td>\n",
       "    </tr>\n",
       "  </tbody>\n",
       "</table>\n",
       "</div>"
      ],
      "text/plain": [
       "                                                    huc12_name  \\\n",
       "huc12                                                            \n",
       "020401010101   Town Brook-Headwaters West Brach Delaware River   \n",
       "020401010102  Betty Brook-Headwaters West Brach Delaware River   \n",
       "020401010103   Rose Brook-Headwaters West Brach Delaware River   \n",
       "020401010104    Elk Creek-Headwaters West Brach Delaware River   \n",
       "020401010105                       Upper Little Delaware River   \n",
       "\n",
       "                                                       geometry  \\\n",
       "huc12                                                             \n",
       "020401010101  POLYGON ((-74.59363 42.42361, -74.59395 42.423...   \n",
       "020401010102  POLYGON ((-74.69614 42.42722, -74.69579 42.427...   \n",
       "020401010103  POLYGON ((-74.77568 42.37921, -74.77530 42.379...   \n",
       "020401010104  POLYGON ((-74.80026 42.40748, -74.79917 42.407...   \n",
       "020401010105  POLYGON ((-74.73673 42.31516, -74.73631 42.315...   \n",
       "\n",
       "                                           centroid_xy    comid   nord  \\\n",
       "huc12                                                                    \n",
       "020401010101  [-74.62155936289159, 42.387091234041016]  2612792  74293   \n",
       "020401010102   [-74.71393635968639, 42.38194565669812]  2612800  74290   \n",
       "020401010103  [-74.71097819143394, 42.330665690562654]  2612808  74288   \n",
       "020401010104   [-74.82334627464569, 42.34506256688788]  2612820  74282   \n",
       "020401010105   [-74.78436638151948, 42.27096486797448]  2612842  74311   \n",
       "\n",
       "                  to_huc12  outlet_comid     from_huc12s inlet_comids  \\\n",
       "huc12                                                                   \n",
       "020401010101  020401010102       2612792            None         None   \n",
       "020401010102  020401010103       2612800  [020401010101]    [2612792]   \n",
       "020401010103  020401010104       2612808  [020401010102]    [2612800]   \n",
       "020401010104  020401010106       2612820  [020401010103]    [2612808]   \n",
       "020401010105  020401010106       2612842            None         None   \n",
       "\n",
       "                   outlet_comids       huc10     huc08  \n",
       "huc12                                                   \n",
       "020401010101           [2612792]  0204010101  02040101  \n",
       "020401010102  [2612800, 2612922]  0204010101  02040101  \n",
       "020401010103           [2612808]  0204010101  02040101  \n",
       "020401010104           [2612820]  0204010101  02040101  \n",
       "020401010105           [2612842]  0204010101  02040101  "
      ]
     },
     "execution_count": 39,
     "metadata": {},
     "output_type": "execute_result"
    }
   ],
   "source": [
    "huc12_outlets_drwi_gdf.info()\n",
    "huc12_outlets_drwi_gdf.head()"
   ]
  },
  {
   "cell_type": "code",
   "execution_count": 40,
   "id": "25231094",
   "metadata": {},
   "outputs": [],
   "source": [
    "columns = ['in_drb']\n",
    "huc12_outlets_drwi_gdf = huc12_outlets_drwi_gdf.join(reach_gdf[columns], on='comid')"
   ]
  },
  {
   "cell_type": "code",
   "execution_count": 41,
   "id": "8f5a095b",
   "metadata": {},
   "outputs": [
    {
     "name": "stdout",
     "output_type": "stream",
     "text": [
      "<class 'geopandas.geodataframe.GeoDataFrame'>\n",
      "CategoricalIndex: 481 entries, 020401010101 to 020403020407\n",
      "Data columns (total 13 columns):\n",
      " #   Column         Non-Null Count  Dtype   \n",
      "---  ------         --------------  -----   \n",
      " 0   huc12_name     481 non-null    category\n",
      " 1   geometry       481 non-null    geometry\n",
      " 2   centroid_xy    481 non-null    object  \n",
      " 3   comid          481 non-null    Int64   \n",
      " 4   nord           481 non-null    Int64   \n",
      " 5   to_huc12       481 non-null    category\n",
      " 6   outlet_comid   481 non-null    Int64   \n",
      " 7   from_huc12s    231 non-null    object  \n",
      " 8   inlet_comids   231 non-null    object  \n",
      " 9   outlet_comids  481 non-null    object  \n",
      " 10  huc10          481 non-null    category\n",
      " 11  huc08          481 non-null    category\n",
      " 12  in_drb         481 non-null    boolean \n",
      "dtypes: Int64(3), boolean(1), category(4), geometry(1), object(4)\n",
      "memory usage: 90.5+ KB\n"
     ]
    }
   ],
   "source": [
    "huc12_outlets_drwi_gdf.info()"
   ]
  },
  {
   "cell_type": "code",
   "execution_count": 42,
   "id": "4145e183",
   "metadata": {},
   "outputs": [
    {
     "data": {
      "text/plain": [
       "in_drb\n",
       "True     426\n",
       "False     55\n",
       "Name: count, dtype: Int64"
      ]
     },
     "execution_count": 42,
     "metadata": {},
     "output_type": "execute_result"
    }
   ],
   "source": [
    "huc12_outlets_drwi_gdf.in_drb.value_counts()"
   ]
  },
  {
   "cell_type": "markdown",
   "id": "081d6efe",
   "metadata": {},
   "source": [
    "### HUC12 Part 2: Add Inlet COMIDs\n",
    "Now done above by reading from `geography/huc12_reach_analysis.ipynb`"
   ]
  },
  {
   "cell_type": "code",
   "execution_count": 43,
   "id": "d362365c",
   "metadata": {},
   "outputs": [],
   "source": [
    "# Create base for new final output\n",
    "huc12_in_outlets_drwi_gdf = huc12_outlets_drwi_gdf"
   ]
  },
  {
   "cell_type": "code",
   "execution_count": 44,
   "metadata": {},
   "outputs": [
    {
     "name": "stdout",
     "output_type": "stream",
     "text": [
      "<class 'geopandas.geodataframe.GeoDataFrame'>\n",
      "CategoricalIndex: 481 entries, 020401010101 to 020403020407\n",
      "Data columns (total 13 columns):\n",
      " #   Column         Non-Null Count  Dtype   \n",
      "---  ------         --------------  -----   \n",
      " 0   huc12_name     481 non-null    category\n",
      " 1   geometry       481 non-null    geometry\n",
      " 2   centroid_xy    481 non-null    object  \n",
      " 3   comid          481 non-null    Int64   \n",
      " 4   nord           481 non-null    Int64   \n",
      " 5   to_huc12       481 non-null    category\n",
      " 6   outlet_comid   481 non-null    Int64   \n",
      " 7   from_huc12s    231 non-null    object  \n",
      " 8   inlet_comids   231 non-null    object  \n",
      " 9   outlet_comids  481 non-null    object  \n",
      " 10  huc10          481 non-null    category\n",
      " 11  huc08          481 non-null    category\n",
      " 12  in_drb         481 non-null    boolean \n",
      "dtypes: Int64(3), boolean(1), category(4), geometry(1), object(4)\n",
      "memory usage: 90.5+ KB\n"
     ]
    }
   ],
   "source": [
    "huc12_in_outlets_drwi_gdf.info()"
   ]
  },
  {
   "cell_type": "code",
   "execution_count": 45,
   "id": "d3e6387d",
   "metadata": {},
   "outputs": [
    {
     "data": {
      "text/html": [
       "<div>\n",
       "<style scoped>\n",
       "    .dataframe tbody tr th:only-of-type {\n",
       "        vertical-align: middle;\n",
       "    }\n",
       "\n",
       "    .dataframe tbody tr th {\n",
       "        vertical-align: top;\n",
       "    }\n",
       "\n",
       "    .dataframe thead th {\n",
       "        text-align: right;\n",
       "    }\n",
       "</style>\n",
       "<table border=\"1\" class=\"dataframe\">\n",
       "  <thead>\n",
       "    <tr style=\"text-align: right;\">\n",
       "      <th></th>\n",
       "      <th>huc12_name</th>\n",
       "      <th>geometry</th>\n",
       "      <th>centroid_xy</th>\n",
       "      <th>comid</th>\n",
       "      <th>nord</th>\n",
       "      <th>to_huc12</th>\n",
       "      <th>outlet_comid</th>\n",
       "      <th>from_huc12s</th>\n",
       "      <th>inlet_comids</th>\n",
       "      <th>outlet_comids</th>\n",
       "      <th>huc10</th>\n",
       "      <th>huc08</th>\n",
       "      <th>in_drb</th>\n",
       "    </tr>\n",
       "    <tr>\n",
       "      <th>huc12</th>\n",
       "      <th></th>\n",
       "      <th></th>\n",
       "      <th></th>\n",
       "      <th></th>\n",
       "      <th></th>\n",
       "      <th></th>\n",
       "      <th></th>\n",
       "      <th></th>\n",
       "      <th></th>\n",
       "      <th></th>\n",
       "      <th></th>\n",
       "      <th></th>\n",
       "      <th></th>\n",
       "    </tr>\n",
       "  </thead>\n",
       "  <tbody>\n",
       "    <tr>\n",
       "      <th>020401010101</th>\n",
       "      <td>Town Brook-Headwaters West Brach Delaware River</td>\n",
       "      <td>POLYGON ((-74.59363 42.42361, -74.59395 42.423...</td>\n",
       "      <td>[-74.62155936289159, 42.387091234041016]</td>\n",
       "      <td>2612792</td>\n",
       "      <td>74293</td>\n",
       "      <td>020401010102</td>\n",
       "      <td>2612792</td>\n",
       "      <td>None</td>\n",
       "      <td>None</td>\n",
       "      <td>[2612792]</td>\n",
       "      <td>0204010101</td>\n",
       "      <td>02040101</td>\n",
       "      <td>True</td>\n",
       "    </tr>\n",
       "    <tr>\n",
       "      <th>020401010102</th>\n",
       "      <td>Betty Brook-Headwaters West Brach Delaware River</td>\n",
       "      <td>POLYGON ((-74.69614 42.42722, -74.69579 42.427...</td>\n",
       "      <td>[-74.71393635968639, 42.38194565669812]</td>\n",
       "      <td>2612800</td>\n",
       "      <td>74290</td>\n",
       "      <td>020401010103</td>\n",
       "      <td>2612800</td>\n",
       "      <td>[020401010101]</td>\n",
       "      <td>[2612792]</td>\n",
       "      <td>[2612800, 2612922]</td>\n",
       "      <td>0204010101</td>\n",
       "      <td>02040101</td>\n",
       "      <td>True</td>\n",
       "    </tr>\n",
       "    <tr>\n",
       "      <th>020401010103</th>\n",
       "      <td>Rose Brook-Headwaters West Brach Delaware River</td>\n",
       "      <td>POLYGON ((-74.77568 42.37921, -74.77530 42.379...</td>\n",
       "      <td>[-74.71097819143394, 42.330665690562654]</td>\n",
       "      <td>2612808</td>\n",
       "      <td>74288</td>\n",
       "      <td>020401010104</td>\n",
       "      <td>2612808</td>\n",
       "      <td>[020401010102]</td>\n",
       "      <td>[2612800]</td>\n",
       "      <td>[2612808]</td>\n",
       "      <td>0204010101</td>\n",
       "      <td>02040101</td>\n",
       "      <td>True</td>\n",
       "    </tr>\n",
       "    <tr>\n",
       "      <th>020401010104</th>\n",
       "      <td>Elk Creek-Headwaters West Brach Delaware River</td>\n",
       "      <td>POLYGON ((-74.80026 42.40748, -74.79917 42.407...</td>\n",
       "      <td>[-74.82334627464569, 42.34506256688788]</td>\n",
       "      <td>2612820</td>\n",
       "      <td>74282</td>\n",
       "      <td>020401010106</td>\n",
       "      <td>2612820</td>\n",
       "      <td>[020401010103]</td>\n",
       "      <td>[2612808]</td>\n",
       "      <td>[2612820]</td>\n",
       "      <td>0204010101</td>\n",
       "      <td>02040101</td>\n",
       "      <td>True</td>\n",
       "    </tr>\n",
       "    <tr>\n",
       "      <th>020401010105</th>\n",
       "      <td>Upper Little Delaware River</td>\n",
       "      <td>POLYGON ((-74.73673 42.31516, -74.73631 42.315...</td>\n",
       "      <td>[-74.78436638151948, 42.27096486797448]</td>\n",
       "      <td>2612842</td>\n",
       "      <td>74311</td>\n",
       "      <td>020401010106</td>\n",
       "      <td>2612842</td>\n",
       "      <td>None</td>\n",
       "      <td>None</td>\n",
       "      <td>[2612842]</td>\n",
       "      <td>0204010101</td>\n",
       "      <td>02040101</td>\n",
       "      <td>True</td>\n",
       "    </tr>\n",
       "    <tr>\n",
       "      <th>...</th>\n",
       "      <td>...</td>\n",
       "      <td>...</td>\n",
       "      <td>...</td>\n",
       "      <td>...</td>\n",
       "      <td>...</td>\n",
       "      <td>...</td>\n",
       "      <td>...</td>\n",
       "      <td>...</td>\n",
       "      <td>...</td>\n",
       "      <td>...</td>\n",
       "      <td>...</td>\n",
       "      <td>...</td>\n",
       "      <td>...</td>\n",
       "    </tr>\n",
       "    <tr>\n",
       "      <th>020403020403</th>\n",
       "      <td>Absecon Bay</td>\n",
       "      <td>POLYGON ((-74.36191 39.40873, -74.36299 39.407...</td>\n",
       "      <td>[-74.44604887400864, 39.417944290515535]</td>\n",
       "      <td>9436627</td>\n",
       "      <td>125390</td>\n",
       "      <td>020403020408</td>\n",
       "      <td>9436627</td>\n",
       "      <td>[020403020401]</td>\n",
       "      <td>[9436775]</td>\n",
       "      <td>[]</td>\n",
       "      <td>0204030204</td>\n",
       "      <td>02040302</td>\n",
       "      <td>False</td>\n",
       "    </tr>\n",
       "    <tr>\n",
       "      <th>020403020404</th>\n",
       "      <td>Cape May Harbor-Cape May Inlet</td>\n",
       "      <td>POLYGON ((-74.87933 39.01592, -74.87853 39.015...</td>\n",
       "      <td>[-74.8841890564985, 38.973283432181894]</td>\n",
       "      <td>9437503</td>\n",
       "      <td>120596</td>\n",
       "      <td>020403020500</td>\n",
       "      <td>9437503</td>\n",
       "      <td>None</td>\n",
       "      <td>None</td>\n",
       "      <td>[9437503, 9438907, 9438927]</td>\n",
       "      <td>0204030204</td>\n",
       "      <td>02040302</td>\n",
       "      <td>False</td>\n",
       "    </tr>\n",
       "    <tr>\n",
       "      <th>020403020405</th>\n",
       "      <td>Great Channel-Hereford Inlet</td>\n",
       "      <td>POLYGON ((-74.74022 39.07888, -74.74128 39.077...</td>\n",
       "      <td>[-74.81118396051109, 39.05056352723319]</td>\n",
       "      <td>9438919</td>\n",
       "      <td>123313</td>\n",
       "      <td>020403020500</td>\n",
       "      <td>9438919</td>\n",
       "      <td>None</td>\n",
       "      <td>None</td>\n",
       "      <td>[9438919, 9438933, 9438959, 9436483]</td>\n",
       "      <td>0204030204</td>\n",
       "      <td>02040302</td>\n",
       "      <td>False</td>\n",
       "    </tr>\n",
       "    <tr>\n",
       "      <th>020403020406</th>\n",
       "      <td>Townsend Channel-Townsends Inlet</td>\n",
       "      <td>POLYGON ((-74.68186 39.16816, -74.68248 39.167...</td>\n",
       "      <td>[-74.74367003975492, 39.137811452292325]</td>\n",
       "      <td>9436931</td>\n",
       "      <td>124744</td>\n",
       "      <td>020403020500</td>\n",
       "      <td>9436931</td>\n",
       "      <td>None</td>\n",
       "      <td>None</td>\n",
       "      <td>[9436931, 9436927, 9436939]</td>\n",
       "      <td>0204030204</td>\n",
       "      <td>02040302</td>\n",
       "      <td>False</td>\n",
       "    </tr>\n",
       "    <tr>\n",
       "      <th>020403020407</th>\n",
       "      <td>Corson Inlet-Ludlam Bay</td>\n",
       "      <td>POLYGON ((-74.61025 39.25076, -74.61030 39.250...</td>\n",
       "      <td>[-74.67200125247236, 39.21672310711767]</td>\n",
       "      <td>26814143</td>\n",
       "      <td>124462</td>\n",
       "      <td>020403020500</td>\n",
       "      <td>26814143</td>\n",
       "      <td>None</td>\n",
       "      <td>None</td>\n",
       "      <td>[26814143, 26814119, 26814135]</td>\n",
       "      <td>0204030204</td>\n",
       "      <td>02040302</td>\n",
       "      <td>False</td>\n",
       "    </tr>\n",
       "  </tbody>\n",
       "</table>\n",
       "<p>481 rows × 13 columns</p>\n",
       "</div>"
      ],
      "text/plain": [
       "                                                    huc12_name  \\\n",
       "huc12                                                            \n",
       "020401010101   Town Brook-Headwaters West Brach Delaware River   \n",
       "020401010102  Betty Brook-Headwaters West Brach Delaware River   \n",
       "020401010103   Rose Brook-Headwaters West Brach Delaware River   \n",
       "020401010104    Elk Creek-Headwaters West Brach Delaware River   \n",
       "020401010105                       Upper Little Delaware River   \n",
       "...                                                        ...   \n",
       "020403020403                                       Absecon Bay   \n",
       "020403020404                    Cape May Harbor-Cape May Inlet   \n",
       "020403020405                      Great Channel-Hereford Inlet   \n",
       "020403020406                  Townsend Channel-Townsends Inlet   \n",
       "020403020407                           Corson Inlet-Ludlam Bay   \n",
       "\n",
       "                                                       geometry  \\\n",
       "huc12                                                             \n",
       "020401010101  POLYGON ((-74.59363 42.42361, -74.59395 42.423...   \n",
       "020401010102  POLYGON ((-74.69614 42.42722, -74.69579 42.427...   \n",
       "020401010103  POLYGON ((-74.77568 42.37921, -74.77530 42.379...   \n",
       "020401010104  POLYGON ((-74.80026 42.40748, -74.79917 42.407...   \n",
       "020401010105  POLYGON ((-74.73673 42.31516, -74.73631 42.315...   \n",
       "...                                                         ...   \n",
       "020403020403  POLYGON ((-74.36191 39.40873, -74.36299 39.407...   \n",
       "020403020404  POLYGON ((-74.87933 39.01592, -74.87853 39.015...   \n",
       "020403020405  POLYGON ((-74.74022 39.07888, -74.74128 39.077...   \n",
       "020403020406  POLYGON ((-74.68186 39.16816, -74.68248 39.167...   \n",
       "020403020407  POLYGON ((-74.61025 39.25076, -74.61030 39.250...   \n",
       "\n",
       "                                           centroid_xy     comid    nord  \\\n",
       "huc12                                                                      \n",
       "020401010101  [-74.62155936289159, 42.387091234041016]   2612792   74293   \n",
       "020401010102   [-74.71393635968639, 42.38194565669812]   2612800   74290   \n",
       "020401010103  [-74.71097819143394, 42.330665690562654]   2612808   74288   \n",
       "020401010104   [-74.82334627464569, 42.34506256688788]   2612820   74282   \n",
       "020401010105   [-74.78436638151948, 42.27096486797448]   2612842   74311   \n",
       "...                                                ...       ...     ...   \n",
       "020403020403  [-74.44604887400864, 39.417944290515535]   9436627  125390   \n",
       "020403020404   [-74.8841890564985, 38.973283432181894]   9437503  120596   \n",
       "020403020405   [-74.81118396051109, 39.05056352723319]   9438919  123313   \n",
       "020403020406  [-74.74367003975492, 39.137811452292325]   9436931  124744   \n",
       "020403020407   [-74.67200125247236, 39.21672310711767]  26814143  124462   \n",
       "\n",
       "                  to_huc12  outlet_comid     from_huc12s inlet_comids  \\\n",
       "huc12                                                                   \n",
       "020401010101  020401010102       2612792            None         None   \n",
       "020401010102  020401010103       2612800  [020401010101]    [2612792]   \n",
       "020401010103  020401010104       2612808  [020401010102]    [2612800]   \n",
       "020401010104  020401010106       2612820  [020401010103]    [2612808]   \n",
       "020401010105  020401010106       2612842            None         None   \n",
       "...                    ...           ...             ...          ...   \n",
       "020403020403  020403020408       9436627  [020403020401]    [9436775]   \n",
       "020403020404  020403020500       9437503            None         None   \n",
       "020403020405  020403020500       9438919            None         None   \n",
       "020403020406  020403020500       9436931            None         None   \n",
       "020403020407  020403020500      26814143            None         None   \n",
       "\n",
       "                                     outlet_comids       huc10     huc08  \\\n",
       "huc12                                                                      \n",
       "020401010101                             [2612792]  0204010101  02040101   \n",
       "020401010102                    [2612800, 2612922]  0204010101  02040101   \n",
       "020401010103                             [2612808]  0204010101  02040101   \n",
       "020401010104                             [2612820]  0204010101  02040101   \n",
       "020401010105                             [2612842]  0204010101  02040101   \n",
       "...                                            ...         ...       ...   \n",
       "020403020403                                    []  0204030204  02040302   \n",
       "020403020404           [9437503, 9438907, 9438927]  0204030204  02040302   \n",
       "020403020405  [9438919, 9438933, 9438959, 9436483]  0204030204  02040302   \n",
       "020403020406           [9436931, 9436927, 9436939]  0204030204  02040302   \n",
       "020403020407        [26814143, 26814119, 26814135]  0204030204  02040302   \n",
       "\n",
       "              in_drb  \n",
       "huc12                 \n",
       "020401010101    True  \n",
       "020401010102    True  \n",
       "020401010103    True  \n",
       "020401010104    True  \n",
       "020401010105    True  \n",
       "...              ...  \n",
       "020403020403   False  \n",
       "020403020404   False  \n",
       "020403020405   False  \n",
       "020403020406   False  \n",
       "020403020407   False  \n",
       "\n",
       "[481 rows x 13 columns]"
      ]
     },
     "execution_count": 45,
     "metadata": {},
     "output_type": "execute_result"
    }
   ],
   "source": [
    "huc12_in_outlets_drwi_gdf"
   ]
  },
  {
   "cell_type": "markdown",
   "id": "d9ee781c",
   "metadata": {},
   "source": [
    "## HUC10s in DRWI"
   ]
  },
  {
   "cell_type": "code",
   "execution_count": 46,
   "id": "1b6b2660",
   "metadata": {},
   "outputs": [
    {
     "name": "stdout",
     "output_type": "stream",
     "text": [
      "<class 'geopandas.geodataframe.GeoDataFrame'>\n",
      "CategoricalIndex: 155 entries, 0202000502 to 0301020517\n",
      "Data columns (total 1 columns):\n",
      " #   Column    Non-Null Count  Dtype   \n",
      "---  ------    --------------  -----   \n",
      " 0   geometry  155 non-null    geometry\n",
      "dtypes: geometry(1)\n",
      "memory usage: 6.8 KB\n"
     ]
    }
   ],
   "source": [
    "# Get HUC10 Geometries & prepare as basis for calcs & viz\n",
    "huc10_gdf = gpd.read_parquet(geography_path / 'huc10_0204.parquet')\n",
    "huc10_gdf.rename(columns={'HUC10':'huc10'}, inplace=True)\n",
    "huc10_gdf.sort_values('huc10', inplace=True)\n",
    "huc10_gdf.huc10 = huc10_gdf.huc10.astype(pd.CategoricalDtype(ordered=True))\n",
    "huc10_gdf.set_index('huc10', inplace=True)\n",
    "huc10_gdf.info()"
   ]
  },
  {
   "cell_type": "code",
   "execution_count": 47,
   "id": "d008d0cf",
   "metadata": {},
   "outputs": [
    {
     "name": "stdout",
     "output_type": "stream",
     "text": [
      "<class 'pandas.core.frame.DataFrame'>\n",
      "CategoricalIndex: 110 entries, 0204020400 to 0204020603\n",
      "Data columns (total 2 columns):\n",
      " #   Column  Non-Null Count  Dtype \n",
      "---  ------  --------------  ----- \n",
      " 0   HUC10   110 non-null    int64 \n",
      " 1   NAME    110 non-null    object\n",
      "dtypes: int64(1), object(1)\n",
      "memory usage: 6.8+ KB\n"
     ]
    }
   ],
   "source": [
    "# Get and prepare HUC10 names (list from Caitlin)\n",
    "huc10_names_df = pd.read_csv(project_path / 'geography/huc10_names.csv')\n",
    "# Convert huc10 code from integer to category with leading zero\n",
    "huc10_list = [str(i).zfill(10) for i in huc10_names_df['HUC10']]\n",
    "huc10_names_df['huc10'] = pd.DataFrame(huc10_list).astype('category')\n",
    "huc10_names_df.set_index('huc10', inplace=True)\n",
    "huc10_names_df.info()"
   ]
  },
  {
   "cell_type": "code",
   "execution_count": 48,
   "id": "43636689",
   "metadata": {},
   "outputs": [
    {
     "data": {
      "text/html": [
       "<div>\n",
       "<style scoped>\n",
       "    .dataframe tbody tr th:only-of-type {\n",
       "        vertical-align: middle;\n",
       "    }\n",
       "\n",
       "    .dataframe tbody tr th {\n",
       "        vertical-align: top;\n",
       "    }\n",
       "\n",
       "    .dataframe thead th {\n",
       "        text-align: right;\n",
       "    }\n",
       "</style>\n",
       "<table border=\"1\" class=\"dataframe\">\n",
       "  <thead>\n",
       "    <tr style=\"text-align: right;\">\n",
       "      <th></th>\n",
       "      <th>HUC10</th>\n",
       "      <th>NAME</th>\n",
       "    </tr>\n",
       "    <tr>\n",
       "      <th>huc10</th>\n",
       "      <th></th>\n",
       "      <th></th>\n",
       "    </tr>\n",
       "  </thead>\n",
       "  <tbody>\n",
       "    <tr>\n",
       "      <th>0204020400</th>\n",
       "      <td>204020400</td>\n",
       "      <td>Delaware Bay-Deep</td>\n",
       "    </tr>\n",
       "    <tr>\n",
       "      <th>0204030306</th>\n",
       "      <td>204030306</td>\n",
       "      <td>Fenwick Island-Assateague Island-Atlantic Ocean</td>\n",
       "    </tr>\n",
       "    <tr>\n",
       "      <th>0204020504</th>\n",
       "      <td>204020504</td>\n",
       "      <td>Brandywine Creek</td>\n",
       "    </tr>\n",
       "    <tr>\n",
       "      <th>0204010101</th>\n",
       "      <td>204010101</td>\n",
       "      <td>Upper West Branch Delaware River</td>\n",
       "    </tr>\n",
       "    <tr>\n",
       "      <th>0204010102</th>\n",
       "      <td>204010102</td>\n",
       "      <td>Middle West Branch Delaware River</td>\n",
       "    </tr>\n",
       "    <tr>\n",
       "      <th>...</th>\n",
       "      <td>...</td>\n",
       "      <td>...</td>\n",
       "    </tr>\n",
       "    <tr>\n",
       "      <th>0204030205</th>\n",
       "      <td>204030205</td>\n",
       "      <td>Great Egg Harbor Bay-Atlantic Ocean</td>\n",
       "    </tr>\n",
       "    <tr>\n",
       "      <th>0204020202</th>\n",
       "      <td>204020202</td>\n",
       "      <td>South Branch Rancocas Creek</td>\n",
       "    </tr>\n",
       "    <tr>\n",
       "      <th>0204020601</th>\n",
       "      <td>204020601</td>\n",
       "      <td>Salem River-Delaware River</td>\n",
       "    </tr>\n",
       "    <tr>\n",
       "      <th>0204020602</th>\n",
       "      <td>204020602</td>\n",
       "      <td>Alloway Creek</td>\n",
       "    </tr>\n",
       "    <tr>\n",
       "      <th>0204020603</th>\n",
       "      <td>204020603</td>\n",
       "      <td>Cohansey River</td>\n",
       "    </tr>\n",
       "  </tbody>\n",
       "</table>\n",
       "<p>110 rows × 2 columns</p>\n",
       "</div>"
      ],
      "text/plain": [
       "                HUC10                                             NAME\n",
       "huc10                                                                 \n",
       "0204020400  204020400                                Delaware Bay-Deep\n",
       "0204030306  204030306  Fenwick Island-Assateague Island-Atlantic Ocean\n",
       "0204020504  204020504                                 Brandywine Creek\n",
       "0204010101  204010101                 Upper West Branch Delaware River\n",
       "0204010102  204010102                Middle West Branch Delaware River\n",
       "...               ...                                              ...\n",
       "0204030205  204030205              Great Egg Harbor Bay-Atlantic Ocean\n",
       "0204020202  204020202                      South Branch Rancocas Creek\n",
       "0204020601  204020601                       Salem River-Delaware River\n",
       "0204020602  204020602                                    Alloway Creek\n",
       "0204020603  204020603                                   Cohansey River\n",
       "\n",
       "[110 rows x 2 columns]"
      ]
     },
     "execution_count": 48,
     "metadata": {},
     "output_type": "execute_result"
    }
   ],
   "source": [
    "huc10_names_df"
   ]
  },
  {
   "cell_type": "code",
   "execution_count": 49,
   "id": "dbc69f53",
   "metadata": {},
   "outputs": [
    {
     "name": "stdout",
     "output_type": "stream",
     "text": [
      "<class 'geopandas.geodataframe.GeoDataFrame'>\n",
      "CategoricalIndex: 155 entries, 0202000502 to 0301020517\n",
      "Data columns (total 2 columns):\n",
      " #   Column      Non-Null Count  Dtype   \n",
      "---  ------      --------------  -----   \n",
      " 0   geometry    155 non-null    geometry\n",
      " 1   huc10_name  110 non-null    category\n",
      "dtypes: category(1), geometry(1)\n",
      "memory usage: 11.9 KB\n"
     ]
    }
   ],
   "source": [
    "# Add HUC10 name to GDF\n",
    "huc10_gdf['huc10_name'] = huc10_names_df['NAME']\n",
    "huc10_gdf.huc10_name = huc10_gdf.huc10_name.astype(pd.CategoricalDtype())\n",
    "huc10_gdf.info()"
   ]
  },
  {
   "cell_type": "code",
   "execution_count": 50,
   "id": "09573f9a",
   "metadata": {},
   "outputs": [
    {
     "name": "stdout",
     "output_type": "stream",
     "text": [
      "<class 'pandas.core.frame.DataFrame'>\n",
      "CategoricalIndex: 108 entries, 0204010101 to 0204030405\n",
      "Data columns (total 2 columns):\n",
      " #   Column  Non-Null Count  Dtype\n",
      "---  ------  --------------  -----\n",
      " 0   comid   108 non-null    int64\n",
      " 1   nord    108 non-null    int64\n",
      "dtypes: int64(2)\n",
      "memory usage: 2.6 KB\n"
     ]
    }
   ],
   "source": [
    "# Get COMIDs at HUC10 outlets (list from Mike)\n",
    "huc10_outlets_df = pd.read_csv(geography_path / 'huc10_outlet_comids.csv',\n",
    "                               dtype={'huc10': 'category'})\n",
    "huc10_outlets_df.set_index('huc10', inplace=True)\n",
    "huc10_outlets_df.info()"
   ]
  },
  {
   "cell_type": "code",
   "execution_count": 51,
   "id": "2b69ee90",
   "metadata": {},
   "outputs": [],
   "source": [
    "columns = ['in_drb', 'huc08']\n",
    "huc10_outlets_df = huc10_outlets_df.join(reach_gdf[columns], on='comid')"
   ]
  },
  {
   "cell_type": "code",
   "execution_count": 52,
   "id": "b70409c2",
   "metadata": {},
   "outputs": [],
   "source": [
    "# Add outlet COMIDs & nord\n",
    "huc10_outlets_gdf = huc10_gdf.loc[:,['huc10_name', \n",
    "                                    'geometry',\n",
    "                                    ]]\n",
    "huc10_outlets_gdf['comid'] = huc10_outlets_df.comid\n",
    "huc10_outlets_gdf['nord'] = huc10_outlets_df.nord\n",
    "\n",
    "huc10_outlets_gdf.sort_index(inplace=True)"
   ]
  },
  {
   "cell_type": "code",
   "execution_count": 53,
   "id": "32a2287a",
   "metadata": {},
   "outputs": [],
   "source": [
    "# Drop HUC10's outside of DRWI\n",
    "huc10_outlets_drwi_gdf = huc10_outlets_gdf.dropna().copy()\n",
    "# Recast to 'int64' from nullable float\n",
    "huc10_outlets_drwi_gdf.comid = huc10_outlets_drwi_gdf.comid.astype(np.int64)\n",
    "huc10_outlets_drwi_gdf.nord = huc10_outlets_drwi_gdf.nord.astype(np.int64)\n"
   ]
  },
  {
   "cell_type": "code",
   "execution_count": 54,
   "id": "9bd98f6f",
   "metadata": {},
   "outputs": [],
   "source": [
    "# Add 'in_drb'\n",
    "columns = ['in_drb', 'huc08']\n",
    "huc10_outlets_drwi_gdf = huc10_outlets_drwi_gdf.join(reach_gdf[columns], on='comid')"
   ]
  },
  {
   "cell_type": "code",
   "execution_count": 55,
   "id": "ea69d180",
   "metadata": {},
   "outputs": [],
   "source": [
    "# Drop HUC10s outside DRWI (i.e. 'in_drb'=NA)\n",
    "huc10_outlets_drwi_gdf.dropna(inplace=True)"
   ]
  },
  {
   "cell_type": "code",
   "execution_count": 56,
   "id": "713245c8",
   "metadata": {},
   "outputs": [
    {
     "name": "stdout",
     "output_type": "stream",
     "text": [
      "<class 'geopandas.geodataframe.GeoDataFrame'>\n",
      "CategoricalIndex: 95 entries, 0204010101 to 0204030204\n",
      "Data columns (total 6 columns):\n",
      " #   Column      Non-Null Count  Dtype   \n",
      "---  ------      --------------  -----   \n",
      " 0   huc10_name  95 non-null     category\n",
      " 1   geometry    95 non-null     geometry\n",
      " 2   comid       95 non-null     int64   \n",
      " 3   nord        95 non-null     int64   \n",
      " 4   in_drb      95 non-null     boolean \n",
      " 5   huc08       95 non-null     category\n",
      "dtypes: boolean(1), category(2), geometry(1), int64(2)\n",
      "memory usage: 13.7 KB\n"
     ]
    }
   ],
   "source": [
    "huc10_outlets_drwi_gdf.info()"
   ]
  },
  {
   "cell_type": "code",
   "execution_count": 57,
   "id": "7401653f",
   "metadata": {},
   "outputs": [
    {
     "data": {
      "text/plain": [
       "in_drb\n",
       "True     86\n",
       "False     9\n",
       "Name: count, dtype: Int64"
      ]
     },
     "execution_count": 57,
     "metadata": {},
     "output_type": "execute_result"
    }
   ],
   "source": [
    "huc10_outlets_drwi_gdf.in_drb.value_counts()"
   ]
  },
  {
   "cell_type": "markdown",
   "id": "4ab021ae",
   "metadata": {},
   "source": [
    "## HUC8s in DRWI"
   ]
  },
  {
   "cell_type": "code",
   "execution_count": 58,
   "id": "946ae47e",
   "metadata": {},
   "outputs": [
    {
     "name": "stdout",
     "output_type": "stream",
     "text": [
      "<class 'geopandas.geodataframe.GeoDataFrame'>\n",
      "CategoricalIndex: 17 entries, 02040101 to 02040304\n",
      "Data columns (total 1 columns):\n",
      " #   Column    Non-Null Count  Dtype   \n",
      "---  ------    --------------  -----   \n",
      " 0   geometry  17 non-null     geometry\n",
      "dtypes: geometry(1)\n",
      "memory usage: 845.0 bytes\n"
     ]
    }
   ],
   "source": [
    "# Read HUC8 Geometries & prepare as basis for calcs & viz\n",
    "huc08_gdf = gpd.read_parquet(geography_path / 'huc08_0204.parquet')\n",
    "huc08_gdf.sort_values('huc08', inplace=True)\n",
    "huc08_gdf.huc08 = huc08_gdf.huc08.astype(pd.CategoricalDtype(ordered=True))\n",
    "huc08_gdf.set_index('huc08', inplace=True)\n",
    "huc08_gdf.info()"
   ]
  },
  {
   "cell_type": "code",
   "execution_count": 59,
   "id": "f97e91d9",
   "metadata": {},
   "outputs": [],
   "source": [
    "# Add HUC08 names (list from Caitlin)\n",
    "huc08_names_df = pd.read_csv(project_path / 'geography/huc08_names.csv')"
   ]
  },
  {
   "cell_type": "code",
   "execution_count": 60,
   "id": "6bf00a43",
   "metadata": {},
   "outputs": [
    {
     "name": "stdout",
     "output_type": "stream",
     "text": [
      "<class 'pandas.core.frame.DataFrame'>\n",
      "CategoricalIndex: 17 entries, 02040101 to 02040304\n",
      "Data columns (total 2 columns):\n",
      " #   Column  Non-Null Count  Dtype \n",
      "---  ------  --------------  ----- \n",
      " 0   HUC08   17 non-null     int64 \n",
      " 1   NAME    17 non-null     object\n",
      "dtypes: int64(1), object(1)\n",
      "memory usage: 981.0+ bytes\n"
     ]
    }
   ],
   "source": [
    "# Convert huc08 code from integer to category with leading zero\n",
    "huc08_list = [str(i).zfill(8) for i in huc08_names_df['HUC08']]\n",
    "huc08_names_df['huc08'] = pd.DataFrame(huc08_list).astype('category')\n",
    "huc08_names_df.set_index('huc08', inplace=True)\n",
    "huc08_names_df.info()"
   ]
  },
  {
   "cell_type": "code",
   "execution_count": 61,
   "id": "d052d903",
   "metadata": {},
   "outputs": [
    {
     "name": "stdout",
     "output_type": "stream",
     "text": [
      "<class 'geopandas.geodataframe.GeoDataFrame'>\n",
      "CategoricalIndex: 17 entries, 02040101 to 02040304\n",
      "Data columns (total 2 columns):\n",
      " #   Column      Non-Null Count  Dtype   \n",
      "---  ------      --------------  -----   \n",
      " 0   geometry    17 non-null     geometry\n",
      " 1   huc08_name  17 non-null     category\n",
      "dtypes: category(1), geometry(1)\n",
      "memory usage: 1.5 KB\n"
     ]
    }
   ],
   "source": [
    "# Add HUC08 name to GDF\n",
    "huc08_gdf['huc08_name'] = huc08_names_df['NAME']\n",
    "huc08_gdf.huc08_name = huc08_gdf.huc08_name.astype(pd.CategoricalDtype())\n",
    "huc08_gdf.info()"
   ]
  },
  {
   "cell_type": "code",
   "execution_count": 62,
   "id": "cd9620df",
   "metadata": {},
   "outputs": [
    {
     "name": "stdout",
     "output_type": "stream",
     "text": [
      "<class 'pandas.core.frame.DataFrame'>\n",
      "CategoricalIndex: 17 entries, 02040101 to 02040304\n",
      "Data columns (total 2 columns):\n",
      " #   Column  Non-Null Count  Dtype\n",
      "---  ------  --------------  -----\n",
      " 0   comid   17 non-null     int64\n",
      " 1   nord    17 non-null     int64\n",
      "dtypes: int64(2)\n",
      "memory usage: 425.0 bytes\n"
     ]
    }
   ],
   "source": [
    "# Get COMIDs at HUC8 outlets (list from Mike)\n",
    "huc08_outlets_df = pd.read_csv(geography_path / 'huc08_outlet_comids.csv',\n",
    "                               dtype={'huc08': 'category'})\n",
    "huc08_outlets_df.set_index('huc08', inplace=True)\n",
    "huc08_outlets_df.info()"
   ]
  },
  {
   "cell_type": "code",
   "execution_count": 63,
   "id": "2eafd7a9",
   "metadata": {},
   "outputs": [],
   "source": [
    "# Add outlet COMIDs & nord\n",
    "huc08_outlets_gdf = huc08_gdf.loc[:,['huc08_name', 'geometry']]\n",
    "huc08_outlets_gdf['comid'] = huc08_outlets_df.comid\n",
    "huc08_outlets_gdf['nord'] = huc08_outlets_df.nord"
   ]
  },
  {
   "cell_type": "code",
   "execution_count": 64,
   "id": "73a9b131",
   "metadata": {},
   "outputs": [
    {
     "name": "stdout",
     "output_type": "stream",
     "text": [
      "<class 'geopandas.geodataframe.GeoDataFrame'>\n",
      "CategoricalIndex: 17 entries, 02040101 to 02040304\n",
      "Data columns (total 4 columns):\n",
      " #   Column      Non-Null Count  Dtype   \n",
      "---  ------      --------------  -----   \n",
      " 0   huc08_name  17 non-null     category\n",
      " 1   geometry    17 non-null     geometry\n",
      " 2   comid       17 non-null     int64   \n",
      " 3   nord        17 non-null     int64   \n",
      "dtypes: category(1), geometry(1), int64(2)\n",
      "memory usage: 1.8 KB\n"
     ]
    }
   ],
   "source": [
    "huc08_outlets_gdf.info()"
   ]
  },
  {
   "cell_type": "code",
   "execution_count": 65,
   "id": "e524fe4b",
   "metadata": {},
   "outputs": [],
   "source": [
    "# Create HUC08 GDF filtered for DRWI only\n",
    "huc08_outlets_drwi_gdf = huc08_outlets_gdf.loc[reach_gdf.huc08.unique()].copy()\n",
    "huc08_outlets_drwi_gdf.sort_index(inplace=True)"
   ]
  },
  {
   "cell_type": "code",
   "execution_count": 66,
   "id": "c93f3138",
   "metadata": {},
   "outputs": [],
   "source": [
    "# Add 'in_drb'\n",
    "huc08_outlets_drwi_gdf = huc08_outlets_drwi_gdf.join(reach_gdf.in_drb, on='comid')"
   ]
  },
  {
   "cell_type": "code",
   "execution_count": 67,
   "id": "4d3911f9",
   "metadata": {},
   "outputs": [
    {
     "name": "stdout",
     "output_type": "stream",
     "text": [
      "<class 'geopandas.geodataframe.GeoDataFrame'>\n",
      "CategoricalIndex: 16 entries, 02040101 to 02040303\n",
      "Data columns (total 5 columns):\n",
      " #   Column      Non-Null Count  Dtype   \n",
      "---  ------      --------------  -----   \n",
      " 0   huc08_name  16 non-null     category\n",
      " 1   geometry    16 non-null     geometry\n",
      " 2   comid       16 non-null     int64   \n",
      " 3   nord        16 non-null     int64   \n",
      " 4   in_drb      15 non-null     boolean \n",
      "dtypes: boolean(1), category(1), geometry(1), int64(2)\n",
      "memory usage: 1.8 KB\n"
     ]
    }
   ],
   "source": [
    "huc08_outlets_drwi_gdf.info()"
   ]
  },
  {
   "cell_type": "code",
   "execution_count": 68,
   "id": "f8ca7455",
   "metadata": {},
   "outputs": [
    {
     "data": {
      "text/html": [
       "<div>\n",
       "<style scoped>\n",
       "    .dataframe tbody tr th:only-of-type {\n",
       "        vertical-align: middle;\n",
       "    }\n",
       "\n",
       "    .dataframe tbody tr th {\n",
       "        vertical-align: top;\n",
       "    }\n",
       "\n",
       "    .dataframe thead th {\n",
       "        text-align: right;\n",
       "    }\n",
       "</style>\n",
       "<table border=\"1\" class=\"dataframe\">\n",
       "  <thead>\n",
       "    <tr style=\"text-align: right;\">\n",
       "      <th></th>\n",
       "      <th>huc08_name</th>\n",
       "      <th>geometry</th>\n",
       "      <th>comid</th>\n",
       "      <th>nord</th>\n",
       "      <th>in_drb</th>\n",
       "    </tr>\n",
       "    <tr>\n",
       "      <th>huc08</th>\n",
       "      <th></th>\n",
       "      <th></th>\n",
       "      <th></th>\n",
       "      <th></th>\n",
       "      <th></th>\n",
       "    </tr>\n",
       "  </thead>\n",
       "  <tbody>\n",
       "    <tr>\n",
       "      <th>02040101</th>\n",
       "      <td>Upper Delaware</td>\n",
       "      <td>POLYGON ((-74.59815 42.45806, -74.59793 42.457...</td>\n",
       "      <td>2619256</td>\n",
       "      <td>73297</td>\n",
       "      <td>True</td>\n",
       "    </tr>\n",
       "    <tr>\n",
       "      <th>02040102</th>\n",
       "      <td>East Branch Delaware</td>\n",
       "      <td>POLYGON ((-74.50883 42.35118, -74.50894 42.350...</td>\n",
       "      <td>1752159</td>\n",
       "      <td>74523</td>\n",
       "      <td>True</td>\n",
       "    </tr>\n",
       "    <tr>\n",
       "      <th>02040103</th>\n",
       "      <td>Lackawaxen</td>\n",
       "      <td>POLYGON ((-75.41513 41.80363, -75.41475 41.803...</td>\n",
       "      <td>2741462</td>\n",
       "      <td>72447</td>\n",
       "      <td>True</td>\n",
       "    </tr>\n",
       "    <tr>\n",
       "      <th>02040104</th>\n",
       "      <td>Middle Delaware-Mongaup-Brodhead</td>\n",
       "      <td>POLYGON ((-74.47264 42.03164, -74.47197 42.031...</td>\n",
       "      <td>4154510</td>\n",
       "      <td>70222</td>\n",
       "      <td>True</td>\n",
       "    </tr>\n",
       "    <tr>\n",
       "      <th>02040105</th>\n",
       "      <td>Middle Delaware-Musconetcong</td>\n",
       "      <td>POLYGON ((-74.72652 41.18314, -74.72649 41.182...</td>\n",
       "      <td>4481949</td>\n",
       "      <td>68818</td>\n",
       "      <td>True</td>\n",
       "    </tr>\n",
       "    <tr>\n",
       "      <th>02040106</th>\n",
       "      <td>Lehigh</td>\n",
       "      <td>POLYGON ((-75.41172 41.28606, -75.41113 41.285...</td>\n",
       "      <td>4188251</td>\n",
       "      <td>74985</td>\n",
       "      <td>True</td>\n",
       "    </tr>\n",
       "    <tr>\n",
       "      <th>02040201</th>\n",
       "      <td>Crosswicks-Neshaminy</td>\n",
       "      <td>POLYGON ((-75.10915 40.39567, -75.10832 40.395...</td>\n",
       "      <td>4485575</td>\n",
       "      <td>68274</td>\n",
       "      <td>True</td>\n",
       "    </tr>\n",
       "    <tr>\n",
       "      <th>02040202</th>\n",
       "      <td>Lower Delaware</td>\n",
       "      <td>POLYGON ((-75.05008 40.20041, -75.04930 40.200...</td>\n",
       "      <td>24903452</td>\n",
       "      <td>65081</td>\n",
       "      <td>True</td>\n",
       "    </tr>\n",
       "    <tr>\n",
       "      <th>02040203</th>\n",
       "      <td>Schuylkill</td>\n",
       "      <td>POLYGON ((-75.93681 40.88508, -75.93622 40.884...</td>\n",
       "      <td>4784841</td>\n",
       "      <td>65459</td>\n",
       "      <td>True</td>\n",
       "    </tr>\n",
       "    <tr>\n",
       "      <th>02040204</th>\n",
       "      <td>Delaware Bay</td>\n",
       "      <td>POLYGON ((-75.49532 39.71406, -75.49603 39.713...</td>\n",
       "      <td>24903800</td>\n",
       "      <td>63468</td>\n",
       "      <td>True</td>\n",
       "    </tr>\n",
       "    <tr>\n",
       "      <th>02040205</th>\n",
       "      <td>Brandywine-Christina</td>\n",
       "      <td>POLYGON ((-75.76145 40.13851, -75.76130 40.137...</td>\n",
       "      <td>24903566</td>\n",
       "      <td>63768</td>\n",
       "      <td>True</td>\n",
       "    </tr>\n",
       "    <tr>\n",
       "      <th>02040206</th>\n",
       "      <td>Cohansey-Maurice</td>\n",
       "      <td>POLYGON ((-75.03049 39.72462, -75.02954 39.724...</td>\n",
       "      <td>24903666</td>\n",
       "      <td>63485</td>\n",
       "      <td>True</td>\n",
       "    </tr>\n",
       "    <tr>\n",
       "      <th>02040207</th>\n",
       "      <td>Broadkill-Smyrna</td>\n",
       "      <td>POLYGON ((-75.56477 39.41084, -75.56474 39.410...</td>\n",
       "      <td>25039920</td>\n",
       "      <td>77563</td>\n",
       "      <td>True</td>\n",
       "    </tr>\n",
       "    <tr>\n",
       "      <th>02040301</th>\n",
       "      <td>Mullica-Toms</td>\n",
       "      <td>POLYGON ((-73.91691 40.44893, -73.91617 40.445...</td>\n",
       "      <td>9455643</td>\n",
       "      <td>106890</td>\n",
       "      <td>False</td>\n",
       "    </tr>\n",
       "    <tr>\n",
       "      <th>02040302</th>\n",
       "      <td>Great Egg Harbor</td>\n",
       "      <td>POLYGON ((-74.92282 39.81226, -74.92273 39.811...</td>\n",
       "      <td>9436873</td>\n",
       "      <td>114472</td>\n",
       "      <td>False</td>\n",
       "    </tr>\n",
       "    <tr>\n",
       "      <th>02040303</th>\n",
       "      <td>Chincoteague</td>\n",
       "      <td>POLYGON ((-75.02057 38.78450, -75.02001 38.781...</td>\n",
       "      <td>8415649</td>\n",
       "      <td>118352</td>\n",
       "      <td>&lt;NA&gt;</td>\n",
       "    </tr>\n",
       "  </tbody>\n",
       "</table>\n",
       "</div>"
      ],
      "text/plain": [
       "                                huc08_name  \\\n",
       "huc08                                        \n",
       "02040101                    Upper Delaware   \n",
       "02040102              East Branch Delaware   \n",
       "02040103                        Lackawaxen   \n",
       "02040104  Middle Delaware-Mongaup-Brodhead   \n",
       "02040105      Middle Delaware-Musconetcong   \n",
       "02040106                            Lehigh   \n",
       "02040201              Crosswicks-Neshaminy   \n",
       "02040202                    Lower Delaware   \n",
       "02040203                        Schuylkill   \n",
       "02040204                      Delaware Bay   \n",
       "02040205              Brandywine-Christina   \n",
       "02040206                  Cohansey-Maurice   \n",
       "02040207                  Broadkill-Smyrna   \n",
       "02040301                      Mullica-Toms   \n",
       "02040302                  Great Egg Harbor   \n",
       "02040303                      Chincoteague   \n",
       "\n",
       "                                                   geometry     comid    nord  \\\n",
       "huc08                                                                           \n",
       "02040101  POLYGON ((-74.59815 42.45806, -74.59793 42.457...   2619256   73297   \n",
       "02040102  POLYGON ((-74.50883 42.35118, -74.50894 42.350...   1752159   74523   \n",
       "02040103  POLYGON ((-75.41513 41.80363, -75.41475 41.803...   2741462   72447   \n",
       "02040104  POLYGON ((-74.47264 42.03164, -74.47197 42.031...   4154510   70222   \n",
       "02040105  POLYGON ((-74.72652 41.18314, -74.72649 41.182...   4481949   68818   \n",
       "02040106  POLYGON ((-75.41172 41.28606, -75.41113 41.285...   4188251   74985   \n",
       "02040201  POLYGON ((-75.10915 40.39567, -75.10832 40.395...   4485575   68274   \n",
       "02040202  POLYGON ((-75.05008 40.20041, -75.04930 40.200...  24903452   65081   \n",
       "02040203  POLYGON ((-75.93681 40.88508, -75.93622 40.884...   4784841   65459   \n",
       "02040204  POLYGON ((-75.49532 39.71406, -75.49603 39.713...  24903800   63468   \n",
       "02040205  POLYGON ((-75.76145 40.13851, -75.76130 40.137...  24903566   63768   \n",
       "02040206  POLYGON ((-75.03049 39.72462, -75.02954 39.724...  24903666   63485   \n",
       "02040207  POLYGON ((-75.56477 39.41084, -75.56474 39.410...  25039920   77563   \n",
       "02040301  POLYGON ((-73.91691 40.44893, -73.91617 40.445...   9455643  106890   \n",
       "02040302  POLYGON ((-74.92282 39.81226, -74.92273 39.811...   9436873  114472   \n",
       "02040303  POLYGON ((-75.02057 38.78450, -75.02001 38.781...   8415649  118352   \n",
       "\n",
       "          in_drb  \n",
       "huc08             \n",
       "02040101    True  \n",
       "02040102    True  \n",
       "02040103    True  \n",
       "02040104    True  \n",
       "02040105    True  \n",
       "02040106    True  \n",
       "02040201    True  \n",
       "02040202    True  \n",
       "02040203    True  \n",
       "02040204    True  \n",
       "02040205    True  \n",
       "02040206    True  \n",
       "02040207    True  \n",
       "02040301   False  \n",
       "02040302   False  \n",
       "02040303    <NA>  "
      ]
     },
     "execution_count": 68,
     "metadata": {},
     "output_type": "execute_result"
    }
   ],
   "source": [
    "huc08_outlets_drwi_gdf"
   ]
  },
  {
   "cell_type": "code",
   "execution_count": 69,
   "id": "9df61a45",
   "metadata": {},
   "outputs": [
    {
     "data": {
      "text/plain": [
       "in_drb\n",
       "True     13\n",
       "False     2\n",
       "Name: count, dtype: Int64"
      ]
     },
     "execution_count": 69,
     "metadata": {},
     "output_type": "execute_result"
    }
   ],
   "source": [
    "huc08_outlets_drwi_gdf.in_drb.value_counts()"
   ]
  },
  {
   "cell_type": "code",
   "execution_count": 70,
   "id": "cc57313c",
   "metadata": {},
   "outputs": [],
   "source": [
    "# Drop last HUC08, which is outside DRWI (i.e. 'in_drb'=NA)\n",
    "huc08_outlets_drwi_gdf.dropna(inplace=True)"
   ]
  },
  {
   "cell_type": "code",
   "execution_count": 71,
   "id": "2c4af3bf",
   "metadata": {},
   "outputs": [
    {
     "name": "stdout",
     "output_type": "stream",
     "text": [
      "<class 'geopandas.geodataframe.GeoDataFrame'>\n",
      "CategoricalIndex: 15 entries, 02040101 to 02040302\n",
      "Data columns (total 5 columns):\n",
      " #   Column      Non-Null Count  Dtype   \n",
      "---  ------      --------------  -----   \n",
      " 0   huc08_name  15 non-null     category\n",
      " 1   geometry    15 non-null     geometry\n",
      " 2   comid       15 non-null     int64   \n",
      " 3   nord        15 non-null     int64   \n",
      " 4   in_drb      15 non-null     boolean \n",
      "dtypes: boolean(1), category(1), geometry(1), int64(2)\n",
      "memory usage: 1.8 KB\n"
     ]
    }
   ],
   "source": [
    "\n",
    "huc08_outlets_drwi_gdf.info()"
   ]
  },
  {
   "cell_type": "markdown",
   "id": "30282615",
   "metadata": {},
   "source": [
    "## Set CRS\n",
    "Set Coordinate Reference System (CRS) to [Web Mercator projection](https://en.wikipedia.org/wiki/Web_Mercator_projection) (or WGS 84 / Pseudo-Mercator), EPSG:3857, because virtually all major online map providers and basemap tiling services use it.\n",
    "\n",
    "We'll use [EPSG:3857](https://epsg.io/3857) as a default for GeoDataFrames for the clearest map plots with basemaps, but it should be changed to an equal area project, such as [ESRI:102003](https://epsg.io/102003), for any area calculations."
   ]
  },
  {
   "cell_type": "code",
   "execution_count": 72,
   "id": "2f2374f5",
   "metadata": {},
   "outputs": [
    {
     "data": {
      "text/plain": [
       "<Projected CRS: EPSG:32618>\n",
       "Name: WGS 84 / UTM zone 18N\n",
       "Axis Info [cartesian]:\n",
       "- E[east]: Easting (metre)\n",
       "- N[north]: Northing (metre)\n",
       "Area of Use:\n",
       "- name: Between 78°W and 72°W, northern hemisphere between equator and 84°N, onshore and offshore. Bahamas. Canada - Nunavut; Ontario; Quebec. Colombia. Cuba. Ecuador. Greenland. Haiti. Jamica. Panama. Turks and Caicos Islands. United States (USA). Venezuela.\n",
       "- bounds: (-78.0, 0.0, -72.0, 84.0)\n",
       "Coordinate Operation:\n",
       "- name: UTM zone 18N\n",
       "- method: Transverse Mercator\n",
       "Datum: World Geodetic System 1984 ensemble\n",
       "- Ellipsoid: WGS 84\n",
       "- Prime Meridian: Greenwich"
      ]
     },
     "execution_count": 72,
     "metadata": {},
     "output_type": "execute_result"
    }
   ],
   "source": [
    "# Check CRS, which appears preserved in Parquet file metadata.\n",
    "catch_gdf.crs"
   ]
  },
  {
   "cell_type": "code",
   "execution_count": 73,
   "id": "b1fc85cd",
   "metadata": {},
   "outputs": [
    {
     "name": "stdout",
     "output_type": "stream",
     "text": [
      "CPU times: user 1.12 s, sys: 130 ms, total: 1.25 s\n",
      "Wall time: 1.29 s\n"
     ]
    }
   ],
   "source": [
    "%%time\n",
    "# Reproject CRS for all PA1 GeoDataFrames to 3857, which is useful for visualization\n",
    "gdfs = [\n",
    "    reach_gdf, catch_gdf,\n",
    "    cluster_gdf, focusarea_gdf,\n",
    "    huc12_outlets_drwi_gdf, huc08_outlets_drwi_gdf\n",
    "]\n",
    "\n",
    "for gdf in gdfs:\n",
    "    gdf.to_crs(epsg=3857, inplace=True)"
   ]
  },
  {
   "cell_type": "code",
   "execution_count": 74,
   "id": "a61e25ca",
   "metadata": {},
   "outputs": [
    {
     "data": {
      "text/plain": [
       "<Projected CRS: EPSG:3857>\n",
       "Name: WGS 84 / Pseudo-Mercator\n",
       "Axis Info [cartesian]:\n",
       "- X[east]: Easting (metre)\n",
       "- Y[north]: Northing (metre)\n",
       "Area of Use:\n",
       "- name: World between 85.06°S and 85.06°N.\n",
       "- bounds: (-180.0, -85.06, 180.0, 85.06)\n",
       "Coordinate Operation:\n",
       "- name: Popular Visualisation Pseudo-Mercator\n",
       "- method: Popular Visualisation Pseudo Mercator\n",
       "Datum: World Geodetic System 1984 ensemble\n",
       "- Ellipsoid: WGS 84\n",
       "- Prime Meridian: Greenwich"
      ]
     },
     "execution_count": 74,
     "metadata": {},
     "output_type": "execute_result"
    }
   ],
   "source": [
    "# Check CRS\n",
    "catch_gdf.crs"
   ]
  },
  {
   "attachments": {},
   "cell_type": "markdown",
   "id": "9bee3647",
   "metadata": {},
   "source": [
    "# COMIDs Directly Draining into Delaware River\n",
    "To sum HUC08 Attenuated loads."
   ]
  },
  {
   "attachments": {},
   "cell_type": "markdown",
   "id": "470e6607",
   "metadata": {},
   "source": [
    "## Add `into_dr` to tag COMIDs\n",
    "For COMIDs that directly drain into Delaware River mainstem, for eventually back-calculating attenuated loads for each HUC08 draining into the Delaware River."
   ]
  },
  {
   "cell_type": "code",
   "execution_count": 75,
   "id": "0fff9805",
   "metadata": {},
   "outputs": [],
   "source": [
    "# Create tag and initialize as False\n",
    "reach_gdf['into_dr'] = False"
   ]
  },
  {
   "cell_type": "code",
   "execution_count": 76,
   "id": "f2d16712",
   "metadata": {},
   "outputs": [
    {
     "data": {
      "text/plain": [
       "comid\n",
       "24902810    True\n",
       "24902842    True\n",
       "Name: into_dr, dtype: bool"
      ]
     },
     "execution_count": 76,
     "metadata": {},
     "output_type": "execute_result"
    }
   ],
   "source": [
    "# Test approach\n",
    "huc12 = '020402050802'\t# Drawyer Creek-Appoquinimink River\t\n",
    "comids = [\n",
    "    24902810, # Outlet\n",
    "    24902842, # Looks like this is a bigger outlet\n",
    "]\n",
    "reach_gdf.loc[comids, 'into_dr'] = True\n",
    "\n",
    "reach_gdf.into_dr[comids]"
   ]
  },
  {
   "attachments": {},
   "cell_type": "markdown",
   "id": "faa56443",
   "metadata": {},
   "source": [
    "## Add HUC08 outlets"
   ]
  },
  {
   "cell_type": "code",
   "execution_count": 77,
   "id": "db69ea5f",
   "metadata": {},
   "outputs": [
    {
     "data": {
      "text/html": [
       "<div>\n",
       "<style scoped>\n",
       "    .dataframe tbody tr th:only-of-type {\n",
       "        vertical-align: middle;\n",
       "    }\n",
       "\n",
       "    .dataframe tbody tr th {\n",
       "        vertical-align: top;\n",
       "    }\n",
       "\n",
       "    .dataframe thead th {\n",
       "        text-align: right;\n",
       "    }\n",
       "</style>\n",
       "<table border=\"1\" class=\"dataframe\">\n",
       "  <thead>\n",
       "    <tr style=\"text-align: right;\">\n",
       "      <th></th>\n",
       "      <th>huc08_name</th>\n",
       "      <th>geometry</th>\n",
       "      <th>comid</th>\n",
       "      <th>nord</th>\n",
       "      <th>in_drb</th>\n",
       "    </tr>\n",
       "    <tr>\n",
       "      <th>huc08</th>\n",
       "      <th></th>\n",
       "      <th></th>\n",
       "      <th></th>\n",
       "      <th></th>\n",
       "      <th></th>\n",
       "    </tr>\n",
       "  </thead>\n",
       "  <tbody>\n",
       "    <tr>\n",
       "      <th>02040101</th>\n",
       "      <td>Upper Delaware</td>\n",
       "      <td>POLYGON ((-8304228.499 5229843.998, -8304203.8...</td>\n",
       "      <td>2619256</td>\n",
       "      <td>73297</td>\n",
       "      <td>True</td>\n",
       "    </tr>\n",
       "    <tr>\n",
       "      <th>02040102</th>\n",
       "      <td>East Branch Delaware</td>\n",
       "      <td>POLYGON ((-8294284.604 5213730.686, -8294297.2...</td>\n",
       "      <td>1752159</td>\n",
       "      <td>74523</td>\n",
       "      <td>True</td>\n",
       "    </tr>\n",
       "    <tr>\n",
       "      <th>02040103</th>\n",
       "      <td>Lackawaxen</td>\n",
       "      <td>POLYGON ((-8395173.834 5131609.270, -8395131.1...</td>\n",
       "      <td>2741462</td>\n",
       "      <td>72447</td>\n",
       "      <td>True</td>\n",
       "    </tr>\n",
       "    <tr>\n",
       "      <th>02040104</th>\n",
       "      <td>Middle Delaware-Mongaup-Brodhead</td>\n",
       "      <td>POLYGON ((-8290255.809 5165720.405, -8290181.2...</td>\n",
       "      <td>4154510</td>\n",
       "      <td>70222</td>\n",
       "      <td>True</td>\n",
       "    </tr>\n",
       "    <tr>\n",
       "      <th>02040105</th>\n",
       "      <td>Middle Delaware-Musconetcong</td>\n",
       "      <td>POLYGON ((-8318518.543 5039392.409, -8318515.1...</td>\n",
       "      <td>4481949</td>\n",
       "      <td>68818</td>\n",
       "      <td>True</td>\n",
       "    </tr>\n",
       "    <tr>\n",
       "      <th>02040106</th>\n",
       "      <td>Lehigh</td>\n",
       "      <td>POLYGON ((-8394794.527 5054626.737, -8394728.2...</td>\n",
       "      <td>4188251</td>\n",
       "      <td>74985</td>\n",
       "      <td>True</td>\n",
       "    </tr>\n",
       "    <tr>\n",
       "      <th>02040201</th>\n",
       "      <td>Crosswicks-Neshaminy</td>\n",
       "      <td>POLYGON ((-8361112.101 4923606.956, -8361020.3...</td>\n",
       "      <td>4485575</td>\n",
       "      <td>68274</td>\n",
       "      <td>True</td>\n",
       "    </tr>\n",
       "    <tr>\n",
       "      <th>02040202</th>\n",
       "      <td>Lower Delaware</td>\n",
       "      <td>POLYGON ((-8354536.834 4895108.912, -8354450.1...</td>\n",
       "      <td>24903452</td>\n",
       "      <td>65081</td>\n",
       "      <td>True</td>\n",
       "    </tr>\n",
       "    <tr>\n",
       "      <th>02040203</th>\n",
       "      <td>Schuylkill</td>\n",
       "      <td>POLYGON ((-8453246.777 4995405.859, -8453181.3...</td>\n",
       "      <td>4784841</td>\n",
       "      <td>65459</td>\n",
       "      <td>True</td>\n",
       "    </tr>\n",
       "    <tr>\n",
       "      <th>02040204</th>\n",
       "      <td>Delaware Bay</td>\n",
       "      <td>POLYGON ((-8404100.919 4824476.609, -8404179.3...</td>\n",
       "      <td>24903800</td>\n",
       "      <td>63468</td>\n",
       "      <td>True</td>\n",
       "    </tr>\n",
       "    <tr>\n",
       "      <th>02040205</th>\n",
       "      <td>Brandywine-Christina</td>\n",
       "      <td>POLYGON ((-8433726.429 4886090.468, -8433709.4...</td>\n",
       "      <td>24903566</td>\n",
       "      <td>63768</td>\n",
       "      <td>True</td>\n",
       "    </tr>\n",
       "    <tr>\n",
       "      <th>02040206</th>\n",
       "      <td>Cohansey-Maurice</td>\n",
       "      <td>POLYGON ((-8352355.498 4826004.942, -8352250.6...</td>\n",
       "      <td>24903666</td>\n",
       "      <td>63485</td>\n",
       "      <td>True</td>\n",
       "    </tr>\n",
       "    <tr>\n",
       "      <th>02040207</th>\n",
       "      <td>Broadkill-Smyrna</td>\n",
       "      <td>POLYGON ((-8411831.531 4780693.270, -8411827.8...</td>\n",
       "      <td>25039920</td>\n",
       "      <td>77563</td>\n",
       "      <td>True</td>\n",
       "    </tr>\n",
       "  </tbody>\n",
       "</table>\n",
       "</div>"
      ],
      "text/plain": [
       "                                huc08_name  \\\n",
       "huc08                                        \n",
       "02040101                    Upper Delaware   \n",
       "02040102              East Branch Delaware   \n",
       "02040103                        Lackawaxen   \n",
       "02040104  Middle Delaware-Mongaup-Brodhead   \n",
       "02040105      Middle Delaware-Musconetcong   \n",
       "02040106                            Lehigh   \n",
       "02040201              Crosswicks-Neshaminy   \n",
       "02040202                    Lower Delaware   \n",
       "02040203                        Schuylkill   \n",
       "02040204                      Delaware Bay   \n",
       "02040205              Brandywine-Christina   \n",
       "02040206                  Cohansey-Maurice   \n",
       "02040207                  Broadkill-Smyrna   \n",
       "\n",
       "                                                   geometry     comid   nord  \\\n",
       "huc08                                                                          \n",
       "02040101  POLYGON ((-8304228.499 5229843.998, -8304203.8...   2619256  73297   \n",
       "02040102  POLYGON ((-8294284.604 5213730.686, -8294297.2...   1752159  74523   \n",
       "02040103  POLYGON ((-8395173.834 5131609.270, -8395131.1...   2741462  72447   \n",
       "02040104  POLYGON ((-8290255.809 5165720.405, -8290181.2...   4154510  70222   \n",
       "02040105  POLYGON ((-8318518.543 5039392.409, -8318515.1...   4481949  68818   \n",
       "02040106  POLYGON ((-8394794.527 5054626.737, -8394728.2...   4188251  74985   \n",
       "02040201  POLYGON ((-8361112.101 4923606.956, -8361020.3...   4485575  68274   \n",
       "02040202  POLYGON ((-8354536.834 4895108.912, -8354450.1...  24903452  65081   \n",
       "02040203  POLYGON ((-8453246.777 4995405.859, -8453181.3...   4784841  65459   \n",
       "02040204  POLYGON ((-8404100.919 4824476.609, -8404179.3...  24903800  63468   \n",
       "02040205  POLYGON ((-8433726.429 4886090.468, -8433709.4...  24903566  63768   \n",
       "02040206  POLYGON ((-8352355.498 4826004.942, -8352250.6...  24903666  63485   \n",
       "02040207  POLYGON ((-8411831.531 4780693.270, -8411827.8...  25039920  77563   \n",
       "\n",
       "          in_drb  \n",
       "huc08             \n",
       "02040101    True  \n",
       "02040102    True  \n",
       "02040103    True  \n",
       "02040104    True  \n",
       "02040105    True  \n",
       "02040106    True  \n",
       "02040201    True  \n",
       "02040202    True  \n",
       "02040203    True  \n",
       "02040204    True  \n",
       "02040205    True  \n",
       "02040206    True  \n",
       "02040207    True  "
      ]
     },
     "execution_count": 77,
     "metadata": {},
     "output_type": "execute_result"
    }
   ],
   "source": [
    "# List HUC08s in DRB\n",
    "huc08_outlets_drwi_gdf[huc08_outlets_drwi_gdf.in_drb]"
   ]
  },
  {
   "cell_type": "code",
   "execution_count": 78,
   "id": "416065c7",
   "metadata": {},
   "outputs": [],
   "source": [
    "# Tag HUC08 outlet COMIDs as True\n",
    "reach_gdf.loc[huc08_outlets_drwi_gdf[huc08_outlets_drwi_gdf.in_drb].comid, 'into_dr'] = True"
   ]
  },
  {
   "cell_type": "code",
   "execution_count": 79,
   "id": "1e0d4a29",
   "metadata": {},
   "outputs": [
    {
     "data": {
      "text/plain": [
       "into_dr\n",
       "False    19481\n",
       "True        15\n",
       "Name: count, dtype: int64"
      ]
     },
     "execution_count": 79,
     "metadata": {},
     "output_type": "execute_result"
    }
   ],
   "source": [
    "reach_gdf.into_dr.value_counts()"
   ]
  },
  {
   "attachments": {},
   "cell_type": "markdown",
   "id": "f192a750",
   "metadata": {},
   "source": [
    "## Add other COMIDs Directly Draining to Delaware River\n",
    "From list created by Caitlin 2023"
   ]
  },
  {
   "cell_type": "code",
   "execution_count": 80,
   "id": "6e631595",
   "metadata": {},
   "outputs": [
    {
     "data": {
      "text/html": [
       "<div>\n",
       "<style scoped>\n",
       "    .dataframe tbody tr th:only-of-type {\n",
       "        vertical-align: middle;\n",
       "    }\n",
       "\n",
       "    .dataframe tbody tr th {\n",
       "        vertical-align: top;\n",
       "    }\n",
       "\n",
       "    .dataframe thead th {\n",
       "        text-align: right;\n",
       "    }\n",
       "</style>\n",
       "<table border=\"1\" class=\"dataframe\">\n",
       "  <thead>\n",
       "    <tr style=\"text-align: right;\">\n",
       "      <th></th>\n",
       "      <th>huc08</th>\n",
       "    </tr>\n",
       "    <tr>\n",
       "      <th>comid</th>\n",
       "      <th></th>\n",
       "    </tr>\n",
       "  </thead>\n",
       "  <tbody>\n",
       "    <tr>\n",
       "      <th>2741462</th>\n",
       "      <td>2040103</td>\n",
       "    </tr>\n",
       "    <tr>\n",
       "      <th>2591441</th>\n",
       "      <td>2040105</td>\n",
       "    </tr>\n",
       "    <tr>\n",
       "      <th>932040294</th>\n",
       "      <td>2040105</td>\n",
       "    </tr>\n",
       "    <tr>\n",
       "      <th>2590183</th>\n",
       "      <td>2040105</td>\n",
       "    </tr>\n",
       "    <tr>\n",
       "      <th>2591445</th>\n",
       "      <td>2040105</td>\n",
       "    </tr>\n",
       "    <tr>\n",
       "      <th>...</th>\n",
       "      <td>...</td>\n",
       "    </tr>\n",
       "    <tr>\n",
       "      <th>24902810</th>\n",
       "      <td>2040205</td>\n",
       "    </tr>\n",
       "    <tr>\n",
       "      <th>24902842</th>\n",
       "      <td>2040205</td>\n",
       "    </tr>\n",
       "    <tr>\n",
       "      <th>24902860</th>\n",
       "      <td>2040205</td>\n",
       "    </tr>\n",
       "    <tr>\n",
       "      <th>8074120</th>\n",
       "      <td>2040205</td>\n",
       "    </tr>\n",
       "    <tr>\n",
       "      <th>24903436</th>\n",
       "      <td>2040206</td>\n",
       "    </tr>\n",
       "  </tbody>\n",
       "</table>\n",
       "<p>113 rows × 1 columns</p>\n",
       "</div>"
      ],
      "text/plain": [
       "             huc08\n",
       "comid             \n",
       "2741462    2040103\n",
       "2591441    2040105\n",
       "932040294  2040105\n",
       "2590183    2040105\n",
       "2591445    2040105\n",
       "...            ...\n",
       "24902810   2040205\n",
       "24902842   2040205\n",
       "24902860   2040205\n",
       "8074120    2040205\n",
       "24903436   2040206\n",
       "\n",
       "[113 rows x 1 columns]"
      ]
     },
     "execution_count": 80,
     "metadata": {},
     "output_type": "execute_result"
    }
   ],
   "source": [
    "# Read outfalls file created by Caitlin January 2023\n",
    "huc08_outfalls_dr_df = pd.read_csv(\n",
    "    geography_path / 'huc08_outfalls_to_delaware_river.csv',\n",
    "    index_col='comid',\n",
    ")\n",
    "huc08_outfalls_dr_df"
   ]
  },
  {
   "cell_type": "code",
   "execution_count": 81,
   "id": "e5389d10",
   "metadata": {},
   "outputs": [],
   "source": [
    "# Drop COMIDs not in DRB\n",
    "huc08_outfalls_dr_df.drop(\n",
    "    [2588515, 2588287, 2590265],  # These COMIDs must not be in DRB, because they cause the next function to fail\n",
    "    inplace=True,\n",
    ")"
   ]
  },
  {
   "cell_type": "code",
   "execution_count": 82,
   "id": "71eec66c",
   "metadata": {},
   "outputs": [],
   "source": [
    "reach_gdf.loc[huc08_outfalls_dr_df.index, 'into_dr'] = True"
   ]
  },
  {
   "cell_type": "code",
   "execution_count": 83,
   "id": "52ae9d7b",
   "metadata": {},
   "outputs": [
    {
     "data": {
      "text/plain": [
       "into_dr\n",
       "False    19375\n",
       "True       121\n",
       "Name: count, dtype: int64"
      ]
     },
     "execution_count": 83,
     "metadata": {},
     "output_type": "execute_result"
    }
   ],
   "source": [
    "reach_gdf.into_dr.value_counts()"
   ]
  },
  {
   "attachments": {},
   "cell_type": "markdown",
   "id": "3eac0a85",
   "metadata": {},
   "source": [
    "## Explore and add other HUC12s?\n",
    "Exploration is best done in PA2_2b notebook, under \"Compare HUC12 loads\" section"
   ]
  },
  {
   "cell_type": "code",
   "execution_count": 84,
   "id": "03ef3e85",
   "metadata": {},
   "outputs": [],
   "source": [
    "# HUC12: 020401030603  Lackawaxen River-Delaware River\n",
    "# huc10  0204010306    Lackawaxen River\n",
    "# huc08  02040103    Lackawaxen\n",
    "outfall_comids = [\n",
    "    2741462, # Outlet\n",
    "    2743138, # Largest 'maflowv' with 'tp_conc', upstream of 2741462\n",
    "]\n",
    "reach_gdf.loc[outfall_comids, 'into_dr'] = True"
   ]
  },
  {
   "cell_type": "code",
   "execution_count": 85,
   "id": "8f972b6c",
   "metadata": {},
   "outputs": [],
   "source": [
    "# HUC12: 020401050603  Buckhorn Creek-Delaware River\n",
    "# huc10  0204010506    Upper Delaware River\n",
    "# huc08  02040105    Middle Delaware-Musconetcong\n",
    "outfall_comids = [\n",
    "    2588373, # Main Outlet, but no concs or loads\n",
    "    2588455, # Largest 'maflowv' with 'tp_conc', just upstream of 2588373\n",
    "    # 2588403, 2588407, # small streams that can ignored\n",
    "]\n",
    "reach_gdf.loc[outfall_comids, 'into_dr'] = True"
   ]
  },
  {
   "cell_type": "code",
   "execution_count": 86,
   "id": "a1cd93ae",
   "metadata": {},
   "outputs": [],
   "source": [
    "# HUC12: 020401050605  Lopatcong Creek-Delaware River\n",
    "# huc10  0204010506    Upper Delaware River\n",
    "# huc08  02040105    Middle Delaware-Musconetcong\n",
    "outfall_comids = [\n",
    "]\n",
    "reach_gdf.loc[outfall_comids, 'into_dr'] = True\n",
    "reach_gdf.loc[2588561, 'into_dr'] = False  # Mainstem island side channel\n"
   ]
  },
  {
   "cell_type": "code",
   "execution_count": 87,
   "id": "c093bf07",
   "metadata": {},
   "outputs": [],
   "source": [
    "# HUC12: 020401050904  Harihokake Creek-Delaware River\n",
    "# huc10  0204010509    Lower Delaware River\n",
    "# huc08  02040105    Middle Delaware-Musconetcong\n",
    "# These look good. They are island side channels:\n",
    "# 2588519\t020401050904\t0204010509\t02040105\t0.600\tNaN\n",
    "# 2588523\t020401050904\t0204010509\t02040105\t8.010\tNaN\n",
    "outfall_comids = [\n",
    "    2588117, # outfall from HUC12=020401050901\n",
    "    2588141, # outfall from HUC12=020401050902, #1\n",
    "    2588143, # outfall from HUC12=020401050902, #2\n",
    "    2591071, # outfall from HUC12=020401050903\n",
    "]\n",
    "reach_gdf.loc[outfall_comids, 'into_dr'] = True"
   ]
  },
  {
   "cell_type": "code",
   "execution_count": 88,
   "id": "dbad52f4",
   "metadata": {},
   "outputs": [],
   "source": [
    "# HUC12: 020401050908  Paunnacussing Creek-Delaware River\n",
    "# huc10  0204010509    Lower Delaware River\n",
    "# huc08  02040105    Middle Delaware-Musconetcong\n",
    "outfall_comids = [\n",
    "    2591267, # outlet from HUC12=020401050905\n",
    "    2589541, # outlet from HUC12=020401050906\n",
    "    2589575, # outlet from HUC12=020401050907\n",
    "]\n",
    "reach_gdf.loc[outfall_comids, 'into_dr'] = True"
   ]
  },
  {
   "cell_type": "code",
   "execution_count": 89,
   "id": "0a97bbfc",
   "metadata": {},
   "outputs": [],
   "source": [
    "# HUC12: 020401050803  Lower Assunpink Creek\n",
    "outfall_comids = [\n",
    "    2590137, # outlet to entire HUC12=020401050803\n",
    "]\n",
    "reach_gdf.loc[outfall_comids, 'into_dr'] = True"
   ]
  },
  {
   "cell_type": "code",
   "execution_count": 90,
   "id": "15712451",
   "metadata": {},
   "outputs": [],
   "source": [
    "# HUC12: 020402010105  Lower Crosswicks Creek\n",
    "outfall_comids = [\n",
    "    4481795, # outlet to entire HUC12=020402010105\n",
    "]\n",
    "reach_gdf.loc[outfall_comids, 'into_dr'] = True"
   ]
  },
  {
   "cell_type": "code",
   "execution_count": 91,
   "id": "d4471641",
   "metadata": {},
   "outputs": [],
   "source": [
    "# Assiscunk Creek-Delaware River, HUC-10 Watershed (ID 0204020104)\n",
    "outfall_comids = [\n",
    "    # HUC12: 020402010404  Van Sciver Lake-Delaware River\n",
    "    4481767, 4481815, 4485571, 4481817, # side tribs\n",
    "    4481803, # drains from HUC12=020402010401\n",
    "    4481831, # drains from HUC12=020402010402\n",
    "    4481835, # drains from HUC12=020402010403\n",
    "    # HUC12: 020402010407  Burlington Island-Delaware River\n",
    "    4481885, # outlet to   HUC12=020402010405\n",
    "    4481901, # drains from HUC12=020402010406\n",
    "    4485575, # drains from Lower Neshaminy Creek, HUC-10 Watershed ID 0204020103\n",
    "]\n",
    "reach_gdf.loc[outfall_comids, 'into_dr'] = True"
   ]
  },
  {
   "cell_type": "code",
   "execution_count": 92,
   "id": "8f6dcdb7",
   "metadata": {},
   "outputs": [],
   "source": [
    "# HUC12: 020402020405  Petty Island-Delaware River\n",
    "# huc10  0204020204    Cooper River-Delaware River\n",
    "# huc08  02040202    Lower Delaware\n",
    "outfall_comids = [\n",
    "   4494710, # Largest 'maflowv' with 'tp_conc', just upstream of 4499298\n",
    "]\n",
    "reach_gdf.loc[outfall_comids, 'into_dr'] = True"
   ]
  },
  {
   "cell_type": "code",
   "execution_count": 93,
   "id": "387dfa50",
   "metadata": {},
   "outputs": [],
   "source": [
    "# HUC12: 020402020607  Repaupo Creek-Delaware River\n",
    "# huc10  0204020206    Raccoon Creek-Delaware River\n",
    "# huc08  02040202    Lower Delaware\n",
    "outfall_comids = [\n",
    "   4496356, # drains from HUC12=020402020606, just upstream of 4499332\n",
    "]\n",
    "reach_gdf.loc[outfall_comids, 'into_dr'] = True"
   ]
  },
  {
   "cell_type": "code",
   "execution_count": 94,
   "id": "b0043348",
   "metadata": {},
   "outputs": [],
   "source": [
    "# HUC12: 020402050801  Augustine Creek\n",
    "# huc10  0204020508    Appoquinimink River-Delaware River\n",
    "# huc08  02040205    Brandywine-Christina\n",
    "outfall_comids = [\n",
    "   932040001, # Largest 'maflowv' with 'tp_conc', upstream of 932040184\n",
    "   # HUC12: 020402050803  Blackbird Creek\n",
    "   4653750,  # Largest 'maflowv' with 'tp_conc', upstream of 24902860\n",
    "   # HUC12: 020402060602  Mad Horse Creek-Delaware Bay, huc08 02040206 Cohansey-Maurice\n",
    "   9489858,  # Largest 'maflowv' with 'tp_conc', upstream of 24903666\n",
    "]\n",
    "reach_gdf.loc[outfall_comids, 'into_dr'] = True"
   ]
  },
  {
   "cell_type": "code",
   "execution_count": 95,
   "id": "dcea39f2",
   "metadata": {},
   "outputs": [],
   "source": [
    "comids_to_drop = [\n",
    "    2741462, # No concs, HUC12: 020401030603  Lackawaxen River-Delaware River\n",
    "    2588373, # Main Outlet, but no concs or loads, HUC12: 020401050603  Buckhorn Creek-Delaware River\n",
    "    2588519, 2588523, # island side channels HUC12: 020401050904  Harihokake Creek-Delaware River\n",
    "    24903452, # Mainstem channel for HUC12=020402020608\n",
    "    24903800, # No concs in HUC12: 020402040000  Delaware Bay-Deep\n",
    "    24903566, # No concs for main channel in C&D Canal - Red Lion Creek, HUC-10 Watershed (ID 0204020507)\n",
    "    932040184, # No concs in Bay, HUC12: 020402050801  Augustine Creek\n",
    "    24902860, # No concs in Bay, HUC12: 020402050803  Blackbird Creek\n",
    "    24903666, # No concs in Bay, HUC12: 020402060602  Mad Horse Creek-Delaware Bay\n",
    "]\n",
    "reach_gdf.loc[comids_to_drop, 'into_dr'] = False"
   ]
  },
  {
   "cell_type": "markdown",
   "id": "97de0076",
   "metadata": {
    "tags": []
   },
   "source": [
    "# Read Results from MMW-WikiSRAT\n",
    "Read Stage 2 baseline results from MMW-WikiSRAT, which were run and saved separately using  for five different scenarios differntiated by `run_group`, using the`stage2/wikiSRAT/run_srat_with_bmps.py` script by Sara Damiano.\n",
    "\n",
    "Run groups\n",
    "- 'No restoration or protection', \n",
    "- 'Direct WPF Restoration', \n",
    "- 'Direct and Indirect WPF Restoration', \n",
    "- 'All Restoration', \n",
    "- 'Direct WPF Protection'\n",
    "\n",
    "Python Docs:\n",
    "- Read CSV to Pandas: \n",
    "  - Guide: https://pandas.pydata.org/docs/user_guide/io.html#csv-text-files \n",
    "  - Ref:   https://pandas.pydata.org/docs/reference/api/pandas.read_csv.html\n",
    "- Style (4-space hanging indent; nothing on first line)\n",
    "  - https://google.github.io/styleguide/pyguide.html#34-indentation"
   ]
  },
  {
   "cell_type": "markdown",
   "id": "457a2800",
   "metadata": {},
   "source": [
    "## Reach Concentrations\n",
    "- Concentrations are average annual concentrations leaving the stream reach, and including all upstream loads and attenuation (if turned on).\n",
    "- Concentration units are mg/L.\n",
    "- Mean annual flow volumetric (`maflowv`) are cubic feet per second (CFS)"
   ]
  },
  {
   "cell_type": "code",
   "execution_count": 96,
   "id": "f0d7503b-f961-4023-8c93-6a3e43f2b6a2",
   "metadata": {},
   "outputs": [
    {
     "name": "stdout",
     "output_type": "stream",
     "text": [
      "<class 'pandas.core.frame.DataFrame'>\n",
      "RangeIndex: 166845 entries, 0 to 166844\n",
      "Data columns (total 13 columns):\n",
      " #   Column            Non-Null Count   Dtype   \n",
      "---  ------            --------------   -----   \n",
      " 0   Unnamed: 0        166845 non-null  int64   \n",
      " 1   Source            166845 non-null  category\n",
      " 2   Sediment          143695 non-null  float64 \n",
      " 3   TotalN            143695 non-null  float64 \n",
      " 4   TotalP            143695 non-null  float64 \n",
      " 5   comid             166845 non-null  int64   \n",
      " 6   huc               166845 non-null  category\n",
      " 7   gwlfe_endpoint    166845 non-null  category\n",
      " 8   huc_level         166845 non-null  int64   \n",
      " 9   run_group         166845 non-null  category\n",
      " 10  run_type          166845 non-null  category\n",
      " 11  funding_sources   133476 non-null  category\n",
      " 12  with_attenuation  166845 non-null  bool    \n",
      "dtypes: bool(1), category(6), float64(3), int64(3)\n",
      "memory usage: 8.9 MB\n"
     ]
    }
   ],
   "source": [
    "# Reach total concentrations\n",
    "reach_concs = pd.read_csv(\n",
    "    project_path / pa2_wikisrat_folder / 'reach_concentrations.csv',\n",
    "    dtype = {\n",
    "        'Source': 'category',\n",
    "        'huc': 'category',\n",
    "        'gwlfe_endpoint': 'category',\n",
    "        'run_group': 'category',\n",
    "        'run_type': 'category',\n",
    "        'funding_sources': 'category',\n",
    "        'with_attenuation': bool,\n",
    "    }\n",
    ")\n",
    "reach_concs.info()"
   ]
  },
  {
   "cell_type": "code",
   "execution_count": 97,
   "id": "a31710ec-7a42-4f0f-9965-256a493d7bc8",
   "metadata": {},
   "outputs": [
    {
     "data": {
      "text/plain": [
       "['Reach Concentration']\n",
       "Categories (1, object): ['Reach Concentration']"
      ]
     },
     "execution_count": 97,
     "metadata": {},
     "output_type": "execute_result"
    }
   ],
   "source": [
    "# Confirm only total concentration\n",
    "reach_concs.Source.unique()"
   ]
  },
  {
   "cell_type": "code",
   "execution_count": 98,
   "id": "5671d41a-3153-4e77-8f06-27ee0035273c",
   "metadata": {},
   "outputs": [
    {
     "data": {
      "text/plain": [
       "['No restoration or protection', 'Direct WPF Restoration', 'Direct and Indirect WPF Restoration', 'All Restoration', 'Direct WPF Protection']\n",
       "Categories (5, object): ['All Restoration', 'Direct WPF Protection', 'Direct WPF Restoration', 'Direct and Indirect WPF Restoration', 'No restoration or protection']"
      ]
     },
     "execution_count": 98,
     "metadata": {},
     "output_type": "execute_result"
    }
   ],
   "source": [
    "# List Run Groups\n",
    "reach_concs.run_group.unique()"
   ]
  },
  {
   "cell_type": "code",
   "execution_count": 99,
   "id": "cd6db0d4",
   "metadata": {},
   "outputs": [
    {
     "data": {
      "text/plain": [
       "run_type\n",
       "single      109200\n",
       "combined     57645\n",
       "Name: count, dtype: int64"
      ]
     },
     "execution_count": 99,
     "metadata": {},
     "output_type": "execute_result"
    }
   ],
   "source": [
    "# List Run Types\n",
    "reach_concs.run_type.value_counts()"
   ]
  },
  {
   "cell_type": "code",
   "execution_count": 100,
   "id": "a4400144-9331-4d58-90db-69286101affc",
   "metadata": {},
   "outputs": [
    {
     "name": "stdout",
     "output_type": "stream",
     "text": [
      "<class 'pandas.core.frame.DataFrame'>\n",
      "RangeIndex: 166845 entries, 0 to 166844\n",
      "Data columns (total 13 columns):\n",
      " #   Column            Non-Null Count   Dtype   \n",
      "---  ------            --------------   -----   \n",
      " 0   Unnamed: 0        166845 non-null  int64   \n",
      " 1   Source            166845 non-null  category\n",
      " 2   Sediment          143695 non-null  float64 \n",
      " 3   TotalN            143695 non-null  float64 \n",
      " 4   TotalP            143695 non-null  float64 \n",
      " 5   comid             166845 non-null  int64   \n",
      " 6   huc               166845 non-null  category\n",
      " 7   gwlfe_endpoint    166845 non-null  category\n",
      " 8   huc_level         166845 non-null  int64   \n",
      " 9   run_group         166845 non-null  category\n",
      " 10  run_type          166845 non-null  category\n",
      " 11  funding_sources   133476 non-null  category\n",
      " 12  with_attenuation  166845 non-null  bool    \n",
      "dtypes: bool(1), category(6), float64(3), int64(3)\n",
      "memory usage: 8.9 MB\n"
     ]
    }
   ],
   "source": [
    "# Reach Point Source Concentrations\n",
    "reach_concs_ps_runs = pd.read_csv(\n",
    "    project_path / pa2_wikisrat_folder / 'reach_pt_source_conc.csv',\n",
    "    dtype = {\n",
    "        'Source': 'category',\n",
    "        'huc': 'category',\n",
    "        'gwlfe_endpoint': 'category',\n",
    "        'run_group': 'category',\n",
    "        'run_type': 'category',\n",
    "        'funding_sources': 'category',\n",
    "        'with_attenuation': bool,\n",
    "    }\n",
    ")\n",
    "reach_concs_ps_runs.info()"
   ]
  },
  {
   "cell_type": "code",
   "execution_count": 101,
   "id": "042c84d9-2f4c-4deb-bf52-c370855b4333",
   "metadata": {},
   "outputs": [
    {
     "data": {
      "text/plain": [
       "['Point Source Derived Concentration']\n",
       "Categories (1, object): ['Point Source Derived Concentration']"
      ]
     },
     "execution_count": 101,
     "metadata": {},
     "output_type": "execute_result"
    }
   ],
   "source": [
    "# Confirm Source = 'Point Source Derived Concentration'\n",
    "reach_concs_ps_runs.Source.unique()"
   ]
  },
  {
   "cell_type": "code",
   "execution_count": 102,
   "id": "e699f3dc-787b-488c-995d-97d4ae8b1c87",
   "metadata": {},
   "outputs": [
    {
     "data": {
      "text/plain": [
       "['No restoration or protection', 'Direct WPF Restoration', 'Direct and Indirect WPF Restoration', 'All Restoration', 'Direct WPF Protection']\n",
       "Categories (5, object): ['All Restoration', 'Direct WPF Protection', 'Direct WPF Restoration', 'Direct and Indirect WPF Restoration', 'No restoration or protection']"
      ]
     },
     "execution_count": 102,
     "metadata": {},
     "output_type": "execute_result"
    }
   ],
   "source": [
    "# NOTE that this contains all run groups\n",
    "# We only need baseline results, as all have identical values\n",
    "reach_concs_ps_runs.run_group.unique()"
   ]
  },
  {
   "cell_type": "code",
   "execution_count": 103,
   "id": "8345128e-5c87-4d49-9f4d-8d4064f0aa80",
   "metadata": {},
   "outputs": [
    {
     "name": "stdout",
     "output_type": "stream",
     "text": [
      "<class 'pandas.core.frame.DataFrame'>\n",
      "Index: 200214 entries, 0 to 166840\n",
      "Data columns (total 13 columns):\n",
      " #   Column            Non-Null Count   Dtype   \n",
      "---  ------            --------------   -----   \n",
      " 0   Unnamed: 0        200214 non-null  int64   \n",
      " 1   Source            200214 non-null  object  \n",
      " 2   Sediment          172434 non-null  float64 \n",
      " 3   TotalN            172434 non-null  float64 \n",
      " 4   TotalP            172434 non-null  float64 \n",
      " 5   comid             200214 non-null  int64   \n",
      " 6   huc               200214 non-null  category\n",
      " 7   gwlfe_endpoint    200214 non-null  category\n",
      " 8   huc_level         200214 non-null  int64   \n",
      " 9   run_group         200214 non-null  category\n",
      " 10  run_type          200214 non-null  category\n",
      " 11  funding_sources   133476 non-null  category\n",
      " 12  with_attenuation  200214 non-null  bool    \n",
      "dtypes: bool(1), category(5), float64(3), int64(3), object(1)\n",
      "memory usage: 13.6+ MB\n",
      "CPU times: user 24.4 ms, sys: 6.23 ms, total: 30.6 ms\n",
      "Wall time: 29.8 ms\n"
     ]
    }
   ],
   "source": [
    "%%time\n",
    "# Concatentate Point Sources data to main dataframe\n",
    "frames = [reach_concs,\n",
    "          reach_concs_ps_runs.loc[reach_concs_ps_runs.run_group == 'No restoration or protection'],\n",
    "         ]\n",
    "reach_concs_df = pd.concat(frames)\n",
    "reach_concs_df.info()"
   ]
  },
  {
   "cell_type": "code",
   "execution_count": 104,
   "id": "a59db507",
   "metadata": {},
   "outputs": [
    {
     "data": {
      "text/plain": [
       "CategoricalDtype(categories=['Point Source Derived Concentration', 'Reach Concentration'], ordered=False, categories_dtype=object)"
      ]
     },
     "execution_count": 104,
     "metadata": {},
     "output_type": "execute_result"
    }
   ],
   "source": [
    "# Convert 'Source' back to 'category'\n",
    "reach_concs_df.Source = reach_concs_df.Source.astype('category')\n",
    "reach_concs_df.Source.dtype"
   ]
  },
  {
   "cell_type": "code",
   "execution_count": 105,
   "id": "899aeba5-025f-42a8-8582-1c11d053f7de",
   "metadata": {},
   "outputs": [
    {
     "data": {
      "text/plain": [
       "Source\n",
       "Reach Concentration                   166845\n",
       "Point Source Derived Concentration     33369\n",
       "Name: count, dtype: int64"
      ]
     },
     "execution_count": 105,
     "metadata": {},
     "output_type": "execute_result"
    }
   ],
   "source": [
    "# Confirm two source types\n",
    "reach_concs_df.Source.value_counts()"
   ]
  },
  {
   "cell_type": "code",
   "execution_count": 106,
   "id": "0da0f1ff",
   "metadata": {},
   "outputs": [
    {
     "name": "stdout",
     "output_type": "stream",
     "text": [
      "<class 'pandas.core.frame.DataFrame'>\n",
      "Index: 200214 entries, 0 to 166840\n",
      "Data columns (total 13 columns):\n",
      " #   Column            Non-Null Count   Dtype   \n",
      "---  ------            --------------   -----   \n",
      " 0   Unnamed: 0        200214 non-null  int64   \n",
      " 1   Source            200214 non-null  category\n",
      " 2   Sediment          172434 non-null  float64 \n",
      " 3   TotalN            172434 non-null  float64 \n",
      " 4   TotalP            172434 non-null  float64 \n",
      " 5   comid             200214 non-null  int64   \n",
      " 6   huc               200214 non-null  category\n",
      " 7   gwlfe_endpoint    200214 non-null  category\n",
      " 8   huc_level         200214 non-null  int64   \n",
      " 9   run_group         200214 non-null  category\n",
      " 10  run_type          200214 non-null  category\n",
      " 11  funding_sources   133476 non-null  category\n",
      " 12  with_attenuation  200214 non-null  bool    \n",
      "dtypes: bool(1), category(6), float64(3), int64(3)\n",
      "memory usage: 12.2 MB\n"
     ]
    }
   ],
   "source": [
    "reach_concs_df.info()"
   ]
  },
  {
   "cell_type": "code",
   "execution_count": 107,
   "id": "85805e16-731b-4ce7-a235-ab1c8bbcb485",
   "metadata": {},
   "outputs": [],
   "source": [
    "# Drop duplicate column\n",
    "reach_concs_df.drop('Unnamed: 0', axis='columns', inplace=True)"
   ]
  },
  {
   "cell_type": "code",
   "execution_count": 108,
   "id": "1e406f8d-a0f5-4e43-bfc6-6ad05a9f1796",
   "metadata": {},
   "outputs": [
    {
     "data": {
      "text/html": [
       "<div>\n",
       "<style scoped>\n",
       "    .dataframe tbody tr th:only-of-type {\n",
       "        vertical-align: middle;\n",
       "    }\n",
       "\n",
       "    .dataframe tbody tr th {\n",
       "        vertical-align: top;\n",
       "    }\n",
       "\n",
       "    .dataframe thead th {\n",
       "        text-align: right;\n",
       "    }\n",
       "</style>\n",
       "<table border=\"1\" class=\"dataframe\">\n",
       "  <thead>\n",
       "    <tr style=\"text-align: right;\">\n",
       "      <th></th>\n",
       "      <th>Source</th>\n",
       "      <th>Sediment</th>\n",
       "      <th>TotalN</th>\n",
       "      <th>TotalP</th>\n",
       "      <th>comid</th>\n",
       "      <th>huc</th>\n",
       "      <th>gwlfe_endpoint</th>\n",
       "      <th>huc_level</th>\n",
       "      <th>run_group</th>\n",
       "      <th>run_type</th>\n",
       "      <th>funding_sources</th>\n",
       "      <th>with_attenuation</th>\n",
       "    </tr>\n",
       "  </thead>\n",
       "  <tbody>\n",
       "    <tr>\n",
       "      <th>0</th>\n",
       "      <td>Reach Concentration</td>\n",
       "      <td>17.456653</td>\n",
       "      <td>0.240183</td>\n",
       "      <td>0.022851</td>\n",
       "      <td>2612780</td>\n",
       "      <td>020401010101</td>\n",
       "      <td>wikiSRAT</td>\n",
       "      <td>12</td>\n",
       "      <td>No restoration or protection</td>\n",
       "      <td>single</td>\n",
       "      <td>NaN</td>\n",
       "      <td>True</td>\n",
       "    </tr>\n",
       "    <tr>\n",
       "      <th>1</th>\n",
       "      <td>Reach Concentration</td>\n",
       "      <td>17.456653</td>\n",
       "      <td>0.240183</td>\n",
       "      <td>0.022851</td>\n",
       "      <td>2612780</td>\n",
       "      <td>020401010101</td>\n",
       "      <td>wikiSRAT</td>\n",
       "      <td>12</td>\n",
       "      <td>Direct WPF Restoration</td>\n",
       "      <td>single</td>\n",
       "      <td>Delaware River Restoration Fund</td>\n",
       "      <td>True</td>\n",
       "    </tr>\n",
       "    <tr>\n",
       "      <th>2</th>\n",
       "      <td>Reach Concentration</td>\n",
       "      <td>17.456653</td>\n",
       "      <td>0.240183</td>\n",
       "      <td>0.022851</td>\n",
       "      <td>2612780</td>\n",
       "      <td>020401010101</td>\n",
       "      <td>wikiSRAT</td>\n",
       "      <td>12</td>\n",
       "      <td>Direct and Indirect WPF Restoration</td>\n",
       "      <td>single</td>\n",
       "      <td>Delaware River Restoration Fund, Delaware Rive...</td>\n",
       "      <td>True</td>\n",
       "    </tr>\n",
       "    <tr>\n",
       "      <th>3</th>\n",
       "      <td>Reach Concentration</td>\n",
       "      <td>17.456653</td>\n",
       "      <td>0.240183</td>\n",
       "      <td>0.022851</td>\n",
       "      <td>2612780</td>\n",
       "      <td>020401010101</td>\n",
       "      <td>wikiSRAT</td>\n",
       "      <td>12</td>\n",
       "      <td>All Restoration</td>\n",
       "      <td>single</td>\n",
       "      <td>Delaware River Restoration Fund, Delaware Rive...</td>\n",
       "      <td>True</td>\n",
       "    </tr>\n",
       "    <tr>\n",
       "      <th>4</th>\n",
       "      <td>Reach Concentration</td>\n",
       "      <td>17.456653</td>\n",
       "      <td>0.240183</td>\n",
       "      <td>0.022851</td>\n",
       "      <td>2612780</td>\n",
       "      <td>020401010101</td>\n",
       "      <td>wikiSRAT</td>\n",
       "      <td>12</td>\n",
       "      <td>Direct WPF Protection</td>\n",
       "      <td>single</td>\n",
       "      <td>Delaware River Watershed Protection Fund - For...</td>\n",
       "      <td>True</td>\n",
       "    </tr>\n",
       "    <tr>\n",
       "      <th>...</th>\n",
       "      <td>...</td>\n",
       "      <td>...</td>\n",
       "      <td>...</td>\n",
       "      <td>...</td>\n",
       "      <td>...</td>\n",
       "      <td>...</td>\n",
       "      <td>...</td>\n",
       "      <td>...</td>\n",
       "      <td>...</td>\n",
       "      <td>...</td>\n",
       "      <td>...</td>\n",
       "      <td>...</td>\n",
       "    </tr>\n",
       "    <tr>\n",
       "      <th>166820</th>\n",
       "      <td>Point Source Derived Concentration</td>\n",
       "      <td>0.000000</td>\n",
       "      <td>0.000000</td>\n",
       "      <td>0.000000</td>\n",
       "      <td>9891532</td>\n",
       "      <td>020403040501</td>\n",
       "      <td>wikiSRAT</td>\n",
       "      <td>12</td>\n",
       "      <td>No restoration or protection</td>\n",
       "      <td>single</td>\n",
       "      <td>NaN</td>\n",
       "      <td>True</td>\n",
       "    </tr>\n",
       "    <tr>\n",
       "      <th>166825</th>\n",
       "      <td>Point Source Derived Concentration</td>\n",
       "      <td>0.000000</td>\n",
       "      <td>0.000000</td>\n",
       "      <td>0.000000</td>\n",
       "      <td>10466473</td>\n",
       "      <td>020403040501</td>\n",
       "      <td>wikiSRAT</td>\n",
       "      <td>12</td>\n",
       "      <td>No restoration or protection</td>\n",
       "      <td>single</td>\n",
       "      <td>NaN</td>\n",
       "      <td>True</td>\n",
       "    </tr>\n",
       "    <tr>\n",
       "      <th>166830</th>\n",
       "      <td>Point Source Derived Concentration</td>\n",
       "      <td>0.000000</td>\n",
       "      <td>0.000000</td>\n",
       "      <td>0.000000</td>\n",
       "      <td>10466475</td>\n",
       "      <td>020403040501</td>\n",
       "      <td>wikiSRAT</td>\n",
       "      <td>12</td>\n",
       "      <td>No restoration or protection</td>\n",
       "      <td>single</td>\n",
       "      <td>NaN</td>\n",
       "      <td>True</td>\n",
       "    </tr>\n",
       "    <tr>\n",
       "      <th>166835</th>\n",
       "      <td>Point Source Derived Concentration</td>\n",
       "      <td>0.000000</td>\n",
       "      <td>0.000000</td>\n",
       "      <td>0.000000</td>\n",
       "      <td>10466691</td>\n",
       "      <td>020403040501</td>\n",
       "      <td>wikiSRAT</td>\n",
       "      <td>12</td>\n",
       "      <td>No restoration or protection</td>\n",
       "      <td>single</td>\n",
       "      <td>NaN</td>\n",
       "      <td>True</td>\n",
       "    </tr>\n",
       "    <tr>\n",
       "      <th>166840</th>\n",
       "      <td>Point Source Derived Concentration</td>\n",
       "      <td>0.000000</td>\n",
       "      <td>0.000000</td>\n",
       "      <td>0.000000</td>\n",
       "      <td>27081103</td>\n",
       "      <td>020403040501</td>\n",
       "      <td>wikiSRAT</td>\n",
       "      <td>12</td>\n",
       "      <td>No restoration or protection</td>\n",
       "      <td>single</td>\n",
       "      <td>NaN</td>\n",
       "      <td>True</td>\n",
       "    </tr>\n",
       "  </tbody>\n",
       "</table>\n",
       "<p>200214 rows × 12 columns</p>\n",
       "</div>"
      ],
      "text/plain": [
       "                                    Source   Sediment    TotalN    TotalP  \\\n",
       "0                      Reach Concentration  17.456653  0.240183  0.022851   \n",
       "1                      Reach Concentration  17.456653  0.240183  0.022851   \n",
       "2                      Reach Concentration  17.456653  0.240183  0.022851   \n",
       "3                      Reach Concentration  17.456653  0.240183  0.022851   \n",
       "4                      Reach Concentration  17.456653  0.240183  0.022851   \n",
       "...                                    ...        ...       ...       ...   \n",
       "166820  Point Source Derived Concentration   0.000000  0.000000  0.000000   \n",
       "166825  Point Source Derived Concentration   0.000000  0.000000  0.000000   \n",
       "166830  Point Source Derived Concentration   0.000000  0.000000  0.000000   \n",
       "166835  Point Source Derived Concentration   0.000000  0.000000  0.000000   \n",
       "166840  Point Source Derived Concentration   0.000000  0.000000  0.000000   \n",
       "\n",
       "           comid           huc gwlfe_endpoint  huc_level  \\\n",
       "0        2612780  020401010101       wikiSRAT         12   \n",
       "1        2612780  020401010101       wikiSRAT         12   \n",
       "2        2612780  020401010101       wikiSRAT         12   \n",
       "3        2612780  020401010101       wikiSRAT         12   \n",
       "4        2612780  020401010101       wikiSRAT         12   \n",
       "...          ...           ...            ...        ...   \n",
       "166820   9891532  020403040501       wikiSRAT         12   \n",
       "166825  10466473  020403040501       wikiSRAT         12   \n",
       "166830  10466475  020403040501       wikiSRAT         12   \n",
       "166835  10466691  020403040501       wikiSRAT         12   \n",
       "166840  27081103  020403040501       wikiSRAT         12   \n",
       "\n",
       "                                  run_group run_type  \\\n",
       "0              No restoration or protection   single   \n",
       "1                    Direct WPF Restoration   single   \n",
       "2       Direct and Indirect WPF Restoration   single   \n",
       "3                           All Restoration   single   \n",
       "4                     Direct WPF Protection   single   \n",
       "...                                     ...      ...   \n",
       "166820         No restoration or protection   single   \n",
       "166825         No restoration or protection   single   \n",
       "166830         No restoration or protection   single   \n",
       "166835         No restoration or protection   single   \n",
       "166840         No restoration or protection   single   \n",
       "\n",
       "                                          funding_sources  with_attenuation  \n",
       "0                                                     NaN              True  \n",
       "1                         Delaware River Restoration Fund              True  \n",
       "2       Delaware River Restoration Fund, Delaware Rive...              True  \n",
       "3       Delaware River Restoration Fund, Delaware Rive...              True  \n",
       "4       Delaware River Watershed Protection Fund - For...              True  \n",
       "...                                                   ...               ...  \n",
       "166820                                                NaN              True  \n",
       "166825                                                NaN              True  \n",
       "166830                                                NaN              True  \n",
       "166835                                                NaN              True  \n",
       "166840                                                NaN              True  \n",
       "\n",
       "[200214 rows x 12 columns]"
      ]
     },
     "execution_count": 108,
     "metadata": {},
     "output_type": "execute_result"
    }
   ],
   "source": [
    "reach_concs_df"
   ]
  },
  {
   "cell_type": "markdown",
   "id": "df5fb0f5-d39f-4df4-804c-97053c159a3c",
   "metadata": {},
   "source": [
    "## Catchment Loads\n",
    "- Loads are local loads from the land to the stream reach.\n",
    "- Load units are `kg/y`."
   ]
  },
  {
   "cell_type": "code",
   "execution_count": 109,
   "id": "7b22ffbb",
   "metadata": {},
   "outputs": [
    {
     "name": "stdout",
     "output_type": "stream",
     "text": [
      "<class 'pandas.core.frame.DataFrame'>\n",
      "RangeIndex: 166845 entries, 0 to 166844\n",
      "Data columns (total 13 columns):\n",
      " #   Column            Non-Null Count   Dtype   \n",
      "---  ------            --------------   -----   \n",
      " 0   Unnamed: 0        166845 non-null  int64   \n",
      " 1   Source            166845 non-null  category\n",
      " 2   Sediment          166845 non-null  float64 \n",
      " 3   TotalN            166845 non-null  float64 \n",
      " 4   TotalP            166845 non-null  float64 \n",
      " 5   comid             166845 non-null  int64   \n",
      " 6   huc               166845 non-null  category\n",
      " 7   gwlfe_endpoint    166845 non-null  category\n",
      " 8   huc_level         166845 non-null  int64   \n",
      " 9   run_group         166845 non-null  category\n",
      " 10  run_type          166845 non-null  category\n",
      " 11  funding_sources   133476 non-null  category\n",
      " 12  with_attenuation  166845 non-null  bool    \n",
      "dtypes: bool(1), category(6), float64(3), int64(3)\n",
      "memory usage: 8.9 MB\n"
     ]
    }
   ],
   "source": [
    "# Catchment 'Total Local Load' for every COMID and Run Group\n",
    "catch_loads = pd.read_csv(\n",
    "    project_path / pa2_wikisrat_folder / 'catchment_total_local_load.csv',\n",
    "    dtype = {\n",
    "        'Source': 'category',\n",
    "        'huc': 'category',\n",
    "        'gwlfe_endpoint': 'category',\n",
    "        'run_group': 'category',\n",
    "        'run_type': 'category',\n",
    "        'funding_sources': 'category',\n",
    "        'with_attenuation': bool,\n",
    "    }\n",
    ")\n",
    "catch_loads.info()  # Not setting index, as each `comid` has 5 runs"
   ]
  },
  {
   "cell_type": "code",
   "execution_count": 110,
   "id": "72387fe7",
   "metadata": {},
   "outputs": [
    {
     "data": {
      "text/plain": [
       "['Total Local Load']\n",
       "Categories (1, object): ['Total Local Load']"
      ]
     },
     "execution_count": 110,
     "metadata": {},
     "output_type": "execute_result"
    }
   ],
   "source": [
    "# Confirm only total local loads\n",
    "catch_loads.Source.unique()"
   ]
  },
  {
   "cell_type": "code",
   "execution_count": 111,
   "id": "18b954dc",
   "metadata": {},
   "outputs": [
    {
     "data": {
      "text/plain": [
       "['No restoration or protection', 'Direct WPF Restoration', 'Direct and Indirect WPF Restoration', 'All Restoration', 'Direct WPF Protection']\n",
       "Categories (5, object): ['All Restoration', 'Direct WPF Protection', 'Direct WPF Restoration', 'Direct and Indirect WPF Restoration', 'No restoration or protection']"
      ]
     },
     "execution_count": 111,
     "metadata": {},
     "output_type": "execute_result"
    }
   ],
   "source": [
    "# List Run Groups\n",
    "catch_loads.run_group.unique()"
   ]
  },
  {
   "cell_type": "code",
   "execution_count": 112,
   "id": "2b812dc5",
   "metadata": {},
   "outputs": [
    {
     "data": {
      "text/plain": [
       "[NaN, 'Delaware River Restoration Fund', 'Delaware River Restoration Fund, Delaware Riv..., 'Delaware River Restoration Fund, Delaware Riv..., 'Delaware River Watershed Protection Fund - Fo...]\n",
       "Categories (4, object): ['Delaware River Restoration Fund', 'Delaware River Restoration Fund, Delaware Riv..., 'Delaware River Restoration Fund, Delaware Riv..., 'Delaware River Watershed Protection Fund - Fo...]"
      ]
     },
     "execution_count": 112,
     "metadata": {},
     "output_type": "execute_result"
    }
   ],
   "source": [
    "# List Funding Sources per run group\n",
    "catch_loads.funding_sources.unique()"
   ]
  },
  {
   "cell_type": "code",
   "execution_count": 113,
   "id": "f3cfbb5a-f00c-4b60-a900-9a11cde7b144",
   "metadata": {},
   "outputs": [
    {
     "name": "stdout",
     "output_type": "stream",
     "text": [
      "<class 'pandas.core.frame.DataFrame'>\n",
      "RangeIndex: 567273 entries, 0 to 567272\n",
      "Data columns (total 13 columns):\n",
      " #   Column            Non-Null Count   Dtype   \n",
      "---  ------            --------------   -----   \n",
      " 0   Unnamed: 0        567273 non-null  int64   \n",
      " 1   Source            567273 non-null  category\n",
      " 2   Sediment          429167 non-null  float64 \n",
      " 3   TotalN            562643 non-null  float64 \n",
      " 4   TotalP            562643 non-null  float64 \n",
      " 5   comid             567273 non-null  int64   \n",
      " 6   huc               567273 non-null  category\n",
      " 7   gwlfe_endpoint    567273 non-null  category\n",
      " 8   huc_level         567273 non-null  int64   \n",
      " 9   run_group         567273 non-null  category\n",
      " 10  run_type          567273 non-null  category\n",
      " 11  funding_sources   0 non-null       category\n",
      " 12  with_attenuation  567273 non-null  bool    \n",
      "dtypes: bool(1), category(6), float64(3), int64(3)\n",
      "memory usage: 30.3 MB\n"
     ]
    }
   ],
   "source": [
    "# Catchment loads by 'Source' for Run Group 0 (baseline)\n",
    "catch_loads_sources = pd.read_csv(\n",
    "    project_path / pa2_wikisrat_folder / 'catchment_sources_local_load.csv',\n",
    "    dtype = {\n",
    "        'Source': 'category',\n",
    "        'huc': 'category',\n",
    "        'gwlfe_endpoint': 'category',\n",
    "        'run_group': 'category',\n",
    "        'run_type': 'category',\n",
    "        'funding_sources': 'category',\n",
    "        'with_attenuation': bool,\n",
    "    }\n",
    ")\n",
    "catch_loads_sources.info()"
   ]
  },
  {
   "cell_type": "code",
   "execution_count": 114,
   "id": "b66a6bba-c32f-41c9-9a23-1d0cd1e5d0fe",
   "metadata": {},
   "outputs": [
    {
     "data": {
      "text/plain": [
       "['No restoration or protection']\n",
       "Categories (1, object): ['No restoration or protection']"
      ]
     },
     "execution_count": 114,
     "metadata": {},
     "output_type": "execute_result"
    }
   ],
   "source": [
    "# Confirm Run Group is for baseline results (i.e. 'No restoration or protection')\n",
    "catch_loads_sources.run_group.unique()"
   ]
  },
  {
   "cell_type": "code",
   "execution_count": 115,
   "id": "5423f29c-0d7f-4d63-9c07-34ed119f63d8",
   "metadata": {},
   "outputs": [
    {
     "data": {
      "text/plain": [
       "['Barren Areas',\n",
       " 'Cropland',\n",
       " 'Farm Animals',\n",
       " 'Hay/Pasture',\n",
       " 'High-Density Mixed',\n",
       " 'Low-Density Mixed',\n",
       " 'Low-Density Open Space',\n",
       " 'Medium-Density Mixed',\n",
       " 'Open Land',\n",
       " 'Point Sources',\n",
       " 'Reach Concentration',\n",
       " 'Septic Systems',\n",
       " 'Stream Bank Erosion',\n",
       " 'Subsurface Flow',\n",
       " 'Total Local Load',\n",
       " 'Wetlands',\n",
       " 'Wooded Areas']"
      ]
     },
     "execution_count": 115,
     "metadata": {},
     "output_type": "execute_result"
    }
   ],
   "source": [
    "# Get Source names, for 'Point Sources'\n",
    "list(catch_loads_sources.Source.unique())"
   ]
  },
  {
   "cell_type": "code",
   "execution_count": 116,
   "id": "7b5b0e82-8d5a-420e-91f0-c280bb7987ff",
   "metadata": {},
   "outputs": [
    {
     "name": "stdout",
     "output_type": "stream",
     "text": [
      "<class 'pandas.core.frame.DataFrame'>\n",
      "Index: 200214 entries, 0 to 567265\n",
      "Data columns (total 13 columns):\n",
      " #   Column            Non-Null Count   Dtype   \n",
      "---  ------            --------------   -----   \n",
      " 0   Unnamed: 0        200214 non-null  int64   \n",
      " 1   Source            200214 non-null  object  \n",
      " 2   Sediment          166845 non-null  float64 \n",
      " 3   TotalN            200214 non-null  float64 \n",
      " 4   TotalP            200214 non-null  float64 \n",
      " 5   comid             200214 non-null  int64   \n",
      " 6   huc               200214 non-null  category\n",
      " 7   gwlfe_endpoint    200214 non-null  category\n",
      " 8   huc_level         200214 non-null  int64   \n",
      " 9   run_group         200214 non-null  category\n",
      " 10  run_type          200214 non-null  category\n",
      " 11  funding_sources   133476 non-null  category\n",
      " 12  with_attenuation  200214 non-null  bool    \n",
      "dtypes: bool(1), category(5), float64(3), int64(3), object(1)\n",
      "memory usage: 13.6+ MB\n",
      "CPU times: user 38.5 ms, sys: 4.91 ms, total: 43.4 ms\n",
      "Wall time: 42.3 ms\n"
     ]
    },
    {
     "name": "stderr",
     "output_type": "stream",
     "text": [
      "<timed exec>:5: FutureWarning: The behavior of DataFrame concatenation with empty or all-NA entries is deprecated. In a future version, this will no longer exclude empty or all-NA columns when determining the result dtypes. To retain the old behavior, exclude the relevant entries before the concat operation.\n"
     ]
    }
   ],
   "source": [
    "%%time\n",
    "# Concatentate Point Sources data to main dataframe\n",
    "frames = [catch_loads,\n",
    "          catch_loads_sources.loc[catch_loads_sources.Source == 'Point Sources'],\n",
    "         ]\n",
    "catch_loads_df = pd.concat(frames)\n",
    "catch_loads_df.run_group = catch_loads_df.run_group.astype('category')\n",
    "catch_loads_df.info()"
   ]
  },
  {
   "cell_type": "code",
   "execution_count": 117,
   "id": "0dfcf5b5",
   "metadata": {},
   "outputs": [
    {
     "data": {
      "text/plain": [
       "CategoricalDtype(categories=['Point Sources', 'Total Local Load'], ordered=False, categories_dtype=object)"
      ]
     },
     "execution_count": 117,
     "metadata": {},
     "output_type": "execute_result"
    }
   ],
   "source": [
    "# Convert 'Source' back to 'category'\n",
    "catch_loads_df.Source = catch_loads_df.Source.astype('category')\n",
    "catch_loads_df.Source.dtype"
   ]
  },
  {
   "cell_type": "code",
   "execution_count": 118,
   "id": "4f23ebab-3b8f-4ed3-b89c-5ab05ed03a29",
   "metadata": {},
   "outputs": [
    {
     "data": {
      "text/plain": [
       "Source\n",
       "Total Local Load    166845\n",
       "Point Sources        33369\n",
       "Name: count, dtype: int64"
      ]
     },
     "execution_count": 118,
     "metadata": {},
     "output_type": "execute_result"
    }
   ],
   "source": [
    "# Confirm two source types\n",
    "catch_loads_df.Source.value_counts()"
   ]
  },
  {
   "cell_type": "code",
   "execution_count": 119,
   "id": "041b979e-fefb-4216-a9dd-29ab43344622",
   "metadata": {},
   "outputs": [],
   "source": [
    "# Drop duplicate column\n",
    "catch_loads_df.drop('Unnamed: 0', axis='columns', inplace=True)"
   ]
  },
  {
   "cell_type": "code",
   "execution_count": 120,
   "id": "dcb3966b-3ac6-41db-8e96-437a27898ee5",
   "metadata": {},
   "outputs": [
    {
     "data": {
      "text/html": [
       "<div>\n",
       "<style scoped>\n",
       "    .dataframe tbody tr th:only-of-type {\n",
       "        vertical-align: middle;\n",
       "    }\n",
       "\n",
       "    .dataframe tbody tr th {\n",
       "        vertical-align: top;\n",
       "    }\n",
       "\n",
       "    .dataframe thead th {\n",
       "        text-align: right;\n",
       "    }\n",
       "</style>\n",
       "<table border=\"1\" class=\"dataframe\">\n",
       "  <thead>\n",
       "    <tr style=\"text-align: right;\">\n",
       "      <th></th>\n",
       "      <th>Source</th>\n",
       "      <th>Sediment</th>\n",
       "      <th>TotalN</th>\n",
       "      <th>TotalP</th>\n",
       "      <th>comid</th>\n",
       "      <th>huc</th>\n",
       "      <th>gwlfe_endpoint</th>\n",
       "      <th>huc_level</th>\n",
       "      <th>run_group</th>\n",
       "      <th>run_type</th>\n",
       "      <th>funding_sources</th>\n",
       "      <th>with_attenuation</th>\n",
       "    </tr>\n",
       "  </thead>\n",
       "  <tbody>\n",
       "    <tr>\n",
       "      <th>0</th>\n",
       "      <td>Total Local Load</td>\n",
       "      <td>30060.129179</td>\n",
       "      <td>413.59125</td>\n",
       "      <td>39.349002</td>\n",
       "      <td>2612780</td>\n",
       "      <td>020401010101</td>\n",
       "      <td>wikiSRAT</td>\n",
       "      <td>12</td>\n",
       "      <td>No restoration or protection</td>\n",
       "      <td>single</td>\n",
       "      <td>NaN</td>\n",
       "      <td>True</td>\n",
       "    </tr>\n",
       "    <tr>\n",
       "      <th>1</th>\n",
       "      <td>Total Local Load</td>\n",
       "      <td>30060.129179</td>\n",
       "      <td>413.59125</td>\n",
       "      <td>39.349002</td>\n",
       "      <td>2612780</td>\n",
       "      <td>020401010101</td>\n",
       "      <td>wikiSRAT</td>\n",
       "      <td>12</td>\n",
       "      <td>Direct WPF Restoration</td>\n",
       "      <td>single</td>\n",
       "      <td>Delaware River Restoration Fund</td>\n",
       "      <td>True</td>\n",
       "    </tr>\n",
       "    <tr>\n",
       "      <th>2</th>\n",
       "      <td>Total Local Load</td>\n",
       "      <td>30060.129179</td>\n",
       "      <td>413.59125</td>\n",
       "      <td>39.349002</td>\n",
       "      <td>2612780</td>\n",
       "      <td>020401010101</td>\n",
       "      <td>wikiSRAT</td>\n",
       "      <td>12</td>\n",
       "      <td>Direct and Indirect WPF Restoration</td>\n",
       "      <td>single</td>\n",
       "      <td>Delaware River Restoration Fund, Delaware Rive...</td>\n",
       "      <td>True</td>\n",
       "    </tr>\n",
       "    <tr>\n",
       "      <th>3</th>\n",
       "      <td>Total Local Load</td>\n",
       "      <td>30060.129179</td>\n",
       "      <td>413.59125</td>\n",
       "      <td>39.349002</td>\n",
       "      <td>2612780</td>\n",
       "      <td>020401010101</td>\n",
       "      <td>wikiSRAT</td>\n",
       "      <td>12</td>\n",
       "      <td>All Restoration</td>\n",
       "      <td>single</td>\n",
       "      <td>Delaware River Restoration Fund, Delaware Rive...</td>\n",
       "      <td>True</td>\n",
       "    </tr>\n",
       "    <tr>\n",
       "      <th>4</th>\n",
       "      <td>Total Local Load</td>\n",
       "      <td>30060.129179</td>\n",
       "      <td>413.59125</td>\n",
       "      <td>39.349002</td>\n",
       "      <td>2612780</td>\n",
       "      <td>020401010101</td>\n",
       "      <td>wikiSRAT</td>\n",
       "      <td>12</td>\n",
       "      <td>Direct WPF Protection</td>\n",
       "      <td>single</td>\n",
       "      <td>Delaware River Watershed Protection Fund - For...</td>\n",
       "      <td>True</td>\n",
       "    </tr>\n",
       "    <tr>\n",
       "      <th>...</th>\n",
       "      <td>...</td>\n",
       "      <td>...</td>\n",
       "      <td>...</td>\n",
       "      <td>...</td>\n",
       "      <td>...</td>\n",
       "      <td>...</td>\n",
       "      <td>...</td>\n",
       "      <td>...</td>\n",
       "      <td>...</td>\n",
       "      <td>...</td>\n",
       "      <td>...</td>\n",
       "      <td>...</td>\n",
       "    </tr>\n",
       "    <tr>\n",
       "      <th>567197</th>\n",
       "      <td>Point Sources</td>\n",
       "      <td>NaN</td>\n",
       "      <td>0.00000</td>\n",
       "      <td>0.000000</td>\n",
       "      <td>9891532</td>\n",
       "      <td>020403040501</td>\n",
       "      <td>wikiSRAT</td>\n",
       "      <td>12</td>\n",
       "      <td>No restoration or protection</td>\n",
       "      <td>single</td>\n",
       "      <td>NaN</td>\n",
       "      <td>True</td>\n",
       "    </tr>\n",
       "    <tr>\n",
       "      <th>567214</th>\n",
       "      <td>Point Sources</td>\n",
       "      <td>NaN</td>\n",
       "      <td>0.00000</td>\n",
       "      <td>0.000000</td>\n",
       "      <td>10466473</td>\n",
       "      <td>020403040501</td>\n",
       "      <td>wikiSRAT</td>\n",
       "      <td>12</td>\n",
       "      <td>No restoration or protection</td>\n",
       "      <td>single</td>\n",
       "      <td>NaN</td>\n",
       "      <td>True</td>\n",
       "    </tr>\n",
       "    <tr>\n",
       "      <th>567231</th>\n",
       "      <td>Point Sources</td>\n",
       "      <td>NaN</td>\n",
       "      <td>0.00000</td>\n",
       "      <td>0.000000</td>\n",
       "      <td>10466475</td>\n",
       "      <td>020403040501</td>\n",
       "      <td>wikiSRAT</td>\n",
       "      <td>12</td>\n",
       "      <td>No restoration or protection</td>\n",
       "      <td>single</td>\n",
       "      <td>NaN</td>\n",
       "      <td>True</td>\n",
       "    </tr>\n",
       "    <tr>\n",
       "      <th>567248</th>\n",
       "      <td>Point Sources</td>\n",
       "      <td>NaN</td>\n",
       "      <td>0.00000</td>\n",
       "      <td>0.000000</td>\n",
       "      <td>10466691</td>\n",
       "      <td>020403040501</td>\n",
       "      <td>wikiSRAT</td>\n",
       "      <td>12</td>\n",
       "      <td>No restoration or protection</td>\n",
       "      <td>single</td>\n",
       "      <td>NaN</td>\n",
       "      <td>True</td>\n",
       "    </tr>\n",
       "    <tr>\n",
       "      <th>567265</th>\n",
       "      <td>Point Sources</td>\n",
       "      <td>NaN</td>\n",
       "      <td>0.00000</td>\n",
       "      <td>0.000000</td>\n",
       "      <td>27081103</td>\n",
       "      <td>020403040501</td>\n",
       "      <td>wikiSRAT</td>\n",
       "      <td>12</td>\n",
       "      <td>No restoration or protection</td>\n",
       "      <td>single</td>\n",
       "      <td>NaN</td>\n",
       "      <td>True</td>\n",
       "    </tr>\n",
       "  </tbody>\n",
       "</table>\n",
       "<p>200214 rows × 12 columns</p>\n",
       "</div>"
      ],
      "text/plain": [
       "                  Source      Sediment     TotalN     TotalP     comid  \\\n",
       "0       Total Local Load  30060.129179  413.59125  39.349002   2612780   \n",
       "1       Total Local Load  30060.129179  413.59125  39.349002   2612780   \n",
       "2       Total Local Load  30060.129179  413.59125  39.349002   2612780   \n",
       "3       Total Local Load  30060.129179  413.59125  39.349002   2612780   \n",
       "4       Total Local Load  30060.129179  413.59125  39.349002   2612780   \n",
       "...                  ...           ...        ...        ...       ...   \n",
       "567197     Point Sources           NaN    0.00000   0.000000   9891532   \n",
       "567214     Point Sources           NaN    0.00000   0.000000  10466473   \n",
       "567231     Point Sources           NaN    0.00000   0.000000  10466475   \n",
       "567248     Point Sources           NaN    0.00000   0.000000  10466691   \n",
       "567265     Point Sources           NaN    0.00000   0.000000  27081103   \n",
       "\n",
       "                 huc gwlfe_endpoint  huc_level  \\\n",
       "0       020401010101       wikiSRAT         12   \n",
       "1       020401010101       wikiSRAT         12   \n",
       "2       020401010101       wikiSRAT         12   \n",
       "3       020401010101       wikiSRAT         12   \n",
       "4       020401010101       wikiSRAT         12   \n",
       "...              ...            ...        ...   \n",
       "567197  020403040501       wikiSRAT         12   \n",
       "567214  020403040501       wikiSRAT         12   \n",
       "567231  020403040501       wikiSRAT         12   \n",
       "567248  020403040501       wikiSRAT         12   \n",
       "567265  020403040501       wikiSRAT         12   \n",
       "\n",
       "                                  run_group run_type  \\\n",
       "0              No restoration or protection   single   \n",
       "1                    Direct WPF Restoration   single   \n",
       "2       Direct and Indirect WPF Restoration   single   \n",
       "3                           All Restoration   single   \n",
       "4                     Direct WPF Protection   single   \n",
       "...                                     ...      ...   \n",
       "567197         No restoration or protection   single   \n",
       "567214         No restoration or protection   single   \n",
       "567231         No restoration or protection   single   \n",
       "567248         No restoration or protection   single   \n",
       "567265         No restoration or protection   single   \n",
       "\n",
       "                                          funding_sources  with_attenuation  \n",
       "0                                                     NaN              True  \n",
       "1                         Delaware River Restoration Fund              True  \n",
       "2       Delaware River Restoration Fund, Delaware Rive...              True  \n",
       "3       Delaware River Restoration Fund, Delaware Rive...              True  \n",
       "4       Delaware River Watershed Protection Fund - For...              True  \n",
       "...                                                   ...               ...  \n",
       "567197                                                NaN              True  \n",
       "567214                                                NaN              True  \n",
       "567231                                                NaN              True  \n",
       "567248                                                NaN              True  \n",
       "567265                                                NaN              True  \n",
       "\n",
       "[200214 rows x 12 columns]"
      ]
     },
     "execution_count": 120,
     "metadata": {},
     "output_type": "execute_result"
    }
   ],
   "source": [
    "catch_loads_df"
   ]
  },
  {
   "cell_type": "markdown",
   "id": "f086db53",
   "metadata": {},
   "source": [
    "# Save Outputs to Parquet Files\n",
    "The code below converts the data into a locally saved parquet file to avoid having to access the database every time we run the visualization script.  \n",
    "\n",
    "Apache Parquet has become the high-performance binary cloud format of choice for storing dataframes.\n",
    "- https://pandas.pydata.org/docs/user_guide/io.html#io-parquet\n",
    "- https://anaconda.org/TomAugspurger/pandas-performance/notebook\n",
    "- https://geopandas.readthedocs.io/en/latest/docs/reference/api/geopandas.GeoDataFrame.to_parquet.html\n",
    "\n",
    "NOTE: The 'brotli' compression engine writes slower than 'gzip', but decreases storage by ~35% while having similar read speeds."
   ]
  },
  {
   "cell_type": "code",
   "execution_count": 121,
   "id": "5ebeea77-3ee5-46c4-a6c2-1f1913dfc44b",
   "metadata": {},
   "outputs": [
    {
     "name": "stdout",
     "output_type": "stream",
     "text": [
      "Geopandas:  0.14.1\n"
     ]
    }
   ],
   "source": [
    "print(\"Geopandas: \", gpd.__version__)"
   ]
  },
  {
   "cell_type": "code",
   "execution_count": 122,
   "id": "6fd89c1c-edb5-42c3-a632-56e0b0708de5",
   "metadata": {},
   "outputs": [
    {
     "name": "stdout",
     "output_type": "stream",
     "text": [
      "CPU times: user 9.68 s, sys: 369 ms, total: 10.1 s\n",
      "Wall time: 10.2 s\n"
     ]
    }
   ],
   "source": [
    "%%time\n",
    "# Save reprojected geography-only GeoDataframes to `geography` folder\n",
    "reach_gdf.to_parquet(geography_path /'reach_gdf.parquet',compression='brotli')\n",
    "catch_gdf.to_parquet(geography_path /'catch_gdf.parquet',compression='brotli')\n",
    "\n",
    "cluster_gdf.to_parquet(geography_path /'cluster_gdf.parquet',compression='brotli')\n",
    "focusarea_gdf.to_parquet(geography_path /'focusarea_gdf.parquet',compression='brotli')\n",
    "\n",
    "huc12_outlets_drwi_gdf.to_parquet(geography_path /'huc12_outlets_drwi_gdf.parquet',compression='brotli')\n",
    "huc10_outlets_drwi_gdf.to_parquet(geography_path /'huc10_outlets_drwi_gdf.parquet',compression='brotli')\n",
    "huc08_outlets_drwi_gdf.to_parquet(geography_path /'huc08_outlets_drwi_gdf.parquet',compression='brotli')"
   ]
  },
  {
   "cell_type": "code",
   "execution_count": 123,
   "id": "674a623f",
   "metadata": {},
   "outputs": [],
   "source": [
    "# New file with inlet HUC12s and COMIDs\n",
    "huc12_in_outlets_drwi_gdf.to_parquet(geography_path /'huc12_in_outlets_drwi_gdf.parquet',compression='gzip')"
   ]
  },
  {
   "cell_type": "code",
   "execution_count": 124,
   "id": "1b06c5c9-9e89-4a24-91b2-468287bedc32",
   "metadata": {},
   "outputs": [
    {
     "name": "stdout",
     "output_type": "stream",
     "text": [
      "CPU times: user 465 ms, sys: 22.1 ms, total: 487 ms\n",
      "Wall time: 500 ms\n"
     ]
    }
   ],
   "source": [
    "%%time\n",
    "# Save WikiSRAT results\n",
    "reach_concs_df.to_parquet(data_output_path /'reach_concs_df.parquet',compression='gzip')\n",
    "catch_loads_df.to_parquet(data_output_path /'catch_loads_df.parquet',compression='gzip')"
   ]
  },
  {
   "cell_type": "code",
   "execution_count": null,
   "id": "318733ff",
   "metadata": {},
   "outputs": [],
   "source": []
  }
 ],
 "metadata": {
  "kernelspec": {
   "display_name": "Python 3.9.13 ('drwi_pa')",
   "language": "python",
   "name": "python3"
  },
  "language_info": {
   "codemirror_mode": {
    "name": "ipython",
    "version": 3
   },
   "file_extension": ".py",
   "mimetype": "text/x-python",
   "name": "python",
   "nbconvert_exporter": "python",
   "pygments_lexer": "ipython3",
   "version": "3.11.7"
  },
  "toc-autonumbering": true,
  "toc-showcode": false,
  "toc-showmarkdowntxt": false,
  "toc-showtags": false,
  "vscode": {
   "interpreter": {
    "hash": "be2ad55ef110ae35ba44efbbda9909011312709cc16366f2adb735c9d7f96037"
   }
  }
 },
 "nbformat": 4,
 "nbformat_minor": 5
}
